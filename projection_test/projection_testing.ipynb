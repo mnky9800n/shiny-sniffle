{
 "cells": [
  {
   "cell_type": "code",
   "execution_count": 1,
   "metadata": {},
   "outputs": [],
   "source": [
    "import myCalc as calc\n",
    "import myProjection as projection\n",
    "import pandas as pd"
   ]
  },
  {
   "cell_type": "markdown",
   "metadata": {},
   "source": [
    "# projection code within myCalc module\n",
    "\n",
    "Do not use `myCalc.projection()` function. I think the results look wrong. I left `myCalc.projection()` function in the myCalc module so you could compare the results in the ipynb I updated (attached).\n",
    "\n",
    "I also updated the myCalc module. The use (i.e. input) is slightly different than before.  So if you used the old version of the myCalc module in any other way or any other notebook, then your code might break. Sorry. I'm a terrible coder.\n",
    "\n",
    "I also updated the myProjection module to work with the new version of the myCalc module. So please use those new versions together to get the `projection.geo_project()` function working properly.\n",
    "\n",
    "It's a mess. I know. I think there is still room for improvement, but this is the best I have right now.\n",
    "\n",
    "Good luck."
   ]
  },
  {
   "cell_type": "code",
   "execution_count": 2,
   "metadata": {},
   "outputs": [
    {
     "data": {
      "text/html": [
       "<div>\n",
       "<table border=\"1\" class=\"dataframe\">\n",
       "  <thead>\n",
       "    <tr style=\"text-align: right;\">\n",
       "      <th></th>\n",
       "      <th>la</th>\n",
       "      <th>lo</th>\n",
       "      <th>xx</th>\n",
       "      <th>yy</th>\n",
       "    </tr>\n",
       "  </thead>\n",
       "  <tbody>\n",
       "    <tr>\n",
       "      <th>0</th>\n",
       "      <td>31</td>\n",
       "      <td>131</td>\n",
       "      <td>106.360797</td>\n",
       "      <td>-32.517759</td>\n",
       "    </tr>\n",
       "    <tr>\n",
       "      <th>1</th>\n",
       "      <td>32</td>\n",
       "      <td>132</td>\n",
       "      <td>0.000000</td>\n",
       "      <td>0.000000</td>\n",
       "    </tr>\n",
       "    <tr>\n",
       "      <th>2</th>\n",
       "      <td>33</td>\n",
       "      <td>133</td>\n",
       "      <td>-107.430858</td>\n",
       "      <td>28.786012</td>\n",
       "    </tr>\n",
       "  </tbody>\n",
       "</table>\n",
       "</div>"
      ],
      "text/plain": [
       "   la   lo          xx         yy\n",
       "0  31  131  106.360797 -32.517759\n",
       "1  32  132    0.000000   0.000000\n",
       "2  33  133 -107.430858  28.786012"
      ]
     },
     "execution_count": 2,
     "metadata": {},
     "output_type": "execute_result"
    }
   ],
   "source": [
    "calc.projection(132, 32, 45, pd.DataFrame({'la':[31,32,33],'lo':[131,132,133]}))"
   ]
  },
  {
   "cell_type": "markdown",
   "metadata": {},
   "source": [
    "# geo_project code within myProjection module"
   ]
  },
  {
   "cell_type": "code",
   "execution_count": 3,
   "metadata": {},
   "outputs": [],
   "source": [
    "originLo = 132 # origin longitude\n",
    "originLa = 32 # origin latitude\n",
    "bearing = 45 # degrees from north\n",
    "transectDistance = 250 # km (defines end points of the transection, \n",
    "# transectDistance really shouldn't be too big because of earth's curvature \n",
    "# but because of our df sample lons/lats i made this number big)\n",
    "\n",
    "df = pd.DataFrame({'la':[31,31.5, 32, 32.5, 33, 33.5],'lo':[131,131.5,132,132.5,133,133.5]})\n",
    "\n",
    "result = projection.geo_project(df,originLo,originLa,bearing,transectDistance,maxDist=0)\n",
    "\n",
    "# origin 132, 32 (index==2) calculation is not exactly zero but it is close to zero. \n",
    "# there must be some rounding or precision effects."
   ]
  },
  {
   "cell_type": "code",
   "execution_count": 4,
   "metadata": {},
   "outputs": [
    {
     "data": {
      "text/html": [
       "<div>\n",
       "<table border=\"1\" class=\"dataframe\">\n",
       "  <thead>\n",
       "    <tr style=\"text-align: right;\">\n",
       "      <th></th>\n",
       "      <th>la</th>\n",
       "      <th>lo</th>\n",
       "      <th>xx</th>\n",
       "      <th>yy</th>\n",
       "    </tr>\n",
       "  </thead>\n",
       "  <tbody>\n",
       "    <tr>\n",
       "      <th>0</th>\n",
       "      <td>32.0</td>\n",
       "      <td>132.0</td>\n",
       "      <td>-2.842171e-14</td>\n",
       "      <td>-0.000003</td>\n",
       "    </tr>\n",
       "    <tr>\n",
       "      <th>1</th>\n",
       "      <td>32.5</td>\n",
       "      <td>132.5</td>\n",
       "      <td>-7.038325e+01</td>\n",
       "      <td>-18.743751</td>\n",
       "    </tr>\n",
       "    <tr>\n",
       "      <th>2</th>\n",
       "      <td>33.0</td>\n",
       "      <td>133.0</td>\n",
       "      <td>-1.404647e+02</td>\n",
       "      <td>-37.959889</td>\n",
       "    </tr>\n",
       "  </tbody>\n",
       "</table>\n",
       "</div>"
      ],
      "text/plain": [
       "     la     lo            xx         yy\n",
       "0  32.0  132.0 -2.842171e-14  -0.000003\n",
       "1  32.5  132.5 -7.038325e+01 -18.743751\n",
       "2  33.0  133.0 -1.404647e+02 -37.959889"
      ]
     },
     "execution_count": 4,
     "metadata": {},
     "output_type": "execute_result"
    }
   ],
   "source": [
    "originLo = 132 # origin longitude\n",
    "originLa = 32 # origin latitude\n",
    "bearing = 55 # degrees from north\n",
    "transectDistance = 250 # km\n",
    "\n",
    "projection.geo_project(df,originLo,originLa,bearing,transectDistance,maxDist=0)\n",
    "\n",
    "# the first point 131,31 is outside of the range of transect end points after the projection (the new longitude and latitude)\n",
    "# so it was removed from the final product\n",
    "\n",
    "# the values differ from the ones above at a bearing of 45"
   ]
  },
  {
   "cell_type": "markdown",
   "metadata": {},
   "source": [
    "# John's old work"
   ]
  },
  {
   "cell_type": "code",
   "execution_count": 5,
   "metadata": {},
   "outputs": [
    {
     "data": {
      "text/html": [
       "<div>\n",
       "<table border=\"1\" class=\"dataframe\">\n",
       "  <thead>\n",
       "    <tr style=\"text-align: right;\">\n",
       "      <th></th>\n",
       "      <th>la</th>\n",
       "      <th>lo</th>\n",
       "      <th>xx</th>\n",
       "      <th>yy</th>\n",
       "    </tr>\n",
       "  </thead>\n",
       "  <tbody>\n",
       "    <tr>\n",
       "      <th>0</th>\n",
       "      <td>31</td>\n",
       "      <td>131</td>\n",
       "      <td>106.360797</td>\n",
       "      <td>-32.517759</td>\n",
       "    </tr>\n",
       "    <tr>\n",
       "      <th>1</th>\n",
       "      <td>32</td>\n",
       "      <td>132</td>\n",
       "      <td>0.000000</td>\n",
       "      <td>0.000000</td>\n",
       "    </tr>\n",
       "    <tr>\n",
       "      <th>2</th>\n",
       "      <td>33</td>\n",
       "      <td>133</td>\n",
       "      <td>-107.430858</td>\n",
       "      <td>28.786012</td>\n",
       "    </tr>\n",
       "  </tbody>\n",
       "</table>\n",
       "</div>"
      ],
      "text/plain": [
       "   la   lo          xx         yy\n",
       "0  31  131  106.360797 -32.517759\n",
       "1  32  132    0.000000   0.000000\n",
       "2  33  133 -107.430858  28.786012"
      ]
     },
     "execution_count": 5,
     "metadata": {},
     "output_type": "execute_result"
    }
   ],
   "source": [
    "calc.projection(132, 32, 55, pd.DataFrame({'la':[31,32,33],'lo':[131,132,133]}))"
   ]
  },
  {
   "cell_type": "code",
   "execution_count": 6,
   "metadata": {},
   "outputs": [
    {
     "data": {
      "text/html": [
       "<div>\n",
       "<table border=\"1\" class=\"dataframe\">\n",
       "  <thead>\n",
       "    <tr style=\"text-align: right;\">\n",
       "      <th></th>\n",
       "      <th>la</th>\n",
       "      <th>lo</th>\n",
       "      <th>xx</th>\n",
       "      <th>yy</th>\n",
       "    </tr>\n",
       "  </thead>\n",
       "  <tbody>\n",
       "    <tr>\n",
       "      <th>0</th>\n",
       "      <td>31</td>\n",
       "      <td>131</td>\n",
       "      <td>106.360797</td>\n",
       "      <td>-32.517759</td>\n",
       "    </tr>\n",
       "    <tr>\n",
       "      <th>1</th>\n",
       "      <td>32</td>\n",
       "      <td>132</td>\n",
       "      <td>0.000000</td>\n",
       "      <td>0.000000</td>\n",
       "    </tr>\n",
       "    <tr>\n",
       "      <th>2</th>\n",
       "      <td>33</td>\n",
       "      <td>133</td>\n",
       "      <td>-107.430858</td>\n",
       "      <td>28.786012</td>\n",
       "    </tr>\n",
       "  </tbody>\n",
       "</table>\n",
       "</div>"
      ],
      "text/plain": [
       "   la   lo          xx         yy\n",
       "0  31  131  106.360797 -32.517759\n",
       "1  32  132    0.000000   0.000000\n",
       "2  33  133 -107.430858  28.786012"
      ]
     },
     "execution_count": 6,
     "metadata": {},
     "output_type": "execute_result"
    }
   ],
   "source": [
    "calc.projection(132, 32, 65, pd.DataFrame({'la':[31,32,33],'lo':[131,132,133]}))"
   ]
  },
  {
   "cell_type": "code",
   "execution_count": null,
   "metadata": {
    "collapsed": true
   },
   "outputs": [],
   "source": []
  },
  {
   "cell_type": "code",
   "execution_count": null,
   "metadata": {
    "collapsed": true
   },
   "outputs": [],
   "source": []
  }
 ],
 "metadata": {
  "anaconda-cloud": {},
  "kernelspec": {
   "display_name": "Python 3",
   "language": "python",
   "name": "python3"
  },
  "language_info": {
   "codemirror_mode": {
    "name": "ipython",
    "version": 3
   },
   "file_extension": ".py",
   "mimetype": "text/x-python",
   "name": "python",
   "nbconvert_exporter": "python",
   "pygments_lexer": "ipython3",
   "version": "3.5.3"
  }
 },
 "nbformat": 4,
 "nbformat_minor": 1
}
