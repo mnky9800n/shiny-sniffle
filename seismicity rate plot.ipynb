{
 "cells": [
  {
   "cell_type": "code",
   "execution_count": 1,
   "metadata": {
    "collapsed": true
   },
   "outputs": [],
   "source": [
    "%matplotlib inline\n",
    "import pandas as pd\n",
    "from mpl_toolkits.basemap import Basemap\n",
    "import numpy as np\n",
    "from utilities import timestamps\n",
    "from utilities.plotting import equi\n",
    "from utilities.polygon_selection import get_node_data\n",
    "from utilities.stats import calc_fmd_stats_with_mc\n",
    "import matplotlib.pyplot as plt\n",
    "from scipy import spatial"
   ]
  },
  {
   "cell_type": "code",
   "execution_count": 2,
   "metadata": {
    "collapsed": true
   },
   "outputs": [],
   "source": [
    "df = pd.read_csv('data/ccu.dat', delimiter='\\t', names=['lon', 'lat', 'decimal_year', 'month', 'day', 'mag'\n",
    "                                                        , 'depth', 'hour', 'minute', 'second', 'horizontal_error'\n",
    "                                                        , 'depth_error', 'mag_err'])\n",
    "df['timestamp'] = df.decimal_year.apply(timestamps.convert_decimal_year_to_numpy_datetime64)"
   ]
  },
  {
   "cell_type": "code",
   "execution_count": 3,
   "metadata": {
    "collapsed": true
   },
   "outputs": [],
   "source": [
    "df = df.set_index('timestamp')"
   ]
  },
  {
   "cell_type": "code",
   "execution_count": 6,
   "metadata": {
    "collapsed": true
   },
   "outputs": [],
   "source": [
    "def plot_seismicity_rate(dataframe, **kwargs):\n",
    "    \"\"\"\n",
    "    plots seismicity rate for earthquake catalog\n",
    "    \n",
    "    accepts kwargs for matplotlib axes object.\n",
    "    \n",
    "    assumes dataframe has timestamp column\n",
    "    \"\"\"\n",
    "    df = dataframe.copy()\n",
    "#     df = df.set_index('timestamp')\n",
    "    df['seismicity_rate'] = np.arange(0, df.shape[0], 1)\n",
    "    \n",
    "    fig, ax = plt.subplots(figsize=(10, 4))\n",
    "    df.seismicity_rate.plot(ax=ax, **kwargs)\n",
    "    ax.set_xlabel('')\n",
    "    ax.set_ylabel('cumulative eq count')\n",
    "    if df.shape[0] > 10000:\n",
    "        ax.ticklabel_format(style='sci', axis='y', scilimits=(0, 0))\n",
    "        \n",
    "    return fig, ax\n",
    "    "
   ]
  },
  {
   "cell_type": "code",
   "execution_count": 7,
   "metadata": {
    "collapsed": false
   },
   "outputs": [
    {
     "data": {
      "text/plain": [
       "(<matplotlib.figure.Figure at 0x7f727e801198>,\n",
       " <matplotlib.axes._subplots.AxesSubplot at 0x7f727e75f048>)"
      ]
     },
     "execution_count": 7,
     "metadata": {},
     "output_type": "execute_result"
    },
    {
     "data": {
      "image/png": "[encoded data removed]",
      "text/plain": [
       "<matplotlib.figure.Figure at 0x7f727e801198>"
      ]
     },
     "metadata": {},
     "output_type": "display_data"
    }
   ],
   "source": [
    "plot_seismicity_rate(dataframe=df)"
   ]
  },
  {
   "cell_type": "code",
   "execution_count": null,
   "metadata": {
    "collapsed": true
   },
   "outputs": [],
   "source": []
  }
 ],
 "metadata": {
  "kernelspec": {
   "display_name": "Python 3",
   "language": "python",
   "name": "python3"
  },
  "language_info": {
   "codemirror_mode": {
    "name": "ipython",
    "version": 3
   },
   "file_extension": ".py",
   "mimetype": "text/x-python",
   "name": "python",
   "nbconvert_exporter": "python",
   "pygments_lexer": "ipython3",
   "version": "3.6.0"
  }
 },
 "nbformat": 4,
 "nbformat_minor": 2
}
