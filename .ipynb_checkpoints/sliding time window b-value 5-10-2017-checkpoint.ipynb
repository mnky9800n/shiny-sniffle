{
 "cells": [
  {
   "cell_type": "code",
   "execution_count": 1,
   "metadata": {
    "collapsed": true
   },
   "outputs": [],
   "source": [
    "%matplotlib inline\n",
    "import pandas as pd\n",
    "import numpy as np\n",
    "from utilities import plotting\n",
    "from utilities import stats\n",
    "from utilities import timestamps\n",
    "from utilities import import_export\n",
    "from utilities import polygon_selection\n",
    "from mpl_toolkits.basemap import Basemap\n",
    "from itertools import product\n",
    "import matplotlib.pyplot as plt"
   ]
  },
  {
   "cell_type": "code",
   "execution_count": 234,
   "metadata": {
    "collapsed": true
   },
   "outputs": [],
   "source": [
    "df = import_export.import_catalog(location='data/ccu.dat', delimiter='\\t', names=['lon', 'lat', 'decimal_year', 'month', 'day', 'mag'\n",
    "                                                        , 'depth', 'hour', 'minute', 'second', 'horizontal_error'\n",
    "                                                        , 'depth_error', 'mag_err'])\n",
    "kumamoto = {'coordinates':(130.763, 32.7545), 'time':'2016-04-14 12:26:00', 'tz':'UTC', 'magnitude':7.0}\n",
    "eq = kumamoto\n",
    "\n",
    "df_regional = polygon_selection.get_node_data(data=df, node=eq['coordinates'], radius=75, m=1)\n",
    "df_regional = df_regional.loc[df_regional.index < eq['time']]\n",
    "df_regional = df_regional[df_regional.depth <=25]\n",
    "df_regional = df_regional[df_regional.mag >= 0.5]"
   ]
  },
  {
   "cell_type": "code",
   "execution_count": 180,
   "metadata": {
    "collapsed": true
   },
   "outputs": [],
   "source": [
    "def calc_b_with_time_window(dataframe, n_eq, time_window_center):\n",
    "    df_window = dataframe.copy()\n",
    "    time_window_index = df_window.index.get_loc(time_window_center, method='pad')\n",
    "    df_window = df_window.ix[time_window_index - n_eq : time_window_index + n_eq]\n",
    "    a, b, bstd, n, mc = stats.calc_fmd_stats_with_mc(df_window.mag)\n",
    "    return a, b, bstd, n, mc, time_window_index"
   ]
  },
  {
   "cell_type": "code",
   "execution_count": 181,
   "metadata": {},
   "outputs": [
    {
     "data": {
      "text/plain": [
       "Timestamp('2003-07-31 00:00:00', freq='3M')"
      ]
     },
     "execution_count": 181,
     "metadata": {},
     "output_type": "execute_result"
    }
   ],
   "source": [
    "time_window_centers = pd.date_range('01-01-1991', eq['time'], freq='3m')\n",
    "time_window_centers[50]"
   ]
  },
  {
   "cell_type": "code",
   "execution_count": 193,
   "metadata": {},
   "outputs": [
    {
     "ename": "TypeError",
     "evalue": "'Timestamp' object does not support indexing",
     "output_type": "error",
     "traceback": [
      "\u001b[0;31m---------------------------------------------------------------------------\u001b[0m",
      "\u001b[0;31mTypeError\u001b[0m                                 Traceback (most recent call last)",
      "\u001b[0;32m<ipython-input-193-9c521fd01c3f>\u001b[0m in \u001b[0;36m<module>\u001b[0;34m()\u001b[0m\n\u001b[0;32m----> 1\u001b[0;31m \u001b[0mdf\u001b[0m\u001b[0;34m.\u001b[0m\u001b[0mbetween_time\u001b[0m\u001b[0;34m(\u001b[0m\u001b[0mstart_time\u001b[0m\u001b[0;34m=\u001b[0m\u001b[0mtime_window_centers\u001b[0m\u001b[0;34m[\u001b[0m\u001b[0;36m50\u001b[0m\u001b[0;34m]\u001b[0m\u001b[0;34m[\u001b[0m\u001b[0;36m0\u001b[0m\u001b[0;34m]\u001b[0m\u001b[0;34m,\u001b[0m \u001b[0mend_time\u001b[0m\u001b[0;34m=\u001b[0m\u001b[0mtime_window_centers\u001b[0m\u001b[0;34m[\u001b[0m\u001b[0;36m51\u001b[0m\u001b[0;34m]\u001b[0m\u001b[0;34m[\u001b[0m\u001b[0;36m0\u001b[0m\u001b[0;34m]\u001b[0m\u001b[0;34m)\u001b[0m\u001b[0;34m\u001b[0m\u001b[0m\n\u001b[0m",
      "\u001b[0;31mTypeError\u001b[0m: 'Timestamp' object does not support indexing"
     ]
    }
   ],
   "source": [
    "df.between_time(start_time=time_window_centers[50], end_time=time_window_centers[51])"
   ]
  },
  {
   "cell_type": "code",
   "execution_count": 182,
   "metadata": {},
   "outputs": [
    {
     "data": {
      "text/plain": [
       "lon                  138.675000\n",
       "lat                   33.563333\n",
       "decimal_year        1991.782927\n",
       "month                 10.000000\n",
       "day                   13.000000\n",
       "mag                    2.700000\n",
       "depth                 41.000000\n",
       "hour                  18.000000\n",
       "minute                26.000000\n",
       "second                30.300000\n",
       "horizontal_error       1.929859\n",
       "depth_error                 NaN\n",
       "mag_err                     NaN\n",
       "Name: 1991-10-13 18:26:30.300007, dtype: float64"
      ]
     },
     "execution_count": 182,
     "metadata": {},
     "output_type": "execute_result"
    }
   ],
   "source": [
    "df.ix[df_regional.index.get_loc(time_window_centers[50], method='pad')]"
   ]
  },
  {
   "cell_type": "code",
   "execution_count": 183,
   "metadata": {},
   "outputs": [
    {
     "data": {
      "text/plain": [
       "(3.4696639347306002,\n",
       " 0.94300602870761829,\n",
       " 0.036996189018512891,\n",
       " 645,\n",
       " 0.69999999999999996,\n",
       " 19646)"
      ]
     },
     "execution_count": 183,
     "metadata": {},
     "output_type": "execute_result"
    }
   ],
   "source": [
    "calc_b_with_time_window(df_regional, 500, time_window_centers[50])"
   ]
  },
  {
   "cell_type": "code",
   "execution_count": 184,
   "metadata": {
    "collapsed": true
   },
   "outputs": [],
   "source": [
    "b_over_time = []\n",
    "\n",
    "r = 15\n",
    "df_local = df_regional[df_regional.distance <= r].copy()\n",
    "\n",
    "for t in time_window_centers:\n",
    "    row = (t,) + calc_b_with_time_window(dataframe=df_regional, n_eq=1000, time_window_center=t)\n",
    "    b_over_time.append(row)"
   ]
  },
  {
   "cell_type": "code",
   "execution_count": 185,
   "metadata": {
    "collapsed": true
   },
   "outputs": [],
   "source": [
    "b_over_time = np.array(b_over_time)\n",
    "bt_df = pd.DataFrame(b_over_time, columns=['time', 'a', 'b', 'bstd', 'n', 'mc', 't_index'])\n",
    "bt_df = bt_df.set_index(bt_df['time'])"
   ]
  },
  {
   "cell_type": "code",
   "execution_count": 204,
   "metadata": {
    "scrolled": false
   },
   "outputs": [
    {
     "data": {
      "text/plain": [
       "<matplotlib.axes._subplots.AxesSubplot at 0x7f59fbac3400>"
      ]
     },
     "execution_count": 204,
     "metadata": {},
     "output_type": "execute_result"
    },
    {
     "data": {
      "image/png": "[encoded data removed]",
      "text/plain": [
       "<matplotlib.figure.Figure at 0x7f59fba8e2b0>"
      ]
     },
     "metadata": {},
     "output_type": "display_data"
    }
   ],
   "source": [
    "fig, ax = plt.subplots(figsize=(15, 5))\n",
    "\n",
    "bt_df.plot(ax=ax, kind='scatter', yerr='bstd', xerr=1000, x='t_index', y='b'\n",
    "          ,color='black', edgecolor='black', marker='.')\n",
    "\n",
    "# ax.set_xticks(bt_df.t_index)"
   ]
  },
  {
   "cell_type": "code",
   "execution_count": 319,
   "metadata": {},
   "outputs": [
    {
     "data": {
      "text/plain": [
       "602"
      ]
     },
     "execution_count": 319,
     "metadata": {},
     "output_type": "execute_result"
    }
   ],
   "source": [
    "bt_df.n.min()"
   ]
  },
  {
   "cell_type": "code",
   "execution_count": 316,
   "metadata": {},
   "outputs": [
    {
     "data": {
      "image/png": "[encoded data removed]",
      "text/plain": [
       "<matplotlib.figure.Figure at 0x7f59f9dee5c0>"
      ]
     },
     "metadata": {},
     "output_type": "display_data"
    }
   ],
   "source": [
    "fig, ax = plt.subplots(figsize=(15,5))\n",
    "ax.errorbar(x=time_window_centers, y=bt_df.b, yerr=bt_df.bstd, fmt='o'\n",
    "           ,color='black', marker='.')\n",
    "\n",
    "ax.set_ylabel('b-value')\n",
    "ax.set_ylim(0.5, 1.2)\n",
    "\n",
    "ax.set_xticks(pd.date_range('01-01-1990', eq['time'], freq='12m'))\n",
    "\n",
    "# ax.scatter(x=pd.to_datetime('06-13-1997'), y=0.65, marker='*', s=150)\n",
    "\n",
    "for y, t in zip(bt_df.b.values, time_window_centers):\n",
    "    try:\n",
    "        tix = df_regional.index.get_loc(t, method='pad')\n",
    "        lower_t = df_regional.ix[tix - 1000].name\n",
    "        upper_t = df_regional.ix[tix + 1000].name\n",
    "                        \n",
    "        ax.plot_date(x=[lower_t, upper_t], y=(y, y), linewidth=2, marker='None', linestyle='-'\n",
    "                    ,color='black')\n",
    "    except IndexError:\n",
    "        pass\n",
    "\n",
    "ax.grid(True)"
   ]
  },
  {
   "cell_type": "code",
   "execution_count": 265,
   "metadata": {},
   "outputs": [
    {
     "data": {
      "text/plain": [
       "Timestamp('2009-10-31 00:00:00', freq='3M')"
      ]
     },
     "execution_count": 265,
     "metadata": {},
     "output_type": "execute_result"
    }
   ],
   "source": [
    "time_window_centers[75]"
   ]
  },
  {
   "cell_type": "code",
   "execution_count": 270,
   "metadata": {},
   "outputs": [
    {
     "data": {
      "text/plain": [
       "34256"
      ]
     },
     "execution_count": 270,
     "metadata": {},
     "output_type": "execute_result"
    }
   ],
   "source": [
    "df_regional.index.get_loc(time_window_centers[75], method='pad')"
   ]
  },
  {
   "cell_type": "code",
   "execution_count": 276,
   "metadata": {},
   "outputs": [],
   "source": [
    "tix = df_regional.index.get_loc(time_window_centers[75], method='pad')\n",
    "lower_t = df_regional.ix[tix-1000].name\n",
    "upper_t = df_regional.ix[tix+1000].name"
   ]
  },
  {
   "cell_type": "code",
   "execution_count": 309,
   "metadata": {},
   "outputs": [
    {
     "data": {
      "text/plain": [
       "DatetimeIndex(['1991-01-31', '1991-04-30', '1991-07-31', '1991-10-31',\n",
       "               '1992-01-31', '1992-04-30', '1992-07-31', '1992-10-31',\n",
       "               '1993-01-31', '1993-04-30',\n",
       "               ...\n",
       "               '2013-10-31', '2014-01-31', '2014-04-30', '2014-07-31',\n",
       "               '2014-10-31', '2015-01-31', '2015-04-30', '2015-07-31',\n",
       "               '2015-10-31', '2016-01-31'],\n",
       "              dtype='datetime64[ns]', name='time', length=101, freq=None)"
      ]
     },
     "execution_count": 309,
     "metadata": {},
     "output_type": "execute_result"
    }
   ],
   "source": [
    "bt_df.index"
   ]
  },
  {
   "cell_type": "code",
   "execution_count": 239,
   "metadata": {},
   "outputs": [
    {
     "data": {
      "text/plain": [
       "lon                  143.476667\n",
       "lat                   39.525000\n",
       "decimal_year        1990.026078\n",
       "month                  1.000000\n",
       "day                   10.000000\n",
       "mag                    3.100000\n",
       "depth                  0.000000\n",
       "hour                  12.000000\n",
       "minute                26.000000\n",
       "second                36.999998\n",
       "horizontal_error       7.396479\n",
       "depth_error                 NaN\n",
       "mag_err                     NaN\n",
       "Name: 1990-01-10 12:26:36.999991, dtype: float64"
      ]
     },
     "execution_count": 239,
     "metadata": {},
     "output_type": "execute_result"
    }
   ],
   "source": [
    "df.ix[296]"
   ]
  }
 ],
 "metadata": {
  "kernelspec": {
   "display_name": "Python 3",
   "language": "python",
   "name": "python3"
  },
  "language_info": {
   "codemirror_mode": {
    "name": "ipython",
    "version": 3
   },
   "file_extension": ".py",
   "mimetype": "text/x-python",
   "name": "python",
   "nbconvert_exporter": "python",
   "pygments_lexer": "ipython3",
   "version": "3.5.3"
  }
 },
 "nbformat": 4,
 "nbformat_minor": 2
}
