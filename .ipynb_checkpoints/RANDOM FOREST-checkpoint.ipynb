{
 "cells": [
  {
   "cell_type": "code",
   "execution_count": 4,
   "metadata": {
    "collapsed": true
   },
   "outputs": [],
   "source": [
    "%matplotlib inline\n",
    "import pandas as pd\n",
    "import numpy as np\n",
    "from utilities import plotting\n",
    "from utilities import stats\n",
    "from utilities import timestamps\n",
    "from utilities import import_export\n",
    "from utilities import polygon_selection\n",
    "from mpl_toolkits.basemap import Basemap\n",
    "from itertools import product\n",
    "import matplotlib.pyplot as plt\n",
    "from obspy.imaging.beachball import beach\n",
    "import bs4 as bs\n",
    "import matplotlib as mpl\n",
    "from scipy.stats import linregress\n",
    "import scipy\n",
    "\n",
    "\n",
    "def calc_b_with_time_window(dataframe, n_eq, time_window_center):\n",
    "    df_window = dataframe.copy()\n",
    "    time_window_index = df_window.index.get_loc(time_window_center, method='pad')\n",
    "    \n",
    "    lower_index = time_window_index - n_eq\n",
    "    if lower_index < 0:\n",
    "        lower_index = 0\n",
    "    \n",
    "#     df_window = df_window.ix[time_window_index - n_eq : time_window_index + n_eq]\n",
    "    df_window = df_window.ix[lower_index : time_window_index + n_eq]\n",
    "    a, b, bstd, n, mc = stats.calc_fmd_stats_with_mc(df_window.mag)\n",
    "    return a, b, bstd, n, mc, time_window_index\n",
    "\n",
    "def calc_b_value_for_parameters(dataframe, parameters, location):\n",
    "    # TODO: will multiprocessing speed this up?\n",
    "    rows = []\n",
    "    for r, t in parameters:\n",
    "        try:\n",
    "#             for r, t in parameters:\n",
    "            df_c = polygon_selection.get_node_data(node=location, data=dataframe, radius=r, m=1)\n",
    "            df_c = df_c.loc[df_c.index >= t]\n",
    "\n",
    "            a, b, bstd, n, mc = stats.calc_fmd_stats_with_mc(df_c.mag)\n",
    "            row = np.array((r,) + (t,) + (a, b, bstd, n, mc) + tuple(location))\n",
    "            rows.append(row)\n",
    "        except:\n",
    "            row = np.array((r,) + (t,) +(np.nan, np.nan, np.nan, np.nan, np.nan) + tuple(location))\n",
    "\n",
    "    return rows\n",
    "\n",
    "def calc_b_for_parameters_attr_iter(attr):\n",
    "    dataframe, parameters, location = attr\n",
    "    return calc_b_value_for_parameters(dataframe, parameters, location)\n",
    "\n",
    "def plot_beach_ball(earthquake, m, ax, **kwargs):\n",
    "    lon, lat = earthquake['coordinates']\n",
    "    x, y = m(lon, lat)\n",
    "    b = beach(earthquake['focal_mech'], xy=(x, y), **kwargs)\n",
    "    b.set_zorder(10)\n",
    "    ax.add_collection(b)\n",
    "    \n",
    "def parse_coords(c):\n",
    "    c = c.replace('\\t', '')\n",
    "    c = c.replace('\\n', '')\n",
    "    c = c.strip()\n",
    "    c = c.split(' ')\n",
    "    c = [[float(co) for co in coord.split(',')] for coord in c]\n",
    "    c = np.array([np.array(co) for co in c])\n",
    "    return c\n",
    "\n",
    "def shape_for_scatter_plot(bdf):\n",
    "    bdf = bdf[bdf.n >= 50].copy()\n",
    "    bdf['years before'] = bdf['start_time'].values.astype('datetime64[Y]').astype(int) - 20\n",
    "    return bdf\n",
    "\n",
    "def rupture_length(magnitude):\n",
    "    \"\"\"\n",
    "    calculates rupture length using helmstetter relation\n",
    "    \"\"\"\n",
    "    return 0.01 * 10 ** (0.5 * magnitude)\n",
    "\n",
    "def D_greater_than_calpha(D, alpha, n, m):\n",
    "    \"\"\"\n",
    "    Compares the KS statistic to expected alpha.\n",
    "    \n",
    "    Returns True if significant.\n",
    "    \"\"\"\n",
    "    c_alpha = np.sqrt(-0.5 * np.log(alpha/2.))\n",
    "    D_comparison = c_alpha * np.sqrt( (n + m) / (n * m) )\n",
    "    if D > D_comparison:\n",
    "        return True\n",
    "    else:\n",
    "        return False"
   ]
  },
  {
   "cell_type": "code",
   "execution_count": 5,
   "metadata": {
    "collapsed": true
   },
   "outputs": [],
   "source": [
    "kumamoto = {'coordinates':(130.763, 32.7545), 'time':'2016-04-14 12:26:00', 'tz':'UTC', 'magnitude':7.3, 'name':'Kumamoto', 'focal_mech':[128  , 71 , -14]}\n",
    "foreshock1 = {'focal_mech':[299, 79, -10], 'magnitude':6.5, 'coordinates':[130.808667, 32.741667]}\n",
    "foreshock2 = {'focal_mech':[30, 77, 180], 'magnitude':6.4, 'coordinates':(130.777667, 32.700667)}\n",
    "rupture_length = rupture_length(7.3)\n"
   ]
  },
  {
   "cell_type": "code",
   "execution_count": 6,
   "metadata": {
    "collapsed": true
   },
   "outputs": [],
   "source": [
    "df = import_export.import_catalog(location='data/ccu.dat', delimiter='\\t', names=['lon', 'lat', 'decimal_year', 'month', 'day', 'mag'\n",
    "                                                        , 'depth', 'hour', 'minute', 'second', 'horizontal_error'\n",
    "                                                        , 'depth_error', 'mag_err'])\n",
    "eq = kumamoto\n",
    "\n",
    "df_regional = polygon_selection.get_node_data(data=df, node=eq['coordinates'], radius=3*rupture_length, m=1)\n",
    "df_regional = df_regional.loc[df_regional.index < eq['time']]\n",
    "df_regional = df_regional[df_regional.depth <=25]\n",
    "df_regional = df_regional[df_regional.mag >= 0.5]\n",
    "\n",
    "soup = bs.BeautifulSoup(open('/home/max/research/kumamoto/data/kyushu_fault.kml'), 'lxml')\n",
    "fault_coordinates = [parse_coords(tag.text) for tag in soup.findAll('coordinates')]"
   ]
  },
  {
   "cell_type": "code",
   "execution_count": 7,
   "metadata": {},
   "outputs": [
    {
     "data": {
      "text/plain": [
       "55080"
      ]
     },
     "execution_count": 7,
     "metadata": {},
     "output_type": "execute_result"
    }
   ],
   "source": [
    "radii = np.arange(5, (rupture_length * 1.5) + 1, 5)\n",
    "timii = pd.date_range(start='01-01-1990', end=eq['time'], freq='12M')\n",
    "radii = np.arange(5, 90, 1)\n",
    "radii_compare = [ 90,]\n",
    "depths = np.arange(1, 25, 1)\n",
    "parameters = [x for x in product(*[radii, radii_compare, timii, depths])]\n",
    "len(parameters)"
   ]
  },
  {
   "cell_type": "code",
   "execution_count": null,
   "metadata": {
    "collapsed": true
   },
   "outputs": [],
   "source": [
    "def calc_ks_test(params):\n",
    "#     r1, r2, t1, t2 = params\n",
    "    r1, r2, t1, d = params\n",
    "    \n",
    "    t2 = t1\n",
    "    \n",
    "    df1 = df_regional[df_regional.distance <= r1]\n",
    "    df1 = df1.loc[df1.index >= t1]\n",
    "    df1 = df1[df1.depth.between(d-1, d+1)]\n",
    "    \n",
    "    df2 = df_regional[df_regional.distance <= r2]\n",
    "    df2 = df2.loc[df2.index >= t2]\n",
    "    \n",
    "    a1, b1, bstd1, n1, mc1 = stats.calc_fmd_stats_with_mc(df1.mag)\n",
    "    a2, b2, bstd2, n2, mc2 = stats.calc_fmd_stats_with_mc(df2.mag)\n",
    "    \n",
    "    df1 = df1[df1.mag >= mc1]\n",
    "    df2 = df2[df2.mag >= mc2]\n",
    "    \n",
    "    ks = scipy.stats.ks_2samp(df1.mag, df2.mag)\n",
    "    \n",
    "    return r1, r2, d, t1, t2, a1, b1, bstd1, n1, mc1, a2, b2, bstd2, n2, mc2, ks.statistic, ks.pvalue"
   ]
  },
  {
   "cell_type": "code",
   "execution_count": null,
   "metadata": {},
   "outputs": [
    {
     "name": "stderr",
     "output_type": "stream",
     "text": [
      "/home/max/pymap3/utilities/stats.py:48: RuntimeWarning: invalid value encountered in double_scalars\n",
      "  sigma_mag = np.sum([((m - average) ** 2) / (length * (length - 1)) for m in magnitudes])\n",
      "/home/max/pymap3/utilities/stats.py:48: RuntimeWarning: invalid value encountered in double_scalars\n",
      "  sigma_mag = np.sum([((m - average) ** 2) / (length * (length - 1)) for m in magnitudes])\n",
      "/home/max/pymap3/utilities/stats.py:48: RuntimeWarning: invalid value encountered in double_scalars\n",
      "  sigma_mag = np.sum([((m - average) ** 2) / (length * (length - 1)) for m in magnitudes])\n",
      "/home/max/anaconda2/envs/research/lib/python3.5/site-packages/scipy/stats/stats.py:4750: RuntimeWarning: invalid value encountered in true_divide\n",
      "  cdf1 = np.searchsorted(data1, data_all, side='right') / (1.0*n1)\n",
      "/home/max/anaconda2/envs/research/lib/python3.5/site-packages/scipy/stats/stats.py:4750: RuntimeWarning: invalid value encountered in true_divide\n",
      "  cdf1 = np.searchsorted(data1, data_all, side='right') / (1.0*n1)\n",
      "/home/max/anaconda2/envs/research/lib/python3.5/site-packages/scipy/stats/stats.py:4756: RuntimeWarning: divide by zero encountered in double_scalars\n",
      "  prob = distributions.kstwobign.sf((en + 0.12 + 0.11 / en) * d)\n",
      "/home/max/anaconda2/envs/research/lib/python3.5/site-packages/scipy/stats/stats.py:4756: RuntimeWarning: divide by zero encountered in double_scalars\n",
      "  prob = distributions.kstwobign.sf((en + 0.12 + 0.11 / en) * d)\n",
      "/home/max/anaconda2/envs/research/lib/python3.5/site-packages/scipy/stats/stats.py:4750: RuntimeWarning: invalid value encountered in true_divide\n",
      "  cdf1 = np.searchsorted(data1, data_all, side='right') / (1.0*n1)\n",
      "/home/max/anaconda2/envs/research/lib/python3.5/site-packages/scipy/stats/stats.py:4750: RuntimeWarning: invalid value encountered in true_divide\n",
      "  cdf1 = np.searchsorted(data1, data_all, side='right') / (1.0*n1)\n",
      "/home/max/anaconda2/envs/research/lib/python3.5/site-packages/scipy/stats/stats.py:4750: RuntimeWarning: invalid value encountered in true_divide\n",
      "  cdf1 = np.searchsorted(data1, data_all, side='right') / (1.0*n1)\n",
      "/home/max/anaconda2/envs/research/lib/python3.5/site-packages/scipy/stats/stats.py:4756: RuntimeWarning: divide by zero encountered in double_scalars\n",
      "  prob = distributions.kstwobign.sf((en + 0.12 + 0.11 / en) * d)\n",
      "/home/max/anaconda2/envs/research/lib/python3.5/site-packages/scipy/stats/stats.py:4756: RuntimeWarning: divide by zero encountered in double_scalars\n",
      "  prob = distributions.kstwobign.sf((en + 0.12 + 0.11 / en) * d)\n",
      "/home/max/anaconda2/envs/research/lib/python3.5/site-packages/scipy/stats/stats.py:4756: RuntimeWarning: divide by zero encountered in double_scalars\n",
      "  prob = distributions.kstwobign.sf((en + 0.12 + 0.11 / en) * d)\n",
      "/home/max/pymap3/utilities/stats.py:48: RuntimeWarning: invalid value encountered in double_scalars\n",
      "  sigma_mag = np.sum([((m - average) ** 2) / (length * (length - 1)) for m in magnitudes])\n",
      "/home/max/pymap3/utilities/stats.py:48: RuntimeWarning: invalid value encountered in double_scalars\n",
      "  sigma_mag = np.sum([((m - average) ** 2) / (length * (length - 1)) for m in magnitudes])\n",
      "/home/max/anaconda2/envs/research/lib/python3.5/site-packages/scipy/stats/stats.py:4750: RuntimeWarning: invalid value encountered in true_divide\n",
      "  cdf1 = np.searchsorted(data1, data_all, side='right') / (1.0*n1)\n",
      "/home/max/anaconda2/envs/research/lib/python3.5/site-packages/scipy/stats/stats.py:4756: RuntimeWarning: divide by zero encountered in double_scalars\n",
      "  prob = distributions.kstwobign.sf((en + 0.12 + 0.11 / en) * d)\n",
      "/home/max/anaconda2/envs/research/lib/python3.5/site-packages/scipy/stats/stats.py:4750: RuntimeWarning: invalid value encountered in true_divide\n",
      "  cdf1 = np.searchsorted(data1, data_all, side='right') / (1.0*n1)\n",
      "/home/max/anaconda2/envs/research/lib/python3.5/site-packages/scipy/stats/stats.py:4756: RuntimeWarning: divide by zero encountered in double_scalars\n",
      "  prob = distributions.kstwobign.sf((en + 0.12 + 0.11 / en) * d)\n",
      "/home/max/anaconda2/envs/research/lib/python3.5/site-packages/scipy/stats/stats.py:4750: RuntimeWarning: invalid value encountered in true_divide\n",
      "  cdf1 = np.searchsorted(data1, data_all, side='right') / (1.0*n1)\n",
      "/home/max/anaconda2/envs/research/lib/python3.5/site-packages/scipy/stats/stats.py:4756: RuntimeWarning: divide by zero encountered in double_scalars\n",
      "  prob = distributions.kstwobign.sf((en + 0.12 + 0.11 / en) * d)\n",
      "/home/max/pymap3/utilities/stats.py:48: RuntimeWarning: invalid value encountered in double_scalars\n",
      "  sigma_mag = np.sum([((m - average) ** 2) / (length * (length - 1)) for m in magnitudes])\n",
      "/home/max/pymap3/utilities/stats.py:48: RuntimeWarning: invalid value encountered in double_scalars\n",
      "  sigma_mag = np.sum([((m - average) ** 2) / (length * (length - 1)) for m in magnitudes])\n",
      "/home/max/pymap3/utilities/stats.py:48: RuntimeWarning: invalid value encountered in double_scalars\n",
      "  sigma_mag = np.sum([((m - average) ** 2) / (length * (length - 1)) for m in magnitudes])\n"
     ]
    }
   ],
   "source": [
    "from multiprocessing import Pool\n",
    "\n",
    "pool = Pool()\n",
    "\n",
    "results = pool.map(calc_ks_test, parameters)\n",
    "pool.close()"
   ]
  },
  {
   "cell_type": "code",
   "execution_count": null,
   "metadata": {
    "collapsed": true
   },
   "outputs": [],
   "source": [
    "ks_df = pd.DataFrame(results, columns=['r1', 'r2', 'depth_window', 't1', 't2', 'a1', 'b1', 'bstd1', 'n1', 'mc1'\n",
    "                                         ,'a2', 'b2', 'bstd2', 'n2', 'mc2'\n",
    "                                         ,'D', 'p-value'])"
   ]
  },
  {
   "cell_type": "code",
   "execution_count": null,
   "metadata": {
    "collapsed": true
   },
   "outputs": [],
   "source": [
    "# ks_df = ks_df[(ks_df.r1 != ks_df.r2) & (ks_df.t1 != ks_df.t2)]\n",
    "\n",
    "ks_df['D > c_alpha'] = ks_df.apply(lambda row: D_greater_than_calpha(row['D'], 0.01, row['n1'], row['n2']), axis=1)\n",
    "\n",
    "ks_df['bdiff'] = ks_df.b1 - ks_df.b2\n",
    "\n",
    "ks_df['rdiff'] = ks_df.r1 - ks_df.r2\n",
    "\n",
    "ks_df['pass'] = (ks_df['D > c_alpha']==True) & (ks_df['p-value'] <= 0.01)"
   ]
  },
  {
   "cell_type": "code",
   "execution_count": null,
   "metadata": {
    "collapsed": true
   },
   "outputs": [],
   "source": [
    "ks_df.head()"
   ]
  },
  {
   "cell_type": "code",
   "execution_count": null,
   "metadata": {
    "collapsed": true
   },
   "outputs": [],
   "source": []
  }
 ],
 "metadata": {
  "kernelspec": {
   "display_name": "Python 3",
   "language": "python",
   "name": "python3"
  },
  "language_info": {
   "codemirror_mode": {
    "name": "ipython",
    "version": 3
   },
   "file_extension": ".py",
   "mimetype": "text/x-python",
   "name": "python",
   "nbconvert_exporter": "python",
   "pygments_lexer": "ipython3",
   "version": "3.5.3"
  }
 },
 "nbformat": 4,
 "nbformat_minor": 2
}
