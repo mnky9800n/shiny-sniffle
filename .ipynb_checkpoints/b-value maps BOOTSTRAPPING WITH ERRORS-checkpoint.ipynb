{
 "cells": [
  {
   "cell_type": "code",
   "execution_count": 1,
   "metadata": {
    "collapsed": true,
    "deletable": true,
    "editable": true
   },
   "outputs": [],
   "source": [
    "%matplotlib inline\n",
    "import pandas as pd\n",
    "from mpl_toolkits.basemap import Basemap\n",
    "import numpy as np\n",
    "from utilities import timestamps\n",
    "from utilities.plotting import equi\n",
    "from utilities.polygon_selection import get_node_data\n",
    "from utilities.stats import calc_fmd_stats_with_mc\n",
    "import matplotlib.pyplot as plt\n",
    "from scipy import spatial"
   ]
  },
  {
   "cell_type": "code",
   "execution_count": 2,
   "metadata": {
    "collapsed": true,
    "deletable": true,
    "editable": true
   },
   "outputs": [],
   "source": [
    "df = pd.read_csv('data/ccu.dat', delimiter='\\t', names=['lon', 'lat', 'decimal_year', 'month', 'day', 'mag'\n",
    "                                                        , 'depth', 'hour', 'minute', 'second', 'horizontal_error'\n",
    "                                                        , 'depth_error', 'mag_err'])"
   ]
  },
  {
   "cell_type": "code",
   "execution_count": 3,
   "metadata": {
    "collapsed": false,
    "deletable": true,
    "editable": true
   },
   "outputs": [],
   "source": [
    "df['timestamp'] = df.decimal_year.apply(timestamps.convert_decimal_year_to_numpy_datetime64)"
   ]
  },
  {
   "cell_type": "code",
   "execution_count": 4,
   "metadata": {
    "collapsed": false,
    "deletable": true,
    "editable": true
   },
   "outputs": [],
   "source": [
    "foreshock_time = '2016-04-14 12:26:00'\n",
    "mainshock_time = '2016-04-15 16:24:28'\n",
    "\n",
    "start_date = '2001-10-01 00:00:00'\n",
    "df = df[df.timestamp >= start_date]\n",
    "\n",
    "# df = df[df.timestamp >= '2000-01-01 00:00:00']\n",
    "# df = df[df.timestamp >= '2001-10-01 00:00:00']\n",
    "df = df[df.timestamp < foreshock_time]\n",
    "df = df[df.depth <= 40]"
   ]
  },
  {
   "cell_type": "code",
   "execution_count": 5,
   "metadata": {
    "collapsed": false,
    "deletable": true,
    "editable": true
   },
   "outputs": [
    {
     "data": {
      "text/html": [
       "<div>\n",
       "<table border=\"1\" class=\"dataframe\">\n",
       "  <thead>\n",
       "    <tr style=\"text-align: right;\">\n",
       "      <th></th>\n",
       "      <th>lon</th>\n",
       "      <th>lat</th>\n",
       "      <th>decimal_year</th>\n",
       "      <th>month</th>\n",
       "      <th>day</th>\n",
       "      <th>mag</th>\n",
       "      <th>depth</th>\n",
       "      <th>hour</th>\n",
       "      <th>minute</th>\n",
       "      <th>second</th>\n",
       "      <th>horizontal_error</th>\n",
       "      <th>depth_error</th>\n",
       "      <th>mag_err</th>\n",
       "      <th>timestamp</th>\n",
       "    </tr>\n",
       "  </thead>\n",
       "  <tbody>\n",
       "    <tr>\n",
       "      <th>579317</th>\n",
       "      <td>142.002667</td>\n",
       "      <td>34.481667</td>\n",
       "      <td>2001.750802</td>\n",
       "      <td>10.0</td>\n",
       "      <td>2.0</td>\n",
       "      <td>5.3</td>\n",
       "      <td>29.29</td>\n",
       "      <td>1.0</td>\n",
       "      <td>1.0</td>\n",
       "      <td>27.979999</td>\n",
       "      <td>2.277005</td>\n",
       "      <td>2.49</td>\n",
       "      <td>NaN</td>\n",
       "      <td>2001-10-02 01:01:27.979985</td>\n",
       "    </tr>\n",
       "    <tr>\n",
       "      <th>582906</th>\n",
       "      <td>144.817500</td>\n",
       "      <td>23.157500</td>\n",
       "      <td>2001.782143</td>\n",
       "      <td>10.0</td>\n",
       "      <td>13.0</td>\n",
       "      <td>5.7</td>\n",
       "      <td>20.00</td>\n",
       "      <td>11.0</td>\n",
       "      <td>34.0</td>\n",
       "      <td>34.220001</td>\n",
       "      <td>5.747816</td>\n",
       "      <td>NaN</td>\n",
       "      <td>NaN</td>\n",
       "      <td>2001-10-13 11:34:34.220015</td>\n",
       "    </tr>\n",
       "    <tr>\n",
       "      <th>587089</th>\n",
       "      <td>142.110667</td>\n",
       "      <td>30.701667</td>\n",
       "      <td>2001.817436</td>\n",
       "      <td>10.0</td>\n",
       "      <td>26.0</td>\n",
       "      <td>5.2</td>\n",
       "      <td>23.00</td>\n",
       "      <td>8.0</td>\n",
       "      <td>44.0</td>\n",
       "      <td>25.539997</td>\n",
       "      <td>2.694522</td>\n",
       "      <td>NaN</td>\n",
       "      <td>NaN</td>\n",
       "      <td>2001-10-26 08:44:25.539990</td>\n",
       "    </tr>\n",
       "    <tr>\n",
       "      <th>587183</th>\n",
       "      <td>153.440833</td>\n",
       "      <td>46.555667</td>\n",
       "      <td>2001.818243</td>\n",
       "      <td>10.0</td>\n",
       "      <td>26.0</td>\n",
       "      <td>5.4</td>\n",
       "      <td>30.00</td>\n",
       "      <td>15.0</td>\n",
       "      <td>48.0</td>\n",
       "      <td>26.890003</td>\n",
       "      <td>11.074093</td>\n",
       "      <td>NaN</td>\n",
       "      <td>NaN</td>\n",
       "      <td>2001-10-26 15:48:26.890010</td>\n",
       "    </tr>\n",
       "    <tr>\n",
       "      <th>591814</th>\n",
       "      <td>152.875167</td>\n",
       "      <td>45.994167</td>\n",
       "      <td>2001.861891</td>\n",
       "      <td>11.0</td>\n",
       "      <td>11.0</td>\n",
       "      <td>5.6</td>\n",
       "      <td>30.00</td>\n",
       "      <td>14.0</td>\n",
       "      <td>9.0</td>\n",
       "      <td>45.670000</td>\n",
       "      <td>8.184943</td>\n",
       "      <td>NaN</td>\n",
       "      <td>NaN</td>\n",
       "      <td>2001-11-11 14:09:45.670014</td>\n",
       "    </tr>\n",
       "  </tbody>\n",
       "</table>\n",
       "</div>"
      ],
      "text/plain": [
       "               lon        lat  decimal_year  month   day  mag  depth  hour  \\\n",
       "579317  142.002667  34.481667   2001.750802   10.0   2.0  5.3  29.29   1.0   \n",
       "582906  144.817500  23.157500   2001.782143   10.0  13.0  5.7  20.00  11.0   \n",
       "587089  142.110667  30.701667   2001.817436   10.0  26.0  5.2  23.00   8.0   \n",
       "587183  153.440833  46.555667   2001.818243   10.0  26.0  5.4  30.00  15.0   \n",
       "591814  152.875167  45.994167   2001.861891   11.0  11.0  5.6  30.00  14.0   \n",
       "\n",
       "        minute     second  horizontal_error  depth_error  mag_err  \\\n",
       "579317     1.0  27.979999          2.277005         2.49      NaN   \n",
       "582906    34.0  34.220001          5.747816          NaN      NaN   \n",
       "587089    44.0  25.539997          2.694522          NaN      NaN   \n",
       "587183    48.0  26.890003         11.074093          NaN      NaN   \n",
       "591814     9.0  45.670000          8.184943          NaN      NaN   \n",
       "\n",
       "                        timestamp  \n",
       "579317 2001-10-02 01:01:27.979985  \n",
       "582906 2001-10-13 11:34:34.220015  \n",
       "587089 2001-10-26 08:44:25.539990  \n",
       "587183 2001-10-26 15:48:26.890010  \n",
       "591814 2001-11-11 14:09:45.670014  "
      ]
     },
     "execution_count": 5,
     "metadata": {},
     "output_type": "execute_result"
    }
   ],
   "source": [
    "df[df.mag > 5].head()"
   ]
  },
  {
   "cell_type": "markdown",
   "metadata": {
    "deletable": true,
    "editable": true
   },
   "source": [
    "# REMOVE M5.2 EQ"
   ]
  },
  {
   "cell_type": "code",
   "execution_count": 6,
   "metadata": {
    "collapsed": false,
    "deletable": true,
    "editable": true
   },
   "outputs": [],
   "source": [
    "# df = df.drop(df.index[393632])"
   ]
  },
  {
   "cell_type": "code",
   "execution_count": 7,
   "metadata": {
    "collapsed": false,
    "deletable": true,
    "editable": true
   },
   "outputs": [],
   "source": [
    "df = df.set_index('timestamp')"
   ]
  },
  {
   "cell_type": "code",
   "execution_count": 8,
   "metadata": {
    "collapsed": false,
    "deletable": true,
    "editable": true
   },
   "outputs": [
    {
     "data": {
      "text/plain": [
       "<matplotlib.axes._subplots.AxesSubplot at 0x7f4bd6fe9c50>"
      ]
     },
     "execution_count": 8,
     "metadata": {},
     "output_type": "execute_result"
    },
    {
     "data": {
      "image/png": "[encoded data removed]",
      "text/plain": [
       "<matplotlib.figure.Figure at 0x7f4bd7243898>"
      ]
     },
     "metadata": {},
     "output_type": "display_data"
    }
   ],
   "source": [
    "df.mag.plot(figsize=(15,5))"
   ]
  },
  {
   "cell_type": "code",
   "execution_count": 9,
   "metadata": {
    "collapsed": false,
    "deletable": true,
    "editable": true
   },
   "outputs": [
    {
     "data": {
      "text/plain": [
       "count    1.612054e+06\n",
       "mean     8.874616e-01\n",
       "std      1.092098e+00\n",
       "min      0.000000e+00\n",
       "25%      3.184243e-01\n",
       "50%      4.821290e-01\n",
       "75%      1.099528e+00\n",
       "max      3.650326e+01\n",
       "Name: horizontal_error, dtype: float64"
      ]
     },
     "execution_count": 9,
     "metadata": {},
     "output_type": "execute_result"
    }
   ],
   "source": [
    "df.horizontal_error.describe()"
   ]
  },
  {
   "cell_type": "code",
   "execution_count": 10,
   "metadata": {
    "collapsed": false,
    "deletable": true,
    "editable": true
   },
   "outputs": [
    {
     "data": {
      "text/plain": [
       "<matplotlib.axes._subplots.AxesSubplot at 0x7f4bbf570208>"
      ]
     },
     "execution_count": 10,
     "metadata": {},
     "output_type": "execute_result"
    },
    {
     "data": {
      "image/png": "[encoded data removed]",
      "text/plain": [
       "<matplotlib.figure.Figure at 0x7f4bd7243c18>"
      ]
     },
     "metadata": {},
     "output_type": "display_data"
    }
   ],
   "source": [
    "df.horizontal_error.hist(bins=100, range=(0,2))"
   ]
  },
  {
   "cell_type": "code",
   "execution_count": 11,
   "metadata": {
    "collapsed": false,
    "deletable": true,
    "editable": true
   },
   "outputs": [
    {
     "data": {
      "image/png": "[encoded data removed]",
      "text/plain": [
       "<matplotlib.figure.Figure at 0x7f4bc1772940>"
      ]
     },
     "metadata": {},
     "output_type": "display_data"
    }
   ],
   "source": [
    "fig, ax = plt.subplots(1, figsize=(8,8))\n",
    "\n",
    "m = Basemap(projection='merc'\n",
    "           ,llcrnrlat=28.5\n",
    "           ,urcrnrlat=34.5\n",
    "           ,llcrnrlon=126.5\n",
    "           ,urcrnrlon=134.5\n",
    "           ,resolution='i'\n",
    "           ,area_thresh=1000\n",
    "           ,ax=ax)\n",
    "\n",
    "labels = np.arange(0,180,2)\n",
    "m.drawparallels(labels, labels=labels)\n",
    "m.drawmeridians(labels, labels=labels)\n",
    "\n",
    "m.drawcoastlines()\n",
    "m.fillcontinents(color='gray', zorder=0)\n",
    "\n",
    "# # data = df[(df.mag > 2.5) & df.lat.between(32,34) & df.lon.between(130,132)]\n",
    "d = df[(df.mag > 1)].copy()\n",
    "d = d[d.lat.between(28.5, 34.5) & d.lon.between(126.5, 134.5)]\n",
    "d = d[d.horizontal_error <= 2.0]\n",
    "\n",
    "\n",
    "x, y = m(d.lon.values, d.lat.values)\n",
    "\n",
    "cbar = ax.scatter(x, y, c=d.horizontal_error.values, s=10*np.exp(d.horizontal_error.values), edgecolor='None'\n",
    "                  , cmap='Reds')\n",
    "c1 = fig.colorbar(cbar, label='horizontal error',fraction=0.0346, pad=0.084)\n",
    "c1.ax.invert_yaxis()\n",
    "\n",
    "# sizes = np.exp([3,4,5,6,7])\n",
    "# label_plot = [ax.scatter([],[], s=s, edgecolors='black', color='white', alpha=0.5) for s in sizes]\n",
    "# labels = [x for x in range(3,11)]\n",
    "# ax.legend(label_plot, labels, ncol=10, frameon=True, fontsize=12, handlelength=0.75, loc='upper left'\n",
    "#         , borderpad = 1.,handletextpad=0.95, title='Magnitude Size', scatterpoints = 1\n",
    "#         , bbox_to_anchor=(0.18,0.0115))\n",
    "\n",
    "# equi(m, 130, 30, 50, lw=2)\n",
    "# equi(m, 132, 32, 50, lw=2)\n",
    "# equi(m, 130, 34, 50, lw=2, color='red')"
   ]
  },
  {
   "cell_type": "code",
   "execution_count": 12,
   "metadata": {
    "collapsed": false,
    "deletable": true,
    "editable": true
   },
   "outputs": [],
   "source": [
    "m_standard = Basemap(projection='merc', lon_0=0)\n",
    "\n",
    "def get_cumdist(data):\n",
    "    hist, edges = np.histogram(a=data, bins=100, range=(0,10))\n",
    "    chist = np.cumsum(hist[::-1])\n",
    "    return edges, hist, chist\n",
    "\n",
    "def plot_data_with_fit_line(ax, raw_data, chist, radius, **kwargs):\n",
    "    a, b, bstd, n, mc = calc_fmd_stats_with_mc(raw_data.mag)\n",
    "    label = radius + ', b={b}, mc={mc}, n={n}'.format(b=round(b,4),mc=mc,n=n)\n",
    "    ax.scatter(chist[0][::-1][:-1], chist[2], label=label, **kwargs)\n",
    "#     a, b, bstd, n, mc = calc_fmd_stats_with_mc(raw_data.mag)\n",
    "    x = np.arange(0, 10, 0.1)\n",
    "    y = 10**(a - b * x)\n",
    "    ax.plot(x, y, color='black')\n",
    "\n",
    "def create_grid(axis_1_min_max, axis_2_min_max, axis_3_min_max\n",
    "                , axis_1_increment, axis_2_increment, axis_3_increment\\\n",
    "               , columns=['longitude', 'latitude', 'depth']):\n",
    "    axis_1_min, axis_1_max = axis_1_min_max\n",
    "    axis_2_min, axis_2_max = axis_2_min_max\n",
    "    axis_3_min, axis_3_max = axis_3_min_max\n",
    "\n",
    "    axis_1_numpoints = (axis_1_max - axis_1_min)/axis_1_increment + 1\n",
    "    axis_2_numpoints = (axis_2_max - axis_2_min)/axis_2_increment + 1\n",
    "    axis_3_numpoints = (axis_3_max - axis_3_min)/axis_3_increment + 1\n",
    "\n",
    "\n",
    "    axis_1 = np.linspace(axis_1_min, axis_1_max, axis_1_numpoints)\n",
    "    axis_2 = np.linspace(axis_2_min, axis_2_max, axis_2_numpoints)\n",
    "    axis_3 = np.linspace(axis_3_min, axis_3_max, axis_3_numpoints)\n",
    "\n",
    "    axis123 = list(product(axis_1, axis_2, axis_3))\n",
    "    grid = pd.DataFrame(axis123, columns=columns)\n",
    "    return grid\n",
    "\n",
    "def get_node_data(node, radius, data, m=m_standard):\n",
    "#     m = Basemap(projection='robin', lon_0=0)\n",
    "    node_lon = node[0]\n",
    "    node_lat = node[1]\n",
    "    radius = radius\n",
    "    distance_from_node = (radius + 10)/111.133\n",
    "    data = data[data.lon.between(node_lon-distance_from_node, node_lon+distance_from_node)\n",
    "              & data.lat.between(node_lat-distance_from_node, node_lon+distance_from_node)].copy()\n",
    "    xy = np.array(m(data.lon.values, data.lat.values)).transpose()\n",
    "    node_xy = np.array([m(node_lon, node_lat)])\n",
    "#     dist = scipy.spatial.distance.cdist(xy, node_xy)/1000. #cdist is meters, we want km\n",
    "    dist = spatial.distance.cdist(xy, node_xy)/1000. #cdist is meters, we want km\n",
    "    data['distance'] = dist[:,0]\n",
    "    data = data[data.distance <= radius]\n",
    "    return data\n",
    "\n",
    "def mc_maximum_curvature(magnitudes):\n",
    "    \"\"\"\n",
    "    :param catalog : pandas Series\n",
    "    :param method : string\n",
    "    \"\"\"\n",
    "    minimum = round(magnitudes.min(), 2)\n",
    "    bins = np.arange(start=minimum, stop=10, step=0.1)\n",
    "    hist, edges = np.histogram(a=magnitudes, range=(minimum, 10), bins=bins)\n",
    "    hist_maximum_index = np.argmax(hist)\n",
    "    return round(edges[hist_maximum_index], 2)\n",
    "\n",
    "def fmd_values(magnitudes, bin_width=0.1):\n",
    "    \"\"\"\n",
    "    params magnitudes : numpy.array\n",
    "    params bin_width : float\n",
    "\n",
    "    returns a,b,bstd, n-values if above the earthquake count threshold\n",
    "    else returns np.nans\n",
    "    \"\"\"\n",
    "    length = magnitudes.shape[0]\n",
    "    minimum = magnitudes.min()\n",
    "    average = magnitudes.mean()\n",
    "    b_value = (1 / (average - (minimum - (bin_width / 2)))) * np.log10(np.exp(1))\n",
    "\n",
    "    square_every_value = np.vectorize(lambda x: x ** 2)\n",
    "    b_stddev = square_every_value((magnitudes - average).sum()) / (length * (length - 1))\n",
    "    b_stddev = 2.3 * np.sqrt(b_stddev) * b_value ** 2\n",
    "    a_value = np.log10(length) + b_value * minimum\n",
    "\n",
    "    return a_value, b_value, b_stddev, length\n",
    "\n",
    "def calc_fmd_stats_with_mc(magnitudes):\n",
    "    if len(magnitudes) > 0:\n",
    "        mc = mc_maximum_curvature(magnitudes) + 0.2\n",
    "        magnitudes = magnitudes[magnitudes >= mc]\n",
    "        if len(magnitudes) > 0:\n",
    "            fmd_stats = fmd_values(magnitudes)\n",
    "            return fmd_stats + (mc,)\n",
    "        else: return (np.nan, np.nan, np.nan, np.nan, np.nan)\n",
    "    else:\n",
    "        return (np.nan, np.nan, np.nan, np.nan, np.nan)\n",
    "    \n",
    "def node_pipeline(node, data, radius):\n",
    "    node_data = get_node_data(node=node, data=data, radius=radius)\n",
    "    statistics = calc_fmd_stats_with_mc(node_data.mag)\n",
    "    return statistics\n",
    "\n",
    "def grid_statistic_pipeline(grid, data, radius):\n",
    "    stats = []\n",
    "    for node in grid:\n",
    "        stats.append(node_pipeline(node=node, data=data, radius=radius) + (node[0], node[1]))\n",
    "    return np.array(stats)\n",
    "\n",
    "def calc_bootstrapped_fmd_values(df, n_calculations):\n",
    "    fmd_values = []\n",
    "    for n in range(n_calculations):\n",
    "        fmd_values.append(calc_fmd_stats_with_mc(df.ix[np.random.choice(df.index, size=(1, len(d)))[0]].mag))\n",
    "    return fmd_values\n",
    "\n",
    "def get_catalog_shifted_by_location_normal_error(df):\n",
    "    err_df = df.copy()\n",
    "    err_df['hz_err_deg'] = err_df['horizontal_error'] / 111.113\n",
    "    err_df['lon'] = np.random.normal(err_df['lon'].values, err_df['hz_err_deg'].values+0.001)\n",
    "    err_df['lat'] = np.random.normal(err_df['lat'].values, err_df['hz_err_deg'].values+0.001)\n",
    "    return err_df"
   ]
  },
  {
   "cell_type": "code",
   "execution_count": 41,
   "metadata": {
    "collapsed": true,
    "deletable": true,
    "editable": true
   },
   "outputs": [],
   "source": [
    "d = df[df.lon.between(130,132) & df.lat.between(32,34)].copy()"
   ]
  },
  {
   "cell_type": "code",
   "execution_count": 42,
   "metadata": {
    "collapsed": true,
    "deletable": true,
    "editable": true
   },
   "outputs": [],
   "source": [
    "# d = get_node_data(node=(131, 33), radius=75, data=df[df.lon.between(130,132) & df.lat.between(32,34)].copy())"
   ]
  },
  {
   "cell_type": "code",
   "execution_count": 45,
   "metadata": {
    "collapsed": false,
    "deletable": true,
    "editable": true
   },
   "outputs": [],
   "source": [
    "# calc_bootstrapped_fmd_values(get_catalog_shifted_by_location_mag_normal_error(d[d.mag>=0.5]), 10)"
   ]
  },
  {
   "cell_type": "code",
   "execution_count": 46,
   "metadata": {
    "collapsed": false,
    "deletable": true,
    "editable": true
   },
   "outputs": [],
   "source": [
    "b_booted = calc_bootstrapped_fmd_values(get_node_data(node=(131, 33), radius=75, data=d[d.mag>=0.5]), 10000)"
   ]
  },
  {
   "cell_type": "code",
   "execution_count": 47,
   "metadata": {
    "collapsed": false,
    "deletable": true,
    "editable": true
   },
   "outputs": [],
   "source": [
    "b_booted_df = pd.DataFrame(np.array(b_booted), columns=['a', 'b', 'bstd', 'n', 'mc'])"
   ]
  },
  {
   "cell_type": "code",
   "execution_count": 48,
   "metadata": {
    "collapsed": false,
    "deletable": true,
    "editable": true
   },
   "outputs": [
    {
     "data": {
      "text/html": [
       "<div>\n",
       "<table border=\"1\" class=\"dataframe\">\n",
       "  <thead>\n",
       "    <tr style=\"text-align: right;\">\n",
       "      <th></th>\n",
       "      <th>a</th>\n",
       "      <th>b</th>\n",
       "      <th>bstd</th>\n",
       "      <th>n</th>\n",
       "      <th>mc</th>\n",
       "    </tr>\n",
       "  </thead>\n",
       "  <tbody>\n",
       "    <tr>\n",
       "      <th>count</th>\n",
       "      <td>10000.000000</td>\n",
       "      <td>10000.000000</td>\n",
       "      <td>1.000000e+04</td>\n",
       "      <td>10000.000000</td>\n",
       "      <td>1.000000e+04</td>\n",
       "    </tr>\n",
       "    <tr>\n",
       "      <th>mean</th>\n",
       "      <td>5.593970</td>\n",
       "      <td>0.898522</td>\n",
       "      <td>4.113163e-13</td>\n",
       "      <td>92258.222500</td>\n",
       "      <td>7.000000e-01</td>\n",
       "    </tr>\n",
       "    <tr>\n",
       "      <th>std</th>\n",
       "      <td>0.002230</td>\n",
       "      <td>0.002943</td>\n",
       "      <td>1.706198e-14</td>\n",
       "      <td>175.745315</td>\n",
       "      <td>1.192439e-13</td>\n",
       "    </tr>\n",
       "    <tr>\n",
       "      <th>min</th>\n",
       "      <td>5.585675</td>\n",
       "      <td>0.887104</td>\n",
       "      <td>3.535466e-13</td>\n",
       "      <td>91596.000000</td>\n",
       "      <td>7.000000e-01</td>\n",
       "    </tr>\n",
       "    <tr>\n",
       "      <th>25%</th>\n",
       "      <td>5.592473</td>\n",
       "      <td>0.896521</td>\n",
       "      <td>3.997759e-13</td>\n",
       "      <td>92138.000000</td>\n",
       "      <td>7.000000e-01</td>\n",
       "    </tr>\n",
       "    <tr>\n",
       "      <th>50%</th>\n",
       "      <td>5.594000</td>\n",
       "      <td>0.898521</td>\n",
       "      <td>4.112273e-13</td>\n",
       "      <td>92258.000000</td>\n",
       "      <td>7.000000e-01</td>\n",
       "    </tr>\n",
       "    <tr>\n",
       "      <th>75%</th>\n",
       "      <td>5.595471</td>\n",
       "      <td>0.900523</td>\n",
       "      <td>4.229219e-13</td>\n",
       "      <td>92373.000000</td>\n",
       "      <td>7.000000e-01</td>\n",
       "    </tr>\n",
       "    <tr>\n",
       "      <th>max</th>\n",
       "      <td>5.602984</td>\n",
       "      <td>0.909682</td>\n",
       "      <td>4.868871e-13</td>\n",
       "      <td>92906.000000</td>\n",
       "      <td>7.000000e-01</td>\n",
       "    </tr>\n",
       "  </tbody>\n",
       "</table>\n",
       "</div>"
      ],
      "text/plain": [
       "                  a             b          bstd             n            mc\n",
       "count  10000.000000  10000.000000  1.000000e+04  10000.000000  1.000000e+04\n",
       "mean       5.593970      0.898522  4.113163e-13  92258.222500  7.000000e-01\n",
       "std        0.002230      0.002943  1.706198e-14    175.745315  1.192439e-13\n",
       "min        5.585675      0.887104  3.535466e-13  91596.000000  7.000000e-01\n",
       "25%        5.592473      0.896521  3.997759e-13  92138.000000  7.000000e-01\n",
       "50%        5.594000      0.898521  4.112273e-13  92258.000000  7.000000e-01\n",
       "75%        5.595471      0.900523  4.229219e-13  92373.000000  7.000000e-01\n",
       "max        5.602984      0.909682  4.868871e-13  92906.000000  7.000000e-01"
      ]
     },
     "execution_count": 48,
     "metadata": {},
     "output_type": "execute_result"
    }
   ],
   "source": [
    "b_booted_df.describe()"
   ]
  },
  {
   "cell_type": "code",
   "execution_count": 49,
   "metadata": {
    "collapsed": false,
    "deletable": true,
    "editable": true
   },
   "outputs": [
    {
     "data": {
      "text/plain": [
       "<matplotlib.text.Text at 0x7f4bbdeeaba8>"
      ]
     },
     "execution_count": 49,
     "metadata": {},
     "output_type": "execute_result"
    },
    {
     "data": {
      "image/png": "[encoded data removed]",
      "text/plain": [
       "<matplotlib.figure.Figure at 0x7f4bbd4d30b8>"
      ]
     },
     "metadata": {},
     "output_type": "display_data"
    }
   ],
   "source": [
    "ax = b_booted_df.b.hist(bins=100)\n",
    "bstd = b_booted_df.b.std()\n",
    "bavg = b_booted_df.b.mean()\n",
    "low = bavg - bstd\n",
    "high = bavg + bstd\n",
    "ax.plot((low, low), (0, 325), linestyle='--', color='orange')\n",
    "ax.plot((high, high), (0, 325), linestyle='--', color='orange')\n",
    "ax.plot((bavg, bavg), (0,325), color='black')\n",
    "ax.set_ylim(0, 325)\n",
    "ax.text(x=low, y=330, s='$-1\\sigma$')\n",
    "ax.text(x=high, y=330, s='$-1\\sigma$')\n",
    "ax.set_xlabel('b-value (bootstrapped)')"
   ]
  },
  {
   "cell_type": "code",
   "execution_count": 50,
   "metadata": {
    "collapsed": true,
    "deletable": true,
    "editable": true
   },
   "outputs": [],
   "source": [
    "b_boot_err_df = calc_bootstrapped_fmd_values(get_catalog_shifted_by_location_mag_normal_error(d[d.mag>=0.5]), 10000)"
   ]
  },
  {
   "cell_type": "code",
   "execution_count": 51,
   "metadata": {
    "collapsed": true,
    "deletable": true,
    "editable": true
   },
   "outputs": [],
   "source": [
    "b_boot_err_df = pd.DataFrame(np.array(b_boot_err_df), columns=['a', 'b', 'bstd', 'n', 'mc'])"
   ]
  },
  {
   "cell_type": "code",
   "execution_count": 52,
   "metadata": {
    "collapsed": false,
    "deletable": true,
    "editable": true
   },
   "outputs": [
    {
     "data": {
      "text/html": [
       "<div>\n",
       "<table border=\"1\" class=\"dataframe\">\n",
       "  <thead>\n",
       "    <tr style=\"text-align: right;\">\n",
       "      <th></th>\n",
       "      <th>a</th>\n",
       "      <th>b</th>\n",
       "      <th>bstd</th>\n",
       "      <th>n</th>\n",
       "      <th>mc</th>\n",
       "    </tr>\n",
       "  </thead>\n",
       "  <tbody>\n",
       "    <tr>\n",
       "      <th>count</th>\n",
       "      <td>10000.000000</td>\n",
       "      <td>10000.000000</td>\n",
       "      <td>1.000000e+04</td>\n",
       "      <td>10000.000000</td>\n",
       "      <td>1.000000e+04</td>\n",
       "    </tr>\n",
       "    <tr>\n",
       "      <th>mean</th>\n",
       "      <td>5.562407</td>\n",
       "      <td>0.808880</td>\n",
       "      <td>3.353471e-13</td>\n",
       "      <td>99126.863700</td>\n",
       "      <td>7.000000e-01</td>\n",
       "    </tr>\n",
       "    <tr>\n",
       "      <th>std</th>\n",
       "      <td>0.001916</td>\n",
       "      <td>0.002528</td>\n",
       "      <td>1.393969e-14</td>\n",
       "      <td>168.298459</td>\n",
       "      <td>1.192439e-13</td>\n",
       "    </tr>\n",
       "    <tr>\n",
       "      <th>min</th>\n",
       "      <td>5.555632</td>\n",
       "      <td>0.799995</td>\n",
       "      <td>2.786415e-13</td>\n",
       "      <td>98514.000000</td>\n",
       "      <td>7.000000e-01</td>\n",
       "    </tr>\n",
       "    <tr>\n",
       "      <th>25%</th>\n",
       "      <td>5.561089</td>\n",
       "      <td>0.807182</td>\n",
       "      <td>3.260478e-13</td>\n",
       "      <td>99013.000000</td>\n",
       "      <td>7.000000e-01</td>\n",
       "    </tr>\n",
       "    <tr>\n",
       "      <th>50%</th>\n",
       "      <td>5.562418</td>\n",
       "      <td>0.808885</td>\n",
       "      <td>3.355058e-13</td>\n",
       "      <td>99126.000000</td>\n",
       "      <td>7.000000e-01</td>\n",
       "    </tr>\n",
       "    <tr>\n",
       "      <th>75%</th>\n",
       "      <td>5.563711</td>\n",
       "      <td>0.810593</td>\n",
       "      <td>3.447590e-13</td>\n",
       "      <td>99243.000000</td>\n",
       "      <td>7.000000e-01</td>\n",
       "    </tr>\n",
       "    <tr>\n",
       "      <th>max</th>\n",
       "      <td>5.568964</td>\n",
       "      <td>0.818596</td>\n",
       "      <td>3.882072e-13</td>\n",
       "      <td>99759.000000</td>\n",
       "      <td>7.000000e-01</td>\n",
       "    </tr>\n",
       "  </tbody>\n",
       "</table>\n",
       "</div>"
      ],
      "text/plain": [
       "                  a             b          bstd             n            mc\n",
       "count  10000.000000  10000.000000  1.000000e+04  10000.000000  1.000000e+04\n",
       "mean       5.562407      0.808880  3.353471e-13  99126.863700  7.000000e-01\n",
       "std        0.001916      0.002528  1.393969e-14    168.298459  1.192439e-13\n",
       "min        5.555632      0.799995  2.786415e-13  98514.000000  7.000000e-01\n",
       "25%        5.561089      0.807182  3.260478e-13  99013.000000  7.000000e-01\n",
       "50%        5.562418      0.808885  3.355058e-13  99126.000000  7.000000e-01\n",
       "75%        5.563711      0.810593  3.447590e-13  99243.000000  7.000000e-01\n",
       "max        5.568964      0.818596  3.882072e-13  99759.000000  7.000000e-01"
      ]
     },
     "execution_count": 52,
     "metadata": {},
     "output_type": "execute_result"
    }
   ],
   "source": [
    "b_boot_err_df.describe()"
   ]
  },
  {
   "cell_type": "code",
   "execution_count": 53,
   "metadata": {
    "collapsed": false,
    "deletable": true,
    "editable": true
   },
   "outputs": [
    {
     "data": {
      "text/plain": [
       "<matplotlib.text.Text at 0x7f4bbddf9898>"
      ]
     },
     "execution_count": 53,
     "metadata": {},
     "output_type": "execute_result"
    },
    {
     "data": {
      "image/png": "[encoded data removed]",
      "text/plain": [
       "<matplotlib.figure.Figure at 0x7f4bbdef3e10>"
      ]
     },
     "metadata": {},
     "output_type": "display_data"
    }
   ],
   "source": [
    "ax = b_boot_err_df.b.hist(bins=100)\n",
    "bstd = b_boot_err_df.b.std()\n",
    "bavg = b_boot_err_df.b.mean()\n",
    "low = bavg - bstd\n",
    "high = bavg + bstd\n",
    "ax.plot((low, low), (0, 325), linestyle='--', color='orange')\n",
    "ax.plot((high, high), (0, 325), linestyle='--', color='orange')\n",
    "ax.plot((bavg, bavg), (0,325), color='black')\n",
    "ax.set_ylim(0, 325)\n",
    "ax.text(x=low, y=330, s='$-1\\sigma$')\n",
    "ax.text(x=high, y=330, s='$-1\\sigma$')\n",
    "ax.set_xlabel('b-value (boostrapped w/ errors)')"
   ]
  },
  {
   "cell_type": "code",
   "execution_count": 54,
   "metadata": {
    "collapsed": true,
    "deletable": true,
    "editable": true
   },
   "outputs": [],
   "source": [
    "errors_df = [calc_fmd_stats_with_mc(get_catalog_shifted_by_location_mag_normal_error(d[d.mag>=0.5]).mag) for x in range(10000)]"
   ]
  },
  {
   "cell_type": "code",
   "execution_count": 55,
   "metadata": {
    "collapsed": true,
    "deletable": true,
    "editable": true
   },
   "outputs": [],
   "source": [
    "errors_df = pd.DataFrame(np.array(errors_df), columns=['a', 'b', 'bstd', 'n', 'mc'])"
   ]
  },
  {
   "cell_type": "code",
   "execution_count": 56,
   "metadata": {
    "collapsed": false,
    "deletable": true,
    "editable": true
   },
   "outputs": [
    {
     "data": {
      "text/html": [
       "<div>\n",
       "<table border=\"1\" class=\"dataframe\">\n",
       "  <thead>\n",
       "    <tr style=\"text-align: right;\">\n",
       "      <th></th>\n",
       "      <th>a</th>\n",
       "      <th>b</th>\n",
       "      <th>bstd</th>\n",
       "      <th>n</th>\n",
       "      <th>mc</th>\n",
       "    </tr>\n",
       "  </thead>\n",
       "  <tbody>\n",
       "    <tr>\n",
       "      <th>count</th>\n",
       "      <td>1.000000e+04</td>\n",
       "      <td>1.000000e+04</td>\n",
       "      <td>1.000000e+04</td>\n",
       "      <td>10000.0</td>\n",
       "      <td>1.000000e+04</td>\n",
       "    </tr>\n",
       "    <tr>\n",
       "      <th>mean</th>\n",
       "      <td>5.269034e+00</td>\n",
       "      <td>8.088922e-01</td>\n",
       "      <td>1.374255e-14</td>\n",
       "      <td>50444.0</td>\n",
       "      <td>7.000000e-01</td>\n",
       "    </tr>\n",
       "    <tr>\n",
       "      <th>std</th>\n",
       "      <td>2.096206e-13</td>\n",
       "      <td>3.452966e-14</td>\n",
       "      <td>1.113927e-27</td>\n",
       "      <td>0.0</td>\n",
       "      <td>1.192439e-13</td>\n",
       "    </tr>\n",
       "    <tr>\n",
       "      <th>min</th>\n",
       "      <td>5.269034e+00</td>\n",
       "      <td>8.088922e-01</td>\n",
       "      <td>1.374255e-14</td>\n",
       "      <td>50444.0</td>\n",
       "      <td>7.000000e-01</td>\n",
       "    </tr>\n",
       "    <tr>\n",
       "      <th>25%</th>\n",
       "      <td>5.269034e+00</td>\n",
       "      <td>8.088922e-01</td>\n",
       "      <td>1.374255e-14</td>\n",
       "      <td>50444.0</td>\n",
       "      <td>7.000000e-01</td>\n",
       "    </tr>\n",
       "    <tr>\n",
       "      <th>50%</th>\n",
       "      <td>5.269034e+00</td>\n",
       "      <td>8.088922e-01</td>\n",
       "      <td>1.374255e-14</td>\n",
       "      <td>50444.0</td>\n",
       "      <td>7.000000e-01</td>\n",
       "    </tr>\n",
       "    <tr>\n",
       "      <th>75%</th>\n",
       "      <td>5.269034e+00</td>\n",
       "      <td>8.088922e-01</td>\n",
       "      <td>1.374255e-14</td>\n",
       "      <td>50444.0</td>\n",
       "      <td>7.000000e-01</td>\n",
       "    </tr>\n",
       "    <tr>\n",
       "      <th>max</th>\n",
       "      <td>5.269034e+00</td>\n",
       "      <td>8.088922e-01</td>\n",
       "      <td>1.374255e-14</td>\n",
       "      <td>50444.0</td>\n",
       "      <td>7.000000e-01</td>\n",
       "    </tr>\n",
       "  </tbody>\n",
       "</table>\n",
       "</div>"
      ],
      "text/plain": [
       "                  a             b          bstd        n            mc\n",
       "count  1.000000e+04  1.000000e+04  1.000000e+04  10000.0  1.000000e+04\n",
       "mean   5.269034e+00  8.088922e-01  1.374255e-14  50444.0  7.000000e-01\n",
       "std    2.096206e-13  3.452966e-14  1.113927e-27      0.0  1.192439e-13\n",
       "min    5.269034e+00  8.088922e-01  1.374255e-14  50444.0  7.000000e-01\n",
       "25%    5.269034e+00  8.088922e-01  1.374255e-14  50444.0  7.000000e-01\n",
       "50%    5.269034e+00  8.088922e-01  1.374255e-14  50444.0  7.000000e-01\n",
       "75%    5.269034e+00  8.088922e-01  1.374255e-14  50444.0  7.000000e-01\n",
       "max    5.269034e+00  8.088922e-01  1.374255e-14  50444.0  7.000000e-01"
      ]
     },
     "execution_count": 56,
     "metadata": {},
     "output_type": "execute_result"
    }
   ],
   "source": [
    "errors_df.describe()"
   ]
  },
  {
   "cell_type": "code",
   "execution_count": 57,
   "metadata": {
    "collapsed": false,
    "deletable": true,
    "editable": true
   },
   "outputs": [
    {
     "data": {
      "text/plain": [
       "<matplotlib.text.Text at 0x7f4bbc637e10>"
      ]
     },
     "execution_count": 57,
     "metadata": {},
     "output_type": "execute_result"
    },
    {
     "data": {
      "image/png": "[encoded data removed]",
      "text/plain": [
       "<matplotlib.figure.Figure at 0x7f4bbc6f0be0>"
      ]
     },
     "metadata": {},
     "output_type": "display_data"
    }
   ],
   "source": [
    "ax = errors_df.b.hist(bins=100)\n",
    "bstd = errors_df.b.std()\n",
    "bavg = errors_df.b.mean()\n",
    "low = bavg - bstd\n",
    "high = bavg + bstd\n",
    "ax.plot((low, low), (0, 325), linestyle='--', color='orange')\n",
    "ax.plot((high, high), (0, 325), linestyle='--', color='orange')\n",
    "ax.plot((bavg, bavg), (0,325), color='black')\n",
    "ax.set_ylim(0, 325)\n",
    "ax.text(x=low, y=330, s='$-1\\sigma$')\n",
    "ax.text(x=high, y=330, s='$-1\\sigma$')\n",
    "ax.set_xlabel('errors')"
   ]
  },
  {
   "cell_type": "code",
   "execution_count": 58,
   "metadata": {
    "collapsed": false,
    "deletable": true,
    "editable": true
   },
   "outputs": [
    {
     "data": {
      "text/plain": [
       "0.90968196443960669"
      ]
     },
     "execution_count": 58,
     "metadata": {},
     "output_type": "execute_result"
    }
   ],
   "source": [
    "b_booted_df.b.max()"
   ]
  },
  {
   "cell_type": "code",
   "execution_count": 59,
   "metadata": {
    "collapsed": false
   },
   "outputs": [
    {
     "data": {
      "text/html": [
       "<div>\n",
       "<table border=\"1\" class=\"dataframe\">\n",
       "  <thead>\n",
       "    <tr style=\"text-align: right;\">\n",
       "      <th></th>\n",
       "      <th>a</th>\n",
       "      <th>b</th>\n",
       "      <th>bstd</th>\n",
       "      <th>n</th>\n",
       "      <th>mc</th>\n",
       "    </tr>\n",
       "  </thead>\n",
       "  <tbody>\n",
       "    <tr>\n",
       "      <th>count</th>\n",
       "      <td>1.000000e+04</td>\n",
       "      <td>1.000000e+04</td>\n",
       "      <td>1.000000e+04</td>\n",
       "      <td>10000.0</td>\n",
       "      <td>1.000000e+04</td>\n",
       "    </tr>\n",
       "    <tr>\n",
       "      <th>mean</th>\n",
       "      <td>5.269034e+00</td>\n",
       "      <td>8.088922e-01</td>\n",
       "      <td>1.374255e-14</td>\n",
       "      <td>50444.0</td>\n",
       "      <td>7.000000e-01</td>\n",
       "    </tr>\n",
       "    <tr>\n",
       "      <th>std</th>\n",
       "      <td>2.096206e-13</td>\n",
       "      <td>3.452966e-14</td>\n",
       "      <td>1.113927e-27</td>\n",
       "      <td>0.0</td>\n",
       "      <td>1.192439e-13</td>\n",
       "    </tr>\n",
       "    <tr>\n",
       "      <th>min</th>\n",
       "      <td>5.269034e+00</td>\n",
       "      <td>8.088922e-01</td>\n",
       "      <td>1.374255e-14</td>\n",
       "      <td>50444.0</td>\n",
       "      <td>7.000000e-01</td>\n",
       "    </tr>\n",
       "    <tr>\n",
       "      <th>25%</th>\n",
       "      <td>5.269034e+00</td>\n",
       "      <td>8.088922e-01</td>\n",
       "      <td>1.374255e-14</td>\n",
       "      <td>50444.0</td>\n",
       "      <td>7.000000e-01</td>\n",
       "    </tr>\n",
       "    <tr>\n",
       "      <th>50%</th>\n",
       "      <td>5.269034e+00</td>\n",
       "      <td>8.088922e-01</td>\n",
       "      <td>1.374255e-14</td>\n",
       "      <td>50444.0</td>\n",
       "      <td>7.000000e-01</td>\n",
       "    </tr>\n",
       "    <tr>\n",
       "      <th>75%</th>\n",
       "      <td>5.269034e+00</td>\n",
       "      <td>8.088922e-01</td>\n",
       "      <td>1.374255e-14</td>\n",
       "      <td>50444.0</td>\n",
       "      <td>7.000000e-01</td>\n",
       "    </tr>\n",
       "    <tr>\n",
       "      <th>max</th>\n",
       "      <td>5.269034e+00</td>\n",
       "      <td>8.088922e-01</td>\n",
       "      <td>1.374255e-14</td>\n",
       "      <td>50444.0</td>\n",
       "      <td>7.000000e-01</td>\n",
       "    </tr>\n",
       "  </tbody>\n",
       "</table>\n",
       "</div>"
      ],
      "text/plain": [
       "                  a             b          bstd        n            mc\n",
       "count  1.000000e+04  1.000000e+04  1.000000e+04  10000.0  1.000000e+04\n",
       "mean   5.269034e+00  8.088922e-01  1.374255e-14  50444.0  7.000000e-01\n",
       "std    2.096206e-13  3.452966e-14  1.113927e-27      0.0  1.192439e-13\n",
       "min    5.269034e+00  8.088922e-01  1.374255e-14  50444.0  7.000000e-01\n",
       "25%    5.269034e+00  8.088922e-01  1.374255e-14  50444.0  7.000000e-01\n",
       "50%    5.269034e+00  8.088922e-01  1.374255e-14  50444.0  7.000000e-01\n",
       "75%    5.269034e+00  8.088922e-01  1.374255e-14  50444.0  7.000000e-01\n",
       "max    5.269034e+00  8.088922e-01  1.374255e-14  50444.0  7.000000e-01"
      ]
     },
     "execution_count": 59,
     "metadata": {},
     "output_type": "execute_result"
    }
   ],
   "source": [
    "errors_df.describe()"
   ]
  },
  {
   "cell_type": "code",
   "execution_count": 60,
   "metadata": {
    "collapsed": true,
    "deletable": true,
    "editable": true
   },
   "outputs": [],
   "source": [
    "# err = np.histogram(a=errors_df.b.values, bins=200, range=(0.8, 0.82))\n",
    "err = np.histogram(a=errors_df.b.values, bins=200)\n",
    "# berr = np.histogram(a=b_boot_err_df.b.values, bins=300, range=(0.8, 0.83))\n",
    "berr = np.histogram(a=b_boot_err_df.b.values, bins=300)\n",
    "# boot = np.histogram(a= b_booted_df.b.values, bins=600, range=(0.86, 0.92))\n",
    "boot = np.histogram(a= b_booted_df.b.values, bins=600)"
   ]
  },
  {
   "cell_type": "code",
   "execution_count": 61,
   "metadata": {
    "collapsed": false,
    "deletable": true,
    "editable": true
   },
   "outputs": [
    {
     "data": {
      "text/plain": [
       "(0, 100)"
      ]
     },
     "execution_count": 61,
     "metadata": {},
     "output_type": "execute_result"
    },
    {
     "data": {
      "image/png": "[encoded data removed]",
      "text/plain": [
       "<matplotlib.figure.Figure at 0x7f4bbcac1cf8>"
      ]
     },
     "metadata": {},
     "output_type": "display_data"
    }
   ],
   "source": [
    "fig, ax = plt.subplots(figsize=(8,5))\n",
    "\n",
    "ax.bar(err[1][:-1], err[0], width=0.0002, alpha=0.5, label='lat/lon/mag errors only')\n",
    "ax.bar(berr[1][:-1], berr[0], width=0.0002, alpha=0.5, label='bootstrapped w/ lat/lon/mag errors')\n",
    "ax.bar(boot[1][:-1], boot[0], width=0.0002, alpha=0.5, label='bootstrapped only')\n",
    "\n",
    "ax.legend()\n",
    "ax.set_xlabel('b-value (75km radius centered at LON 131, LAT 33)')\n",
    "ax.set_title(start_date + ' to ' + foreshock_time)\n",
    "\n",
    "ax.set_xlim(0.8, 1)\n",
    "ax.set_ylim(0, 100)"
   ]
  },
  {
   "cell_type": "code",
   "execution_count": 62,
   "metadata": {
    "collapsed": false
   },
   "outputs": [
    {
     "data": {
      "text/plain": [
       "(array([    0,     0,     0,     0,     0,     0,     0,     0,     0,\n",
       "            0,     0,     0,     0,     0,     0,     0,     0,     0,\n",
       "            0,     0,     0,     0,     0,     0,     0,     0,     0,\n",
       "            0,     0,     0,     0,     0,     0,     0,     0,     0,\n",
       "            0,     0,     0,     0,     0,     0,     0,     0,     0,\n",
       "            0,     0,     0,     0,     0,     0,     0,     0,     0,\n",
       "            0,     0,     0,     0,     0,     0,     0,     0,     0,\n",
       "            0,     0,     0,     0,     0,     0,     0,     0,     0,\n",
       "            0,     0,     0,     0,     0,     0,     0,     0,     0,\n",
       "            0,     0,     0,     0,     0,     0,     0,     0,     0,\n",
       "            0,     0,     0,     0,     0,     0,     0,     0,     0,\n",
       "            0, 10000,     0,     0,     0,     0,     0,     0,     0,\n",
       "            0,     0,     0,     0,     0,     0,     0,     0,     0,\n",
       "            0,     0,     0,     0,     0,     0,     0,     0,     0,\n",
       "            0,     0,     0,     0,     0,     0,     0,     0,     0,\n",
       "            0,     0,     0,     0,     0,     0,     0,     0,     0,\n",
       "            0,     0,     0,     0,     0,     0,     0,     0,     0,\n",
       "            0,     0,     0,     0,     0,     0,     0,     0,     0,\n",
       "            0,     0,     0,     0,     0,     0,     0,     0,     0,\n",
       "            0,     0,     0,     0,     0,     0,     0,     0,     0,\n",
       "            0,     0,     0,     0,     0,     0,     0,     0,     0,\n",
       "            0,     0,     0,     0,     0,     0,     0,     0,     0,\n",
       "            0,     0]),\n",
       " array([ 0.30889219,  0.31389219,  0.31889219,  0.32389219,  0.32889219,\n",
       "         0.33389219,  0.33889219,  0.34389219,  0.34889219,  0.35389219,\n",
       "         0.35889219,  0.36389219,  0.36889219,  0.37389219,  0.37889219,\n",
       "         0.38389219,  0.38889219,  0.39389219,  0.39889219,  0.40389219,\n",
       "         0.40889219,  0.41389219,  0.41889219,  0.42389219,  0.42889219,\n",
       "         0.43389219,  0.43889219,  0.44389219,  0.44889219,  0.45389219,\n",
       "         0.45889219,  0.46389219,  0.46889219,  0.47389219,  0.47889219,\n",
       "         0.48389219,  0.48889219,  0.49389219,  0.49889219,  0.50389219,\n",
       "         0.50889219,  0.51389219,  0.51889219,  0.52389219,  0.52889219,\n",
       "         0.53389219,  0.53889219,  0.54389219,  0.54889219,  0.55389219,\n",
       "         0.55889219,  0.56389219,  0.56889219,  0.57389219,  0.57889219,\n",
       "         0.58389219,  0.58889219,  0.59389219,  0.59889219,  0.60389219,\n",
       "         0.60889219,  0.61389219,  0.61889219,  0.62389219,  0.62889219,\n",
       "         0.63389219,  0.63889219,  0.64389219,  0.64889219,  0.65389219,\n",
       "         0.65889219,  0.66389219,  0.66889219,  0.67389219,  0.67889219,\n",
       "         0.68389219,  0.68889219,  0.69389219,  0.69889219,  0.70389219,\n",
       "         0.70889219,  0.71389219,  0.71889219,  0.72389219,  0.72889219,\n",
       "         0.73389219,  0.73889219,  0.74389219,  0.74889219,  0.75389219,\n",
       "         0.75889219,  0.76389219,  0.76889219,  0.77389219,  0.77889219,\n",
       "         0.78389219,  0.78889219,  0.79389219,  0.79889219,  0.80389219,\n",
       "         0.80889219,  0.81389219,  0.81889219,  0.82389219,  0.82889219,\n",
       "         0.83389219,  0.83889219,  0.84389219,  0.84889219,  0.85389219,\n",
       "         0.85889219,  0.86389219,  0.86889219,  0.87389219,  0.87889219,\n",
       "         0.88389219,  0.88889219,  0.89389219,  0.89889219,  0.90389219,\n",
       "         0.90889219,  0.91389219,  0.91889219,  0.92389219,  0.92889219,\n",
       "         0.93389219,  0.93889219,  0.94389219,  0.94889219,  0.95389219,\n",
       "         0.95889219,  0.96389219,  0.96889219,  0.97389219,  0.97889219,\n",
       "         0.98389219,  0.98889219,  0.99389219,  0.99889219,  1.00389219,\n",
       "         1.00889219,  1.01389219,  1.01889219,  1.02389219,  1.02889219,\n",
       "         1.03389219,  1.03889219,  1.04389219,  1.04889219,  1.05389219,\n",
       "         1.05889219,  1.06389219,  1.06889219,  1.07389219,  1.07889219,\n",
       "         1.08389219,  1.08889219,  1.09389219,  1.09889219,  1.10389219,\n",
       "         1.10889219,  1.11389219,  1.11889219,  1.12389219,  1.12889219,\n",
       "         1.13389219,  1.13889219,  1.14389219,  1.14889219,  1.15389219,\n",
       "         1.15889219,  1.16389219,  1.16889219,  1.17389219,  1.17889219,\n",
       "         1.18389219,  1.18889219,  1.19389219,  1.19889219,  1.20389219,\n",
       "         1.20889219,  1.21389219,  1.21889219,  1.22389219,  1.22889219,\n",
       "         1.23389219,  1.23889219,  1.24389219,  1.24889219,  1.25389219,\n",
       "         1.25889219,  1.26389219,  1.26889219,  1.27389219,  1.27889219,\n",
       "         1.28389219,  1.28889219,  1.29389219,  1.29889219,  1.30389219,\n",
       "         1.30889219]))"
      ]
     },
     "execution_count": 62,
     "metadata": {},
     "output_type": "execute_result"
    }
   ],
   "source": [
    "err"
   ]
  },
  {
   "cell_type": "code",
   "execution_count": 30,
   "metadata": {
    "collapsed": false,
    "deletable": true,
    "editable": true
   },
   "outputs": [],
   "source": [
    "# 0.9/400"
   ]
  },
  {
   "cell_type": "code",
   "execution_count": null,
   "metadata": {
    "collapsed": true,
    "deletable": true,
    "editable": true
   },
   "outputs": [],
   "source": []
  },
  {
   "cell_type": "code",
   "execution_count": 31,
   "metadata": {
    "collapsed": false,
    "deletable": true,
    "editable": true
   },
   "outputs": [],
   "source": [
    "# lat_i = np.linspace(32, 34, 201).round(4)"
   ]
  },
  {
   "cell_type": "code",
   "execution_count": 32,
   "metadata": {
    "collapsed": false,
    "deletable": true,
    "editable": true
   },
   "outputs": [],
   "source": [
    "# from itertools import product\n",
    "# new_index = [x for x in product(lon_i, lat_i)]"
   ]
  },
  {
   "cell_type": "code",
   "execution_count": 33,
   "metadata": {
    "collapsed": false,
    "deletable": true,
    "editable": true
   },
   "outputs": [],
   "source": [
    "# bdf = grid_statistic_pipeline(grid=new_index, data=d[d.mag > 0.5].copy(), radius=5)\n",
    "# #start time 13:33 -> 13:14"
   ]
  },
  {
   "cell_type": "code",
   "execution_count": 34,
   "metadata": {
    "collapsed": true,
    "deletable": true,
    "editable": true
   },
   "outputs": [],
   "source": [
    "# bdf = pd.DataFrame(bdf, columns=['a','b','bstd','n','mc', 'lon', 'lat'])"
   ]
  },
  {
   "cell_type": "code",
   "execution_count": 35,
   "metadata": {
    "collapsed": false,
    "deletable": true,
    "editable": true
   },
   "outputs": [],
   "source": [
    "# bdf[bdf.n < 50][['a','b','bstd','n','mc']] = np.nan\n",
    "# df.loc[df['A'] > 2, 'B'] = new_val\n",
    "# bdf.loc[bdf['n'] < 50, ['a','b','bstd','n','mc']] = np.nan"
   ]
  },
  {
   "cell_type": "code",
   "execution_count": 36,
   "metadata": {
    "collapsed": false,
    "deletable": true,
    "editable": true
   },
   "outputs": [],
   "source": [
    "# bdf.describe()"
   ]
  },
  {
   "cell_type": "code",
   "execution_count": 37,
   "metadata": {
    "collapsed": false,
    "deletable": true,
    "editable": true
   },
   "outputs": [],
   "source": [
    "# zi = bdf.pivot(index='lat', columns='lon', values='b').values"
   ]
  },
  {
   "cell_type": "code",
   "execution_count": 38,
   "metadata": {
    "collapsed": false,
    "deletable": true,
    "editable": true
   },
   "outputs": [],
   "source": [
    "# # from matplotlib.colors import LogNorm\n",
    "\n",
    "# fig, ax = plt.subplots(figsize=(8,8))\n",
    "# m = Basemap(projection='merc'\n",
    "#         , llcrnrlat=32        # the LOWER LEFT corner of latitude\n",
    "#         , urcrnrlat=33.5        # the UPPER RIGHT corner of latitude\n",
    "#         , llcrnrlon=130      # the LOWER LEFT corner of longitude\n",
    "#         , urcrnrlon=132\n",
    "#         , resolution='i'\n",
    "#         , ax=ax)\n",
    "\n",
    "# m.drawcoastlines()\n",
    "# lines = np.arange(0,180,0.2)\n",
    "# m.drawparallels(lines, labels=lines)\n",
    "# m.drawmeridians(lines, labels=lines)\n",
    "\n",
    "# xi, _yi = m(lon_i, np.zeros_like(lon_i))\n",
    "# _xi, yi = m(np.zeros_like(lat_i), lat_i)\n",
    "\n",
    "# x, y = m(lon_i, lat_i)\n",
    "\n",
    "# xi, yi = np.meshgrid(xi, yi)\n",
    "\n",
    "# zi = np.ma.masked_invalid(zi)\n",
    "\n",
    "# # cbar = ax.pcolormesh(xi, yi, zi, cmap='jet', norm=LogNorm())\n",
    "# cbar = ax.pcolormesh(xi, yi, zi, cmap='jet', vmin=0.5, vmax=1.2)\n",
    "\n",
    "# fig.colorbar(cbar, label='b-value', fraction=0.036, pad=0.05)\n",
    "# main_shock = (130.763, 32.7545)\n",
    "\n",
    "# x, y = m(main_shock[0], main_shock[1])\n",
    "# ax.scatter(x, y, marker='*', s=350, color='white', edgecolor='black', zorder=20)\n",
    "# ax.set_title('minmag=0.5, R=5, startdate={s}'.format(s=start_date), y=1.05)"
   ]
  },
  {
   "cell_type": "code",
   "execution_count": 39,
   "metadata": {
    "collapsed": false,
    "deletable": true,
    "editable": true
   },
   "outputs": [],
   "source": [
    "# lon_i.shape"
   ]
  },
  {
   "cell_type": "code",
   "execution_count": 40,
   "metadata": {
    "collapsed": false,
    "deletable": true,
    "editable": true
   },
   "outputs": [],
   "source": [
    "# lat_i.shape"
   ]
  },
  {
   "cell_type": "code",
   "execution_count": null,
   "metadata": {
    "collapsed": true,
    "deletable": true,
    "editable": true
   },
   "outputs": [],
   "source": []
  },
  {
   "cell_type": "markdown",
   "metadata": {
    "collapsed": true,
    "deletable": true,
    "editable": true
   },
   "source": [
    "# 4 locations from before (low/high b, max slip, hypocenter)"
   ]
  },
  {
   "cell_type": "code",
   "execution_count": 41,
   "metadata": {
    "collapsed": true,
    "deletable": true,
    "editable": true
   },
   "outputs": [],
   "source": [
    "# max_slip = (130.9372, 32.84189)\n",
    "# fm_main = (130.763, 32.7545)#, 128, 74, -14)\n",
    "# high_b = (131.25, 33.15,)\n",
    "# low_b = (130.5, 32.5)"
   ]
  },
  {
   "cell_type": "code",
   "execution_count": 42,
   "metadata": {
    "collapsed": true,
    "deletable": true,
    "editable": true
   },
   "outputs": [],
   "source": [
    "# df_min = df[df.mag > 1.5].copy()"
   ]
  },
  {
   "cell_type": "code",
   "execution_count": 43,
   "metadata": {
    "collapsed": false,
    "deletable": true,
    "editable": true
   },
   "outputs": [],
   "source": [
    "# get_node_data(node=low_b, radius=15, data=df_min).describe()"
   ]
  },
  {
   "cell_type": "code",
   "execution_count": 44,
   "metadata": {
    "collapsed": false,
    "deletable": true,
    "editable": true
   },
   "outputs": [],
   "source": [
    "# df['hz_err_deg'] = df['horizontal_error'] / 111.113"
   ]
  },
  {
   "cell_type": "code",
   "execution_count": 45,
   "metadata": {
    "collapsed": false,
    "deletable": true,
    "editable": true
   },
   "outputs": [],
   "source": [
    "# b_hypo = []\n",
    "# for r in range(100):\n",
    "#     loc_err_df = df.copy()\n",
    "#     loc_err_df['lon'] = loc_err_df['lon'] + np.random.uniform(-1,1) * loc_err_df['horizontal_error']\n",
    "#     loc_err_df['lat'] = loc_err_df['lat'] + np.random.uniform(-1,1) * loc_err_df['horizontal_error']\n",
    "#     node_df = get_node_data(node=fm_main, radius=15, data=loc_err_df)\n",
    "#     a, b, bstd, n, mc = calc_fmd_stats_with_mc(node_df.mag)\n",
    "#     b_hypo.append(b)"
   ]
  },
  {
   "cell_type": "code",
   "execution_count": 46,
   "metadata": {
    "collapsed": true,
    "deletable": true,
    "editable": true
   },
   "outputs": [],
   "source": [
    "# def generate_b_based_on_location_error(df, location, radius):\n",
    "#     err_df = df.copy()\n",
    "#     err_df['lon'] = err_df['lon'] + np.random.uniform(-1, 1) * err_df['hz_err_deg']\n",
    "#     err_df['lat'] = err_df['lat'] + np.random.uniform(-1, 1) * err_df['hz_err_deg']\n",
    "#     node_df = get_node_data(node=location, radius=radius, data=err_df)\n",
    "#     a, b, bstd, n, mc = calc_fmd_stats_with_mc(node_df.mag)\n",
    "#     return a, b, bstd, n, mc"
   ]
  },
  {
   "cell_type": "code",
   "execution_count": 47,
   "metadata": {
    "collapsed": false,
    "deletable": true,
    "editable": true
   },
   "outputs": [],
   "source": [
    "# %timeit generate_b_based_on_location_error(df=df, location=fm_main, radius=15)"
   ]
  },
  {
   "cell_type": "markdown",
   "metadata": {
    "deletable": true,
    "editable": true
   },
   "source": [
    "# hypocenter b-value distribution"
   ]
  },
  {
   "cell_type": "code",
   "execution_count": 48,
   "metadata": {
    "collapsed": true,
    "deletable": true,
    "editable": true
   },
   "outputs": [],
   "source": [
    "# b10000samples = [generate_b_based_on_location_error(df=df[df.mag>1.5], location=fm_main, radius=15) for x in range(10000)]"
   ]
  },
  {
   "cell_type": "code",
   "execution_count": 49,
   "metadata": {
    "collapsed": false,
    "deletable": true,
    "editable": true
   },
   "outputs": [],
   "source": [
    "# b10000df = pd.DataFrame(np.array(b10000samples), columns=['a','b','bstd','n','mc'])\n",
    "# ax = b10000df.b.hist(bins=100)\n",
    "# ax.set_title('hypocenter')"
   ]
  },
  {
   "cell_type": "code",
   "execution_count": 50,
   "metadata": {
    "collapsed": false,
    "deletable": true,
    "editable": true
   },
   "outputs": [],
   "source": [
    "# b10000df.describe()"
   ]
  },
  {
   "cell_type": "markdown",
   "metadata": {
    "deletable": true,
    "editable": true
   },
   "source": [
    "# low-bvalue"
   ]
  },
  {
   "cell_type": "code",
   "execution_count": 51,
   "metadata": {
    "collapsed": false,
    "deletable": true,
    "editable": true
   },
   "outputs": [],
   "source": [
    "# low_b_10000_samples = [generate_b_based_on_location_error(df=df[df.mag>1.5]\n",
    "#                                                           , location=low_b, radius=15) for x in range(10000)]"
   ]
  },
  {
   "cell_type": "code",
   "execution_count": 52,
   "metadata": {
    "collapsed": false,
    "deletable": true,
    "editable": true
   },
   "outputs": [],
   "source": [
    "# low_b_10000_samples = pd.DataFrame(np.array(low_b_10000_samples), columns=['a','b','bstd','n','mc'])\n",
    "# ax = low_b_10000_samples.b.hist(bins=100)\n",
    "# ax.set_title('low b-value')"
   ]
  },
  {
   "cell_type": "markdown",
   "metadata": {
    "deletable": true,
    "editable": true
   },
   "source": [
    "# max slip"
   ]
  },
  {
   "cell_type": "code",
   "execution_count": 53,
   "metadata": {
    "collapsed": false,
    "deletable": true,
    "editable": true
   },
   "outputs": [],
   "source": [
    "# max_slip_10000_samples = [generate_b_based_on_location_error(df=df[df.mag>1.5]\n",
    "#                                                           , location=max_slip, radius=15) for x in range(10000)]"
   ]
  },
  {
   "cell_type": "code",
   "execution_count": 54,
   "metadata": {
    "collapsed": false,
    "deletable": true,
    "editable": true
   },
   "outputs": [],
   "source": [
    "# max_slip_10000_samples = pd.DataFrame(np.array(max_slip_10000_samples), columns=['a','b','bstd','n','mc'])\n",
    "# ax = max_slip_10000_samples.b.hist(bins=100)\n",
    "# ax.set_title('max slip')"
   ]
  },
  {
   "cell_type": "markdown",
   "metadata": {
    "deletable": true,
    "editable": true
   },
   "source": [
    "# high b value"
   ]
  },
  {
   "cell_type": "code",
   "execution_count": 55,
   "metadata": {
    "collapsed": true,
    "deletable": true,
    "editable": true
   },
   "outputs": [],
   "source": [
    "# high_b_10000_samples = [generate_b_based_on_location_error(df=df[df.mag>1.5]\n",
    "#                                                           , location=high_b, radius=15) for x in range(10000)]"
   ]
  },
  {
   "cell_type": "code",
   "execution_count": 56,
   "metadata": {
    "collapsed": false,
    "deletable": true,
    "editable": true
   },
   "outputs": [],
   "source": [
    "# high_b_10000_samples = pd.DataFrame(np.array(high_b_10000_samples), columns=['a','b','bstd','n','mc'])\n",
    "# ax = high_b_10000_samples.b.hist(bins=100)\n",
    "# ax.set_title('low b-value')"
   ]
  },
  {
   "cell_type": "code",
   "execution_count": null,
   "metadata": {
    "collapsed": true,
    "deletable": true,
    "editable": true
   },
   "outputs": [],
   "source": []
  },
  {
   "cell_type": "code",
   "execution_count": null,
   "metadata": {
    "collapsed": true,
    "deletable": true,
    "editable": true
   },
   "outputs": [],
   "source": []
  },
  {
   "cell_type": "code",
   "execution_count": 57,
   "metadata": {
    "collapsed": false,
    "deletable": true,
    "editable": true
   },
   "outputs": [],
   "source": [
    "# err_df = df.copy()\n",
    "\n",
    "# %timeit err_df['lon'] = err_df['lon'] + np.random.uniform(-1, 1) * err_df['hz_err_deg']\n"
   ]
  },
  {
   "cell_type": "code",
   "execution_count": 58,
   "metadata": {
    "collapsed": false,
    "deletable": true,
    "editable": true
   },
   "outputs": [],
   "source": [
    "# err_df['hz_err_deg'].describe()"
   ]
  },
  {
   "cell_type": "code",
   "execution_count": 59,
   "metadata": {
    "collapsed": false,
    "deletable": true,
    "editable": true
   },
   "outputs": [],
   "source": [
    "# pd.DataFrame(b_hypo).hist()"
   ]
  },
  {
   "cell_type": "code",
   "execution_count": 60,
   "metadata": {
    "collapsed": true,
    "deletable": true,
    "editable": true
   },
   "outputs": [],
   "source": [
    "# def generate_b_based_on_location_error(df, samples, location, radius):\n",
    "#     b_hypo = []\n",
    "#     for r in range(samples):\n",
    "#         loc_err_df = df.copy()\n",
    "#         loc_err_df = get_node_data(node=location, radius=radius, data=loc_err_df)\n",
    "#         loc_err_df['lon'] = loc_err_df['lon'] + np.random.uniform(-1,1) * loc_err_df['hz_err_deg']\n",
    "#         loc_err_df['lat'] = loc_err_df['lat'] + np.random.uniform(-1,1) * loc_err_df['hz_err_deg']\n",
    "# #         node_df = get_node_data(node=location, radius=radius, data=loc_err_df)\n",
    "#         a, b, bstd, n, mc = calc_fmd_stats_with_mc(loc_err_df.mag)\n",
    "#         b_hypo.append(b)\n",
    "#     return np.array(b_hypo)"
   ]
  },
  {
   "cell_type": "code",
   "execution_count": 61,
   "metadata": {
    "collapsed": false,
    "deletable": true,
    "editable": true
   },
   "outputs": [],
   "source": [
    "# b_hypo"
   ]
  },
  {
   "cell_type": "code",
   "execution_count": 62,
   "metadata": {
    "collapsed": false,
    "deletable": true,
    "editable": true
   },
   "outputs": [],
   "source": [
    "# hypo_b = generate_b_based_on_location_error(df=df, samples=10000, location=fm_main, radius=15)"
   ]
  },
  {
   "cell_type": "code",
   "execution_count": 63,
   "metadata": {
    "collapsed": false,
    "deletable": true,
    "editable": true
   },
   "outputs": [],
   "source": [
    "# hypo_b"
   ]
  },
  {
   "cell_type": "code",
   "execution_count": 64,
   "metadata": {
    "collapsed": false,
    "deletable": true,
    "editable": true
   },
   "outputs": [],
   "source": [
    "# (1.6/10*10000)/60"
   ]
  }
 ],
 "metadata": {
  "kernelspec": {
   "display_name": "Python 3",
   "language": "python",
   "name": "python3"
  },
  "language_info": {
   "codemirror_mode": {
    "name": "ipython",
    "version": 3
   },
   "file_extension": ".py",
   "mimetype": "text/x-python",
   "name": "python",
   "nbconvert_exporter": "python",
   "pygments_lexer": "ipython3",
   "version": "3.6.0"
  }
 },
 "nbformat": 4,
 "nbformat_minor": 2
}
