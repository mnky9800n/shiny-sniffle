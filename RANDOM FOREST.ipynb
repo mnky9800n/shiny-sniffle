{
 "cells": [
  {
   "cell_type": "code",
   "execution_count": 49,
   "metadata": {
    "collapsed": true
   },
   "outputs": [],
   "source": [
    "%matplotlib inline\n",
    "import pandas as pd\n",
    "import numpy as np\n",
    "from utilities import plotting\n",
    "from utilities import stats\n",
    "from utilities import timestamps\n",
    "from utilities import import_export\n",
    "from utilities import polygon_selection\n",
    "from mpl_toolkits.basemap import Basemap\n",
    "from itertools import product\n",
    "import matplotlib.pyplot as plt\n",
    "from obspy.imaging.beachball import beach\n",
    "import bs4 as bs\n",
    "import matplotlib as mpl\n",
    "from scipy.stats import linregress\n",
    "import scipy\n",
    "\n",
    "\n",
    "def calc_b_with_time_window(dataframe, n_eq, time_window_center):\n",
    "    df_window = dataframe.copy()\n",
    "    time_window_index = df_window.index.get_loc(time_window_center, method='pad')\n",
    "    \n",
    "    lower_index = time_window_index - n_eq\n",
    "    if lower_index < 0:\n",
    "        lower_index = 0\n",
    "    \n",
    "#     df_window = df_window.ix[time_window_index - n_eq : time_window_index + n_eq]\n",
    "    df_window = df_window.ix[lower_index : time_window_index + n_eq]\n",
    "    a, b, bstd, n, mc = stats.calc_fmd_stats_with_mc(df_window.mag)\n",
    "    return a, b, bstd, n, mc, time_window_index\n",
    "\n",
    "def calc_b_value_for_parameters(dataframe, parameters, location):\n",
    "    # TODO: will multiprocessing speed this up?\n",
    "    rows = []\n",
    "    for r, t in parameters:\n",
    "        try:\n",
    "#             for r, t in parameters:\n",
    "            df_c = polygon_selection.get_node_data(node=location, data=dataframe, radius=r, m=1)\n",
    "            df_c = df_c.loc[df_c.index >= t]\n",
    "\n",
    "            a, b, bstd, n, mc = stats.calc_fmd_stats_with_mc(df_c.mag)\n",
    "            row = np.array((r,) + (t,) + (a, b, bstd, n, mc) + tuple(location))\n",
    "            rows.append(row)\n",
    "        except:\n",
    "            row = np.array((r,) + (t,) +(np.nan, np.nan, np.nan, np.nan, np.nan) + tuple(location))\n",
    "\n",
    "    return rows\n",
    "\n",
    "def calc_b_for_parameters_attr_iter(attr):\n",
    "    dataframe, parameters, location = attr\n",
    "    return calc_b_value_for_parameters(dataframe, parameters, location)\n",
    "\n",
    "def plot_beach_ball(earthquake, m, ax, **kwargs):\n",
    "    lon, lat = earthquake['coordinates']\n",
    "    x, y = m(lon, lat)\n",
    "    b = beach(earthquake['focal_mech'], xy=(x, y), **kwargs)\n",
    "    b.set_zorder(10)\n",
    "    ax.add_collection(b)\n",
    "    \n",
    "def parse_coords(c):\n",
    "    c = c.replace('\\t', '')\n",
    "    c = c.replace('\\n', '')\n",
    "    c = c.strip()\n",
    "    c = c.split(' ')\n",
    "    c = [[float(co) for co in coord.split(',')] for coord in c]\n",
    "    c = np.array([np.array(co) for co in c])\n",
    "    return c\n",
    "\n",
    "def shape_for_scatter_plot(bdf):\n",
    "    bdf = bdf[bdf.n1 >= 500].copy()\n",
    "    bdf['years before'] = bdf['t1'].values.astype('datetime64[Y]').astype(int) - 20\n",
    "    return bdf\n",
    "\n",
    "def rupture_length(magnitude):\n",
    "    \"\"\"\n",
    "    calculates rupture length using helmstetter relation\n",
    "    \"\"\"\n",
    "    return 0.01 * 10 ** (0.5 * magnitude)\n",
    "\n",
    "def D_greater_than_calpha(D, alpha, n, m):\n",
    "    \"\"\"\n",
    "    Compares the KS statistic to expected alpha.\n",
    "    \n",
    "    Returns True if significant.\n",
    "    \"\"\"\n",
    "    c_alpha = np.sqrt(-0.5 * np.log(alpha/2.))\n",
    "    D_comparison = c_alpha * np.sqrt( (n + m) / (n * m) )\n",
    "    if D > D_comparison:\n",
    "        return True\n",
    "    else:\n",
    "        return False"
   ]
  },
  {
   "cell_type": "code",
   "execution_count": 5,
   "metadata": {
    "collapsed": true
   },
   "outputs": [],
   "source": [
    "kumamoto = {'coordinates':(130.763, 32.7545), 'time':'2016-04-14 12:26:00', 'tz':'UTC', 'magnitude':7.3, 'name':'Kumamoto', 'focal_mech':[128  , 71 , -14]}\n",
    "foreshock1 = {'focal_mech':[299, 79, -10], 'magnitude':6.5, 'coordinates':[130.808667, 32.741667]}\n",
    "foreshock2 = {'focal_mech':[30, 77, 180], 'magnitude':6.4, 'coordinates':(130.777667, 32.700667)}\n",
    "rupture_length = rupture_length(7.3)\n"
   ]
  },
  {
   "cell_type": "code",
   "execution_count": 6,
   "metadata": {
    "collapsed": true
   },
   "outputs": [],
   "source": [
    "df = import_export.import_catalog(location='data/ccu.dat', delimiter='\\t', names=['lon', 'lat', 'decimal_year', 'month', 'day', 'mag'\n",
    "                                                        , 'depth', 'hour', 'minute', 'second', 'horizontal_error'\n",
    "                                                        , 'depth_error', 'mag_err'])\n",
    "eq = kumamoto\n",
    "\n",
    "df_regional = polygon_selection.get_node_data(data=df, node=eq['coordinates'], radius=3*rupture_length, m=1)\n",
    "df_regional = df_regional.loc[df_regional.index < eq['time']]\n",
    "df_regional = df_regional[df_regional.depth <=25]\n",
    "df_regional = df_regional[df_regional.mag >= 0.5]\n",
    "\n",
    "soup = bs.BeautifulSoup(open('/home/max/research/kumamoto/data/kyushu_fault.kml'), 'lxml')\n",
    "fault_coordinates = [parse_coords(tag.text) for tag in soup.findAll('coordinates')]"
   ]
  },
  {
   "cell_type": "code",
   "execution_count": 7,
   "metadata": {},
   "outputs": [
    {
     "data": {
      "text/plain": [
       "55080"
      ]
     },
     "execution_count": 7,
     "metadata": {},
     "output_type": "execute_result"
    }
   ],
   "source": [
    "radii = np.arange(5, (rupture_length * 1.5) + 1, 5)\n",
    "timii = pd.date_range(start='01-01-1990', end=eq['time'], freq='12M')\n",
    "radii = np.arange(5, 90, 1)\n",
    "radii_compare = [ 90,]\n",
    "depths = np.arange(1, 25, 1)\n",
    "parameters = [x for x in product(*[radii, radii_compare, timii, depths])]\n",
    "len(parameters)"
   ]
  },
  {
   "cell_type": "code",
   "execution_count": 8,
   "metadata": {
    "collapsed": true
   },
   "outputs": [],
   "source": [
    "def calc_ks_test(params):\n",
    "#     r1, r2, t1, t2 = params\n",
    "    r1, r2, t1, d = params\n",
    "    \n",
    "    t2 = t1\n",
    "    \n",
    "    df1 = df_regional[df_regional.distance <= r1]\n",
    "    df1 = df1.loc[df1.index >= t1]\n",
    "    df1 = df1[df1.depth.between(d-1, d+1)]\n",
    "    \n",
    "    df2 = df_regional[df_regional.distance <= r2]\n",
    "    df2 = df2.loc[df2.index >= t2]\n",
    "    \n",
    "    a1, b1, bstd1, n1, mc1 = stats.calc_fmd_stats_with_mc(df1.mag)\n",
    "    a2, b2, bstd2, n2, mc2 = stats.calc_fmd_stats_with_mc(df2.mag)\n",
    "    \n",
    "    df1 = df1[df1.mag >= mc1]\n",
    "    df2 = df2[df2.mag >= mc2]\n",
    "    \n",
    "    ks = scipy.stats.ks_2samp(df1.mag, df2.mag)\n",
    "    \n",
    "    return r1, r2, d, t1, t2, a1, b1, bstd1, n1, mc1, a2, b2, bstd2, n2, mc2, ks.statistic, ks.pvalue"
   ]
  },
  {
   "cell_type": "code",
   "execution_count": 9,
   "metadata": {},
   "outputs": [
    {
     "name": "stderr",
     "output_type": "stream",
     "text": [
      "/home/max/pymap3/utilities/stats.py:48: RuntimeWarning: invalid value encountered in double_scalars\n",
      "  sigma_mag = np.sum([((m - average) ** 2) / (length * (length - 1)) for m in magnitudes])\n",
      "/home/max/pymap3/utilities/stats.py:48: RuntimeWarning: invalid value encountered in double_scalars\n",
      "  sigma_mag = np.sum([((m - average) ** 2) / (length * (length - 1)) for m in magnitudes])\n",
      "/home/max/pymap3/utilities/stats.py:48: RuntimeWarning: invalid value encountered in double_scalars\n",
      "  sigma_mag = np.sum([((m - average) ** 2) / (length * (length - 1)) for m in magnitudes])\n",
      "/home/max/anaconda2/envs/research/lib/python3.5/site-packages/scipy/stats/stats.py:4750: RuntimeWarning: invalid value encountered in true_divide\n",
      "  cdf1 = np.searchsorted(data1, data_all, side='right') / (1.0*n1)\n",
      "/home/max/anaconda2/envs/research/lib/python3.5/site-packages/scipy/stats/stats.py:4750: RuntimeWarning: invalid value encountered in true_divide\n",
      "  cdf1 = np.searchsorted(data1, data_all, side='right') / (1.0*n1)\n",
      "/home/max/anaconda2/envs/research/lib/python3.5/site-packages/scipy/stats/stats.py:4756: RuntimeWarning: divide by zero encountered in double_scalars\n",
      "  prob = distributions.kstwobign.sf((en + 0.12 + 0.11 / en) * d)\n",
      "/home/max/anaconda2/envs/research/lib/python3.5/site-packages/scipy/stats/stats.py:4756: RuntimeWarning: divide by zero encountered in double_scalars\n",
      "  prob = distributions.kstwobign.sf((en + 0.12 + 0.11 / en) * d)\n",
      "/home/max/anaconda2/envs/research/lib/python3.5/site-packages/scipy/stats/stats.py:4750: RuntimeWarning: invalid value encountered in true_divide\n",
      "  cdf1 = np.searchsorted(data1, data_all, side='right') / (1.0*n1)\n",
      "/home/max/anaconda2/envs/research/lib/python3.5/site-packages/scipy/stats/stats.py:4750: RuntimeWarning: invalid value encountered in true_divide\n",
      "  cdf1 = np.searchsorted(data1, data_all, side='right') / (1.0*n1)\n",
      "/home/max/anaconda2/envs/research/lib/python3.5/site-packages/scipy/stats/stats.py:4750: RuntimeWarning: invalid value encountered in true_divide\n",
      "  cdf1 = np.searchsorted(data1, data_all, side='right') / (1.0*n1)\n",
      "/home/max/anaconda2/envs/research/lib/python3.5/site-packages/scipy/stats/stats.py:4756: RuntimeWarning: divide by zero encountered in double_scalars\n",
      "  prob = distributions.kstwobign.sf((en + 0.12 + 0.11 / en) * d)\n",
      "/home/max/anaconda2/envs/research/lib/python3.5/site-packages/scipy/stats/stats.py:4756: RuntimeWarning: divide by zero encountered in double_scalars\n",
      "  prob = distributions.kstwobign.sf((en + 0.12 + 0.11 / en) * d)\n",
      "/home/max/anaconda2/envs/research/lib/python3.5/site-packages/scipy/stats/stats.py:4756: RuntimeWarning: divide by zero encountered in double_scalars\n",
      "  prob = distributions.kstwobign.sf((en + 0.12 + 0.11 / en) * d)\n",
      "/home/max/pymap3/utilities/stats.py:48: RuntimeWarning: invalid value encountered in double_scalars\n",
      "  sigma_mag = np.sum([((m - average) ** 2) / (length * (length - 1)) for m in magnitudes])\n",
      "/home/max/pymap3/utilities/stats.py:48: RuntimeWarning: invalid value encountered in double_scalars\n",
      "  sigma_mag = np.sum([((m - average) ** 2) / (length * (length - 1)) for m in magnitudes])\n",
      "/home/max/anaconda2/envs/research/lib/python3.5/site-packages/scipy/stats/stats.py:4750: RuntimeWarning: invalid value encountered in true_divide\n",
      "  cdf1 = np.searchsorted(data1, data_all, side='right') / (1.0*n1)\n",
      "/home/max/anaconda2/envs/research/lib/python3.5/site-packages/scipy/stats/stats.py:4756: RuntimeWarning: divide by zero encountered in double_scalars\n",
      "  prob = distributions.kstwobign.sf((en + 0.12 + 0.11 / en) * d)\n",
      "/home/max/anaconda2/envs/research/lib/python3.5/site-packages/scipy/stats/stats.py:4750: RuntimeWarning: invalid value encountered in true_divide\n",
      "  cdf1 = np.searchsorted(data1, data_all, side='right') / (1.0*n1)\n",
      "/home/max/anaconda2/envs/research/lib/python3.5/site-packages/scipy/stats/stats.py:4756: RuntimeWarning: divide by zero encountered in double_scalars\n",
      "  prob = distributions.kstwobign.sf((en + 0.12 + 0.11 / en) * d)\n",
      "/home/max/anaconda2/envs/research/lib/python3.5/site-packages/scipy/stats/stats.py:4750: RuntimeWarning: invalid value encountered in true_divide\n",
      "  cdf1 = np.searchsorted(data1, data_all, side='right') / (1.0*n1)\n",
      "/home/max/anaconda2/envs/research/lib/python3.5/site-packages/scipy/stats/stats.py:4756: RuntimeWarning: divide by zero encountered in double_scalars\n",
      "  prob = distributions.kstwobign.sf((en + 0.12 + 0.11 / en) * d)\n",
      "/home/max/pymap3/utilities/stats.py:48: RuntimeWarning: invalid value encountered in double_scalars\n",
      "  sigma_mag = np.sum([((m - average) ** 2) / (length * (length - 1)) for m in magnitudes])\n",
      "/home/max/pymap3/utilities/stats.py:48: RuntimeWarning: invalid value encountered in double_scalars\n",
      "  sigma_mag = np.sum([((m - average) ** 2) / (length * (length - 1)) for m in magnitudes])\n",
      "/home/max/pymap3/utilities/stats.py:48: RuntimeWarning: invalid value encountered in double_scalars\n",
      "  sigma_mag = np.sum([((m - average) ** 2) / (length * (length - 1)) for m in magnitudes])\n"
     ]
    }
   ],
   "source": [
    "from multiprocessing import Pool\n",
    "\n",
    "pool = Pool()\n",
    "\n",
    "results = pool.map(calc_ks_test, parameters)\n",
    "pool.close()"
   ]
  },
  {
   "cell_type": "code",
   "execution_count": 10,
   "metadata": {
    "collapsed": true
   },
   "outputs": [],
   "source": [
    "ks_df = pd.DataFrame(results, columns=['r1', 'r2', 'depth_window', 't1', 't2', 'a1', 'b1', 'bstd1', 'n1', 'mc1'\n",
    "                                         ,'a2', 'b2', 'bstd2', 'n2', 'mc2'\n",
    "                                         ,'D', 'p-value'])"
   ]
  },
  {
   "cell_type": "code",
   "execution_count": 11,
   "metadata": {
    "collapsed": true
   },
   "outputs": [],
   "source": [
    "# ks_df = ks_df[(ks_df.r1 != ks_df.r2) & (ks_df.t1 != ks_df.t2)]\n",
    "\n",
    "ks_df['D > c_alpha'] = ks_df.apply(lambda row: D_greater_than_calpha(row['D'], 0.01, row['n1'], row['n2']), axis=1)\n",
    "\n",
    "ks_df['bdiff'] = ks_df.b1 - ks_df.b2\n",
    "\n",
    "ks_df['rdiff'] = ks_df.r1 - ks_df.r2\n",
    "\n",
    "ks_df['pass'] = (ks_df['D > c_alpha']==True) & (ks_df['p-value'] <= 0.01)"
   ]
  },
  {
   "cell_type": "code",
   "execution_count": 12,
   "metadata": {},
   "outputs": [
    {
     "data": {
      "text/html": [
       "<div>\n",
       "<style>\n",
       "    .dataframe thead tr:only-child th {\n",
       "        text-align: right;\n",
       "    }\n",
       "\n",
       "    .dataframe thead th {\n",
       "        text-align: left;\n",
       "    }\n",
       "\n",
       "    .dataframe tbody tr th {\n",
       "        vertical-align: top;\n",
       "    }\n",
       "</style>\n",
       "<table border=\"1\" class=\"dataframe\">\n",
       "  <thead>\n",
       "    <tr style=\"text-align: right;\">\n",
       "      <th></th>\n",
       "      <th>r1</th>\n",
       "      <th>r2</th>\n",
       "      <th>depth_window</th>\n",
       "      <th>t1</th>\n",
       "      <th>t2</th>\n",
       "      <th>a1</th>\n",
       "      <th>b1</th>\n",
       "      <th>bstd1</th>\n",
       "      <th>n1</th>\n",
       "      <th>mc1</th>\n",
       "      <th>...</th>\n",
       "      <th>b2</th>\n",
       "      <th>bstd2</th>\n",
       "      <th>n2</th>\n",
       "      <th>mc2</th>\n",
       "      <th>D</th>\n",
       "      <th>p-value</th>\n",
       "      <th>D &gt; c_alpha</th>\n",
       "      <th>bdiff</th>\n",
       "      <th>rdiff</th>\n",
       "      <th>pass</th>\n",
       "    </tr>\n",
       "  </thead>\n",
       "  <tbody>\n",
       "    <tr>\n",
       "      <th>0</th>\n",
       "      <td>5</td>\n",
       "      <td>90</td>\n",
       "      <td>1</td>\n",
       "      <td>1990-01-31</td>\n",
       "      <td>1990-01-31</td>\n",
       "      <td>7.817301</td>\n",
       "      <td>8.685890</td>\n",
       "      <td>NaN</td>\n",
       "      <td>1.0</td>\n",
       "      <td>0.7</td>\n",
       "      <td>...</td>\n",
       "      <td>0.80256</td>\n",
       "      <td>0.003532</td>\n",
       "      <td>46199</td>\n",
       "      <td>0.7</td>\n",
       "      <td>0.583259</td>\n",
       "      <td>0.682103</td>\n",
       "      <td>False</td>\n",
       "      <td>7.883329</td>\n",
       "      <td>-85</td>\n",
       "      <td>False</td>\n",
       "    </tr>\n",
       "    <tr>\n",
       "      <th>1</th>\n",
       "      <td>5</td>\n",
       "      <td>90</td>\n",
       "      <td>2</td>\n",
       "      <td>1990-01-31</td>\n",
       "      <td>1990-01-31</td>\n",
       "      <td>NaN</td>\n",
       "      <td>NaN</td>\n",
       "      <td>NaN</td>\n",
       "      <td>NaN</td>\n",
       "      <td>NaN</td>\n",
       "      <td>...</td>\n",
       "      <td>0.80256</td>\n",
       "      <td>0.003532</td>\n",
       "      <td>46199</td>\n",
       "      <td>0.7</td>\n",
       "      <td>NaN</td>\n",
       "      <td>NaN</td>\n",
       "      <td>False</td>\n",
       "      <td>NaN</td>\n",
       "      <td>-85</td>\n",
       "      <td>False</td>\n",
       "    </tr>\n",
       "    <tr>\n",
       "      <th>2</th>\n",
       "      <td>5</td>\n",
       "      <td>90</td>\n",
       "      <td>3</td>\n",
       "      <td>1990-01-31</td>\n",
       "      <td>1990-01-31</td>\n",
       "      <td>1.690772</td>\n",
       "      <td>1.737178</td>\n",
       "      <td>1.388182</td>\n",
       "      <td>2.0</td>\n",
       "      <td>0.8</td>\n",
       "      <td>...</td>\n",
       "      <td>0.80256</td>\n",
       "      <td>0.003532</td>\n",
       "      <td>46199</td>\n",
       "      <td>0.7</td>\n",
       "      <td>0.340029</td>\n",
       "      <td>0.924697</td>\n",
       "      <td>False</td>\n",
       "      <td>0.934617</td>\n",
       "      <td>-85</td>\n",
       "      <td>False</td>\n",
       "    </tr>\n",
       "    <tr>\n",
       "      <th>3</th>\n",
       "      <td>5</td>\n",
       "      <td>90</td>\n",
       "      <td>4</td>\n",
       "      <td>1990-01-31</td>\n",
       "      <td>1990-01-31</td>\n",
       "      <td>3.441883</td>\n",
       "      <td>2.285760</td>\n",
       "      <td>0.612740</td>\n",
       "      <td>5.0</td>\n",
       "      <td>1.0</td>\n",
       "      <td>...</td>\n",
       "      <td>0.80256</td>\n",
       "      <td>0.003532</td>\n",
       "      <td>46199</td>\n",
       "      <td>0.7</td>\n",
       "      <td>0.590727</td>\n",
       "      <td>0.035292</td>\n",
       "      <td>False</td>\n",
       "      <td>1.483200</td>\n",
       "      <td>-85</td>\n",
       "      <td>False</td>\n",
       "    </tr>\n",
       "    <tr>\n",
       "      <th>4</th>\n",
       "      <td>5</td>\n",
       "      <td>90</td>\n",
       "      <td>5</td>\n",
       "      <td>1990-01-31</td>\n",
       "      <td>1990-01-31</td>\n",
       "      <td>2.816359</td>\n",
       "      <td>1.579253</td>\n",
       "      <td>0.283536</td>\n",
       "      <td>12.0</td>\n",
       "      <td>1.0</td>\n",
       "      <td>...</td>\n",
       "      <td>0.80256</td>\n",
       "      <td>0.003532</td>\n",
       "      <td>46199</td>\n",
       "      <td>0.7</td>\n",
       "      <td>0.511937</td>\n",
       "      <td>0.002116</td>\n",
       "      <td>True</td>\n",
       "      <td>0.776692</td>\n",
       "      <td>-85</td>\n",
       "      <td>True</td>\n",
       "    </tr>\n",
       "  </tbody>\n",
       "</table>\n",
       "<p>5 rows × 21 columns</p>\n",
       "</div>"
      ],
      "text/plain": [
       "   r1  r2  depth_window         t1         t2        a1        b1     bstd1  \\\n",
       "0   5  90             1 1990-01-31 1990-01-31  7.817301  8.685890       NaN   \n",
       "1   5  90             2 1990-01-31 1990-01-31       NaN       NaN       NaN   \n",
       "2   5  90             3 1990-01-31 1990-01-31  1.690772  1.737178  1.388182   \n",
       "3   5  90             4 1990-01-31 1990-01-31  3.441883  2.285760  0.612740   \n",
       "4   5  90             5 1990-01-31 1990-01-31  2.816359  1.579253  0.283536   \n",
       "\n",
       "     n1  mc1  ...         b2     bstd2     n2  mc2         D   p-value  \\\n",
       "0   1.0  0.7  ...    0.80256  0.003532  46199  0.7  0.583259  0.682103   \n",
       "1   NaN  NaN  ...    0.80256  0.003532  46199  0.7       NaN       NaN   \n",
       "2   2.0  0.8  ...    0.80256  0.003532  46199  0.7  0.340029  0.924697   \n",
       "3   5.0  1.0  ...    0.80256  0.003532  46199  0.7  0.590727  0.035292   \n",
       "4  12.0  1.0  ...    0.80256  0.003532  46199  0.7  0.511937  0.002116   \n",
       "\n",
       "   D > c_alpha     bdiff  rdiff   pass  \n",
       "0        False  7.883329    -85  False  \n",
       "1        False       NaN    -85  False  \n",
       "2        False  0.934617    -85  False  \n",
       "3        False  1.483200    -85  False  \n",
       "4         True  0.776692    -85   True  \n",
       "\n",
       "[5 rows x 21 columns]"
      ]
     },
     "execution_count": 12,
     "metadata": {},
     "output_type": "execute_result"
    }
   ],
   "source": [
    "ks_df.head()"
   ]
  },
  {
   "cell_type": "code",
   "execution_count": 58,
   "metadata": {},
   "outputs": [],
   "source": [
    "data_for_forest  = shape_for_scatter_plot(ks_df)"
   ]
  },
  {
   "cell_type": "code",
   "execution_count": 59,
   "metadata": {
    "collapsed": true
   },
   "outputs": [],
   "source": [
    "data_for_forest = data_for_forest[['r1', 'depth_window', 'years before', 'b1', 'n1']].copy()"
   ]
  },
  {
   "cell_type": "code",
   "execution_count": 60,
   "metadata": {
    "collapsed": true
   },
   "outputs": [],
   "source": [
    "\n",
    "from sklearn.ensemble import RandomForestClassifier, RandomForestRegressor\n",
    "from sklearn.metrics import accuracy_score, roc_auc_score, confusion_matrix\n",
    "from scipy.stats import norm, sem, t"
   ]
  },
  {
   "cell_type": "code",
   "execution_count": 115,
   "metadata": {
    "collapsed": true
   },
   "outputs": [],
   "source": [
    "clf = RandomForestRegressor(n_estimators=2)"
   ]
  },
  {
   "cell_type": "code",
   "execution_count": 141,
   "metadata": {},
   "outputs": [],
   "source": [
    "train = data_for_forest.sample(frac=0.05)\n",
    "test = data_for_forest.iloc[~data_for_forest.index.isin(train.index)]"
   ]
  },
  {
   "cell_type": "code",
   "execution_count": 142,
   "metadata": {},
   "outputs": [],
   "source": [
    "X = train[['r1', 'depth_window', 'years before', 'n1']]\n",
    "# y = pd.factorize(train['b1'])"
   ]
  },
  {
   "cell_type": "code",
   "execution_count": 143,
   "metadata": {},
   "outputs": [
    {
     "data": {
      "text/plain": [
       "RandomForestRegressor(bootstrap=True, criterion='mse', max_depth=None,\n",
       "           max_features='auto', max_leaf_nodes=None,\n",
       "           min_impurity_split=1e-07, min_samples_leaf=1,\n",
       "           min_samples_split=2, min_weight_fraction_leaf=0.0,\n",
       "           n_estimators=2, n_jobs=1, oob_score=False, random_state=None,\n",
       "           verbose=0, warm_start=False)"
      ]
     },
     "execution_count": 143,
     "metadata": {},
     "output_type": "execute_result"
    }
   ],
   "source": [
    "clf.fit(X, train['b1'])"
   ]
  },
  {
   "cell_type": "code",
   "execution_count": 144,
   "metadata": {
    "collapsed": true
   },
   "outputs": [],
   "source": [
    "predict = clf.predict(test[['r1', 'depth_window', 'years before', 'n1']])"
   ]
  },
  {
   "cell_type": "code",
   "execution_count": 145,
   "metadata": {},
   "outputs": [
    {
     "data": {
      "text/plain": [
       "<matplotlib.legend.Legend at 0x7f84975a0b38>"
      ]
     },
     "execution_count": 145,
     "metadata": {},
     "output_type": "execute_result"
    },
    {
     "data": {
      "image/png": "[encoded data removed]",
      "text/plain": [
       "<matplotlib.figure.Figure at 0x7f8497684a58>"
      ]
     },
     "metadata": {},
     "output_type": "display_data"
    }
   ],
   "source": [
    "h, e = np.histogram(a=predict, bins=100, range=(0.5, 1.5))\n",
    "\n",
    "plt.plot(e[:-1], h, label='predicted')\n",
    "\n",
    "h2, e2 = np.histogram(a=test.b1, bins=100, range=(0.5, 1.5))\n",
    "\n",
    "plt.plot(e2[:-1], h2, label='actual')\n",
    "\n",
    "plt.legend()"
   ]
  },
  {
   "cell_type": "code",
   "execution_count": 147,
   "metadata": {},
   "outputs": [
    {
     "data": {
      "text/plain": [
       "<matplotlib.text.Text at 0x7f84975eda58>"
      ]
     },
     "execution_count": 147,
     "metadata": {},
     "output_type": "execute_result"
    },
    {
     "data": {
      "image/png": "[encoded data removed]",
      "text/plain": [
       "<matplotlib.figure.Figure at 0x7f849743b7b8>"
      ]
     },
     "metadata": {},
     "output_type": "display_data"
    }
   ],
   "source": [
    "fig, ax = plt.subplots()\n",
    "ax.barh(range(len(clf.feature_importances_)), clf.feature_importances_)\n",
    "\n",
    "ax.set_yticks(range(len(clf.feature_importances_)))\n",
    "ax.set_yticklabels(['radius', 'depth', 'years before', 'number of events'])\n",
    "\n",
    "ax.set_xlabel('importance of model variable')"
   ]
  },
  {
   "cell_type": "code",
   "execution_count": null,
   "metadata": {
    "collapsed": true
   },
   "outputs": [],
   "source": []
  },
  {
   "cell_type": "code",
   "execution_count": null,
   "metadata": {
    "collapsed": true
   },
   "outputs": [],
   "source": []
  },
  {
   "cell_type": "code",
   "execution_count": 84,
   "metadata": {},
   "outputs": [
    {
     "data": {
      "text/plain": [
       "(3748,)"
      ]
     },
     "execution_count": 84,
     "metadata": {},
     "output_type": "execute_result"
    }
   ],
   "source": [
    "train.b1.shape"
   ]
  },
  {
   "cell_type": "code",
   "execution_count": 79,
   "metadata": {},
   "outputs": [
    {
     "data": {
      "text/plain": [
       "(3748, 4)"
      ]
     },
     "execution_count": 79,
     "metadata": {},
     "output_type": "execute_result"
    }
   ],
   "source": [
    "X.shape"
   ]
  },
  {
   "cell_type": "code",
   "execution_count": 81,
   "metadata": {},
   "outputs": [
    {
     "data": {
      "text/plain": [
       "(array([   0,    1,    2, ..., 3734, 3735, 3736]),\n",
       " Float64Index([0.877390313984, 0.960957877213, 0.930539379177, 0.831851550953,\n",
       "               0.812929718473, 0.848637652827, 0.665241954898, 0.822818512604,\n",
       "               0.827784688874, 0.900309720809,\n",
       "               ...\n",
       "                0.80032347945, 0.855428524961, 0.878966850297, 0.853951276868,\n",
       "                0.85428445989, 0.948641074338, 0.796626959573,  0.84124064622,\n",
       "               0.862964979692, 0.883935762846],\n",
       "              dtype='float64', length=3737))"
      ]
     },
     "execution_count": 81,
     "metadata": {},
     "output_type": "execute_result"
    }
   ],
   "source": [
    "y"
   ]
  }
 ],
 "metadata": {
  "kernelspec": {
   "display_name": "Python 3",
   "language": "python",
   "name": "python3"
  },
  "language_info": {
   "codemirror_mode": {
    "name": "ipython",
    "version": 3
   },
   "file_extension": ".py",
   "mimetype": "text/x-python",
   "name": "python",
   "nbconvert_exporter": "python",
   "pygments_lexer": "ipython3",
   "version": "3.5.3"
  }
 },
 "nbformat": 4,
 "nbformat_minor": 2
}
