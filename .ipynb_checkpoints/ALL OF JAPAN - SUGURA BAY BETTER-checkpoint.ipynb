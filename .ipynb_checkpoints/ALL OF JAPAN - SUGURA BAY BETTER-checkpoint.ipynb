{
 "cells": [
  {
   "cell_type": "code",
   "execution_count": null,
   "metadata": {
    "collapsed": false,
    "deletable": true,
    "editable": true
   },
   "outputs": [],
   "source": [
    "%matplotlib inline\n",
    "import pandas as pd\n",
    "import numpy as np\n",
    "from utilities import plotting\n",
    "from utilities import stats\n",
    "from utilities import timestamps\n",
    "from utilities import import_export\n",
    "from utilities import polygon_selection\n",
    "from mpl_toolkits.basemap import Basemap\n",
    "from itertools import product\n",
    "import matplotlib.pyplot as plt"
   ]
  },
  {
   "cell_type": "code",
   "execution_count": null,
   "metadata": {
    "collapsed": false,
    "deletable": true,
    "editable": true
   },
   "outputs": [],
   "source": [
    "# df = pd.read_csv('data/ccu.dat', delimiter='\\t', names=['lon', 'lat', 'decimal_year', 'month', 'day', 'mag'\n",
    "#                                                         , 'depth', 'hour', 'minute', 'second', 'horizontal_error'\n",
    "#                                                         , 'depth_error', 'mag_err'])\n",
    "# df['timestamp'] = df.decimal_year.apply(timestamps.convert_decimal_year_to_numpy_datetime64)\n",
    "\n",
    "df = import_export.import_catalog(location='data/ccu.dat', delimiter='\\t', names=['lon', 'lat', 'decimal_year', 'month', 'day', 'mag'\n",
    "                                                        , 'depth', 'hour', 'minute', 'second', 'horizontal_error'\n",
    "                                                        , 'depth_error', 'mag_err'])"
   ]
  },
  {
   "cell_type": "code",
   "execution_count": null,
   "metadata": {
    "collapsed": false,
    "deletable": true,
    "editable": true
   },
   "outputs": [],
   "source": [
    "# df[(df.decimal_year > 2011) & (df.mag >= 6.5) & (df.depth <= 40) & (df.lon.between(142, 143))]"
   ]
  },
  {
   "cell_type": "code",
   "execution_count": null,
   "metadata": {
    "collapsed": false,
    "deletable": true,
    "editable": true
   },
   "outputs": [],
   "source": [
    "noto_hanto = {'coordinates':(136.686000, 37.220667), 'time':'2007-03-25 00:41:57.909996', 'tz':'UTC', 'magnitude':6.9}\n",
    "western_tottori = {'coordinates':(133.349, 35.274167), 'time':'2000-10-06 04:30:17.940011', 'tz':'UTC', 'magnitude':6.7}\n",
    "sugura_bay = {'coordinates':(138.499333, 34.786167), 'time':'2009-08-10 20:07:05.740017', 'tz':'UTC', 'magnitude':6.5}\n",
    "iwaki = {'coordinates':(140.672667, 36.945667), 'time':'2011-04-11 08:16:12.020008', 'tz':'UTC', 'magnitude':6.6}\n",
    "iwate_miyage = {'coordinates':(140.880667, 39.029833), 'time':'2008-06-13 23:43:45.359992', 'tz':'UTC', 'magnitude':6.8}\n",
    "kumamoto = {'coordinates':(130.763, 32.7545), 'time':'2016-04-14 12:26:00', 'tz':'UTC', 'magnitude':7.0}\n",
    "tohoku = {'coordinates':(142.861000, 38.103500), 'time':'2011-03-11 05:46:18.119983', 'tz':'UTC', 'magnitude':9.0}\n",
    "\n",
    "def plot_earthquake_on_basemap(eq, m, ax, **kwargs):\n",
    "    x, y = m(eq['coordinates'][0], eq['coordinates'][1])\n",
    "    ax.scatter(x, y, s=0.75*np.exp(eq['magnitude']), **kwargs)\n",
    "    ax.annotate('{year} M{mag}'.format(year=np.datetime64(eq['time']).astype('datetime64[Y]').astype(str)\n",
    "                                              , mag=str(eq['magnitude']))\n",
    "                , xy=(x, y), xytext=(x, y+0.5), fontsize=15, color='red', fontweight='bold')"
   ]
  },
  {
   "cell_type": "markdown",
   "metadata": {
    "collapsed": true,
    "deletable": true,
    "editable": true
   },
   "source": [
    "# iwate_miyage# kumamoto"
   ]
  },
  {
   "cell_type": "code",
   "execution_count": null,
   "metadata": {
    "collapsed": true,
    "deletable": true,
    "editable": true
   },
   "outputs": [],
   "source": [
    "eq = iwate_miyage# kumamoto"
   ]
  },
  {
   "cell_type": "code",
   "execution_count": null,
   "metadata": {
    "collapsed": false,
    "deletable": true,
    "editable": true
   },
   "outputs": [],
   "source": [
    "df_regional = polygon_selection.get_node_data(data=df, node=eq['coordinates'], radius=75, m=1)"
   ]
  },
  {
   "cell_type": "code",
   "execution_count": null,
   "metadata": {
    "collapsed": false,
    "deletable": true,
    "editable": true
   },
   "outputs": [],
   "source": [
    "fig, ax = plt.subplots(figsize=(10,5))\n",
    "plotting.plot_seismicity_rate(dataframe=df_regional[df_regional.mag>=0.5], fig=fig, ax=ax)"
   ]
  },
  {
   "cell_type": "code",
   "execution_count": null,
   "metadata": {
    "collapsed": false,
    "deletable": true,
    "editable": true
   },
   "outputs": [],
   "source": [
    "df_regional = df_regional.loc[df_regional.index < eq['time']]\n",
    "df_regional = df_regional[df_regional.depth <=25]\n",
    "df_regional = df_regional[df_regional.mag >= 0.5]"
   ]
  },
  {
   "cell_type": "code",
   "execution_count": null,
   "metadata": {
    "collapsed": false,
    "deletable": true,
    "editable": true
   },
   "outputs": [],
   "source": [
    "fig, ax = plt.subplots(figsize=(10,5))\n",
    "plotting.plot_seismicity_rate(dataframe=df_regional.loc[df_regional.index > '2011'], fig=fig, ax=ax)\n",
    "# ax.text(s='dfgdfg', x=2003, y=1000)\n",
    "# fig.savefig('iwaki_seismicity_cnt.png', dpi=300, bbox_inches='tight')"
   ]
  },
  {
   "cell_type": "code",
   "execution_count": null,
   "metadata": {
    "collapsed": false,
    "deletable": true,
    "editable": true
   },
   "outputs": [],
   "source": [
    "# df_regional = df_regional.loc[df_regional.index < '2011-03-07']"
   ]
  },
  {
   "cell_type": "code",
   "execution_count": null,
   "metadata": {
    "collapsed": false,
    "deletable": true,
    "editable": true
   },
   "outputs": [],
   "source": [
    "m, fig, ax = plotting.plot_seismicity_map(dataframe=df_regional[df_regional.mag>2])"
   ]
  },
  {
   "cell_type": "code",
   "execution_count": null,
   "metadata": {
    "collapsed": false,
    "deletable": true,
    "editable": true
   },
   "outputs": [],
   "source": [
    "ax = df_regional.depth.hist(bins=100)\n",
    "ax.set_xlim(0,25)"
   ]
  },
  {
   "cell_type": "code",
   "execution_count": null,
   "metadata": {
    "collapsed": false,
    "deletable": true,
    "editable": true
   },
   "outputs": [],
   "source": [
    "stats.calc_fmd_stats_with_mc(df_regional.mag)"
   ]
  },
  {
   "cell_type": "code",
   "execution_count": null,
   "metadata": {
    "collapsed": false,
    "deletable": true,
    "editable": true
   },
   "outputs": [],
   "source": [
    "radii = np.arange(1, 51, 1)\n",
    "foreshock_time = eq['time']\n",
    "\n",
    "timii = pd.date_range(start='01-01-1990 00:00:00', end=foreshock_time, freq='6M', tz='GMT')\n",
    "parameters = [x for x in product(radii, timii)]\n",
    "df_regional = df_regional.loc[df_regional.index < foreshock_time]\n",
    "# df_regional = df_regional[df_regional.mag >= 0.5]\n",
    "# df_regional = df_regional[df_regional.depth <= 25]\n",
    "n_iterations = 100\n",
    "\n",
    "bdf = stats.calculate_b_value_parameter_sweep(dataframe=df_regional\n",
    "                                              ,location=eq['coordinates']\n",
    "                                              ,n_iterations=n_iterations\n",
    "                                              ,parameters=parameters)"
   ]
  },
  {
   "cell_type": "code",
   "execution_count": null,
   "metadata": {
    "collapsed": false,
    "deletable": true,
    "editable": true
   },
   "outputs": [],
   "source": [
    "fig, ax = plt.subplots(figsize=(10,7))\n",
    "\n",
    "fig, ax = plotting.plot_radius_time_sweep(dataframe=bdf, vertical_axis='radius'\n",
    "                                 , value='b_avg',vmin=0.6, vmax=0.9, cmap='jet', fig=fig, ax=ax)\n",
    "\n",
    "zi = bdf.pivot(index='start_time', columns='radius', values='n_avg')\n",
    "xi_label = [np.datetime64(z, 'Y') for z in zi.index]\n",
    "xi = np.arange(len(xi_label))\n",
    "yi = zi.columns\n",
    "xi, yi = np.meshgrid(xi, yi)\n",
    "\n",
    "zi = np.ma.masked_invalid(zi).transpose()\n",
    "\n",
    "levels = [10, 50, 250, 1000, 5000]\n",
    "cs = ax.contour(xi,yi,zi, levels, colors='black')#, locator=ticker.LogLocator())\n",
    "\n",
    "cs.levels = ['>10 EQs', '>50 EQs','>250 EQs', '>1000 EQs', '>5000 EQs']\n",
    "\n",
    "ax.clabel(cs, cs.levels, inline=True)\n",
    "ax.set_ylim(0,50)\n",
    "\n",
    "\n",
    "# fig.savefig('iwaki_parameter.png', dpi=300, bbox_inches='tight', transparency=True)"
   ]
  },
  {
   "cell_type": "code",
   "execution_count": null,
   "metadata": {
    "collapsed": false,
    "deletable": true,
    "editable": true
   },
   "outputs": [],
   "source": [
    "bdf['diff'] = bdf.b_avg.diff()\n",
    "\n",
    "fig, ax = plt.subplots(figsize=(10,7))\n",
    "\n",
    "fig, ax = plotting.plot_radius_time_sweep(dataframe=bdf, vertical_axis='radius'\n",
    "                                 , value='diff',vmin=-0.05, vmax=0.05, cmap='jet', fig=fig, ax=ax)"
   ]
  },
  {
   "cell_type": "code",
   "execution_count": null,
   "metadata": {
    "collapsed": false,
    "deletable": true,
    "editable": true
   },
   "outputs": [],
   "source": [
    "bdf['diff'].hist(bins=100,)"
   ]
  },
  {
   "cell_type": "code",
   "execution_count": null,
   "metadata": {
    "collapsed": false,
    "deletable": true,
    "editable": true
   },
   "outputs": [],
   "source": [
    "test = pd.DataFrame(columns=['a','b'])\n",
    "test.apply(lambda x: x['a'] + 1)"
   ]
  },
  {
   "cell_type": "code",
   "execution_count": null,
   "metadata": {
    "collapsed": false,
    "deletable": true,
    "editable": true
   },
   "outputs": [],
   "source": [
    "bdf.describe()"
   ]
  },
  {
   "cell_type": "code",
   "execution_count": null,
   "metadata": {
    "collapsed": false,
    "deletable": true,
    "editable": true
   },
   "outputs": [],
   "source": [
    "df_calc = df_regional.copy()\n",
    "\n",
    "rows = []\n",
    "\n",
    "for r, t in parameters:\n",
    "    df_c = polygon_selection.get_node_data(node=eq['coordinates'], data=df_calc, radius=r, m=1)\n",
    "    df_c = df_c.loc[df_c.index >= t]\n",
    "    \n",
    "    a, b, bstd, n, mc = stats.calc_fmd_stats_with_mc(df_c.mag)\n",
    "    row = np.array((r,) + (t,) + (a, b, bstd, n, mc))\n",
    "    rows.append(row)\n",
    "    "
   ]
  },
  {
   "cell_type": "code",
   "execution_count": null,
   "metadata": {
    "collapsed": false,
    "deletable": true,
    "editable": true
   },
   "outputs": [],
   "source": [
    "rows[0]"
   ]
  },
  {
   "cell_type": "code",
   "execution_count": null,
   "metadata": {
    "collapsed": false,
    "deletable": true,
    "editable": true
   },
   "outputs": [],
   "source": [
    "true_bdf = pd.DataFrame(rows, columns=['radius', 'start_time', 'a', 'b', 'bstd', 'n', 'mc'])\n",
    "    \n",
    "    \n",
    "    "
   ]
  },
  {
   "cell_type": "code",
   "execution_count": null,
   "metadata": {
    "collapsed": false,
    "deletable": true,
    "editable": true
   },
   "outputs": [],
   "source": [
    "true_bdf.b.hist(bins=100,range=(0.5, 1))"
   ]
  },
  {
   "cell_type": "code",
   "execution_count": null,
   "metadata": {
    "collapsed": true,
    "deletable": true,
    "editable": true
   },
   "outputs": [],
   "source": [
    "# df_calc = df_regional.copy()"
   ]
  },
  {
   "cell_type": "code",
   "execution_count": null,
   "metadata": {
    "collapsed": false,
    "deletable": true,
    "editable": true
   },
   "outputs": [],
   "source": [
    "# polygon_selection.get_node_data(node=eq['coordinates'], data=df_calc, radius=5, m=1)"
   ]
  },
  {
   "cell_type": "code",
   "execution_count": null,
   "metadata": {
    "collapsed": false,
    "deletable": true,
    "editable": true
   },
   "outputs": [],
   "source": [
    "m, fig, ax = plotting.plot_seismicity_map(df_calc)\n"
   ]
  },
  {
   "cell_type": "code",
   "execution_count": null,
   "metadata": {
    "collapsed": false,
    "deletable": true,
    "editable": true
   },
   "outputs": [],
   "source": [
    "eq"
   ]
  },
  {
   "cell_type": "code",
   "execution_count": null,
   "metadata": {
    "collapsed": false,
    "deletable": true,
    "editable": true
   },
   "outputs": [],
   "source": [
    "fig, ax = plt.subplots(figsize=(10,7))\n",
    "\n",
    "fig, ax = plotting.plot_radius_time_sweep(dataframe=true_bdf, vertical_axis='radius'\n",
    "                                 , value='b',vmin=0.6, vmax=0.9, cmap='jet', fig=fig, ax=ax)\n",
    "\n",
    "# zi = bdf.pivot(index='start_time', columns='radius', values='b_std')\n",
    "# xi_label = [np.datetime64(z, 'Y') for z in zi.index]\n",
    "# xi = np.arange(len(xi_label))\n",
    "# yi = zi.columns\n",
    "# xi, yi = np.meshgrid(xi, yi)\n",
    "\n",
    "# zi = np.ma.masked_invalid(zi).transpose()\n",
    "\n",
    "# levels = [10, 50, 250, 1000, 5000]\n",
    "# cs = ax.contour(xi,yi,zi, levels, colors='black')#, locator=ticker.LogLocator())\n",
    "# cs = ax.contour(xi,yi,zi, colors='black')#, locator=ticker.LogLocator())\n",
    "\n",
    "# cs.levels = ['>10 EQs', '>50 EQs','>250 EQs', '>1000 EQs', '>5000 EQs']\n",
    "\n",
    "# ax.clabel(cs, cs.levels, inline=True)\n",
    "# ax.set_ylim(0,50)\n",
    "\n",
    "\n",
    "# fig.savefig('iwaki_parameter.png', dpi=300, bbox_inches='tight', transparency=True)"
   ]
  },
  {
   "cell_type": "code",
   "execution_count": null,
   "metadata": {
    "collapsed": true,
    "deletable": true,
    "editable": true
   },
   "outputs": [],
   "source": []
  }
 ],
 "metadata": {
  "kernelspec": {
   "display_name": "Python 3",
   "language": "python",
   "name": "python3"
  },
  "language_info": {
   "codemirror_mode": {
    "name": "ipython",
    "version": 3
   },
   "file_extension": ".py",
   "mimetype": "text/x-python",
   "name": "python",
   "nbconvert_exporter": "python",
   "pygments_lexer": "ipython3",
   "version": "3.5.3"
  }
 },
 "nbformat": 4,
 "nbformat_minor": 2
}
