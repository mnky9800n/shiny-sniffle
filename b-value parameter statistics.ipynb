{
 "cells": [
  {
   "cell_type": "code",
   "execution_count": 1,
   "metadata": {
    "collapsed": true,
    "deletable": true,
    "editable": true
   },
   "outputs": [],
   "source": [
    "%matplotlib inline\n",
    "import pandas as pd\n",
    "import numpy as np\n",
    "from utilities import plotting\n",
    "from utilities import stats\n",
    "from utilities import timestamps\n",
    "from utilities import import_export\n",
    "from utilities import polygon_selection\n",
    "from mpl_toolkits.basemap import Basemap\n",
    "from itertools import product\n",
    "import matplotlib.pyplot as plt"
   ]
  },
  {
   "cell_type": "code",
   "execution_count": 2,
   "metadata": {
    "collapsed": true,
    "deletable": true,
    "editable": true
   },
   "outputs": [],
   "source": [
    "fm_main = pd.read_csv('radius_time_sweep_fm_main.csv')"
   ]
  },
  {
   "cell_type": "code",
   "execution_count": 4,
   "metadata": {
    "collapsed": false,
    "deletable": true,
    "editable": true
   },
   "outputs": [
    {
     "data": {
      "text/html": [
       "<div>\n",
       "<table border=\"1\" class=\"dataframe\">\n",
       "  <thead>\n",
       "    <tr style=\"text-align: right;\">\n",
       "      <th></th>\n",
       "      <th>radius</th>\n",
       "      <th>start_time</th>\n",
       "      <th>a_avg</th>\n",
       "      <th>b_avg</th>\n",
       "      <th>bstd_avg</th>\n",
       "      <th>n_avg</th>\n",
       "      <th>mc_avg</th>\n",
       "      <th>a_std</th>\n",
       "      <th>b_std</th>\n",
       "      <th>bstd_std</th>\n",
       "      <th>n_std</th>\n",
       "      <th>mc_std</th>\n",
       "    </tr>\n",
       "  </thead>\n",
       "  <tbody>\n",
       "    <tr>\n",
       "      <th>0</th>\n",
       "      <td>1.0</td>\n",
       "      <td>1990-01-31 00:00:00+00:00</td>\n",
       "      <td>5.047954</td>\n",
       "      <td>2.902517</td>\n",
       "      <td>7.535743e-16</td>\n",
       "      <td>3.993289</td>\n",
       "      <td>1.080201</td>\n",
       "      <td>5.394361</td>\n",
       "      <td>2.943742</td>\n",
       "      <td>3.411580e-15</td>\n",
       "      <td>1.908888</td>\n",
       "      <td>0.287982</td>\n",
       "    </tr>\n",
       "  </tbody>\n",
       "</table>\n",
       "</div>"
      ],
      "text/plain": [
       "   radius                 start_time     a_avg     b_avg      bstd_avg  \\\n",
       "0     1.0  1990-01-31 00:00:00+00:00  5.047954  2.902517  7.535743e-16   \n",
       "\n",
       "      n_avg    mc_avg     a_std     b_std      bstd_std     n_std    mc_std  \n",
       "0  3.993289  1.080201  5.394361  2.943742  3.411580e-15  1.908888  0.287982  "
      ]
     },
     "execution_count": 4,
     "metadata": {},
     "output_type": "execute_result"
    }
   ],
   "source": [
    "fm_main.head(1)"
   ]
  },
  {
   "cell_type": "code",
   "execution_count": 6,
   "metadata": {
    "collapsed": false,
    "deletable": true,
    "editable": true
   },
   "outputs": [
    {
     "data": {
      "text/plain": [
       "<matplotlib.axes._subplots.AxesSubplot at 0x7fe3c0b5ecf8>"
      ]
     },
     "execution_count": 6,
     "metadata": {},
     "output_type": "execute_result"
    },
    {
     "data": {
      "image/png": "[encoded data removed]",
      "text/plain": [
       "<matplotlib.figure.Figure at 0x7fe3c3f89ba8>"
      ]
     },
     "metadata": {},
     "output_type": "display_data"
    }
   ],
   "source": [
    "fm_main.b_avg.hist(bins=100, range=(0.5, 1.5))"
   ]
  },
  {
   "cell_type": "code",
   "execution_count": 51,
   "metadata": {
    "collapsed": false,
    "deletable": true,
    "editable": true
   },
   "outputs": [
    {
     "data": {
      "text/plain": [
       "0.75196238047008"
      ]
     },
     "execution_count": 51,
     "metadata": {},
     "output_type": "execute_result"
    }
   ],
   "source": [
    "fm_main_avg = fm_main[fm_main.b_avg.between(0.5, 1.5)].b_avg.mean()\n",
    "fm_main_avg"
   ]
  },
  {
   "cell_type": "code",
   "execution_count": 52,
   "metadata": {
    "collapsed": false,
    "deletable": true,
    "editable": true
   },
   "outputs": [
    {
     "data": {
      "text/plain": [
       "(<matplotlib.figure.Figure at 0x7fe3b9b371d0>,\n",
       " <matplotlib.axes._subplots.AxesSubplot at 0x7fe3b9a0ee80>)"
      ]
     },
     "execution_count": 52,
     "metadata": {},
     "output_type": "execute_result"
    },
    {
     "data": {
      "image/png": "[encoded data removed]",
      "text/plain": [
       "<matplotlib.figure.Figure at 0x7fe3b9b371d0>"
      ]
     },
     "metadata": {},
     "output_type": "display_data"
    }
   ],
   "source": [
    "fig, ax = plt.subplots()\n",
    "\n",
    "bounds = 0.3\n",
    "\n",
    "plotting.plot_radius_time_sweep(fm_main, 'radius', 'b_avg', fig, ax\n",
    "                                , vmin=fm_main_avg-bounds, vmax=fm_main_avg+bounds\n",
    "                                , cmap='seismic')\n",
    "# ax.set_xticklabels(np.arange(2016-2015, 2016-1990, 1)[::-1], rotation=0)"
   ]
  },
  {
   "cell_type": "code",
   "execution_count": 35,
   "metadata": {
    "collapsed": false,
    "deletable": true,
    "editable": true
   },
   "outputs": [],
   "source": [
    "max_slip = pd.read_csv('radius_time_sweep_max_slip.csv')"
   ]
  },
  {
   "cell_type": "code",
   "execution_count": 36,
   "metadata": {
    "collapsed": false,
    "deletable": true,
    "editable": true
   },
   "outputs": [
    {
     "data": {
      "text/html": [
       "<div>\n",
       "<table border=\"1\" class=\"dataframe\">\n",
       "  <thead>\n",
       "    <tr style=\"text-align: right;\">\n",
       "      <th></th>\n",
       "      <th>radius</th>\n",
       "      <th>start_time</th>\n",
       "      <th>a_avg</th>\n",
       "      <th>b_avg</th>\n",
       "      <th>bstd_avg</th>\n",
       "      <th>n_avg</th>\n",
       "      <th>mc_avg</th>\n",
       "      <th>a_std</th>\n",
       "      <th>b_std</th>\n",
       "      <th>bstd_std</th>\n",
       "      <th>n_std</th>\n",
       "      <th>mc_std</th>\n",
       "    </tr>\n",
       "  </thead>\n",
       "  <tbody>\n",
       "    <tr>\n",
       "      <th>0</th>\n",
       "      <td>1.0</td>\n",
       "      <td>1990-01-31 00:00:00+00:00</td>\n",
       "      <td>4.951856</td>\n",
       "      <td>3.193974</td>\n",
       "      <td>7.734355e-16</td>\n",
       "      <td>4.120726</td>\n",
       "      <td>1.063248</td>\n",
       "      <td>4.740382</td>\n",
       "      <td>2.954522</td>\n",
       "      <td>9.995773e-16</td>\n",
       "      <td>2.014747</td>\n",
       "      <td>0.265998</td>\n",
       "    </tr>\n",
       "  </tbody>\n",
       "</table>\n",
       "</div>"
      ],
      "text/plain": [
       "   radius                 start_time     a_avg     b_avg      bstd_avg  \\\n",
       "0     1.0  1990-01-31 00:00:00+00:00  4.951856  3.193974  7.734355e-16   \n",
       "\n",
       "      n_avg    mc_avg     a_std     b_std      bstd_std     n_std    mc_std  \n",
       "0  4.120726  1.063248  4.740382  2.954522  9.995773e-16  2.014747  0.265998  "
      ]
     },
     "execution_count": 36,
     "metadata": {},
     "output_type": "execute_result"
    }
   ],
   "source": [
    "max_slip.head(1)"
   ]
  },
  {
   "cell_type": "code",
   "execution_count": 42,
   "metadata": {
    "collapsed": false,
    "deletable": true,
    "editable": true
   },
   "outputs": [
    {
     "data": {
      "text/plain": [
       "0.8112429954585573"
      ]
     },
     "execution_count": 42,
     "metadata": {},
     "output_type": "execute_result"
    },
    {
     "data": {
      "image/png": "[encoded data removed]",
      "text/plain": [
       "<matplotlib.figure.Figure at 0x7fe3ba2160b8>"
      ]
     },
     "metadata": {},
     "output_type": "display_data"
    }
   ],
   "source": [
    "max_slip.b_avg.hist(bins=100, range=(0.5, 1.5))\n",
    "max_slip_avg = max_slip[max_slip.b_avg.between(0.5, 1.5)].b_avg.mean()\n",
    "max_slip_avg"
   ]
  },
  {
   "cell_type": "code",
   "execution_count": 54,
   "metadata": {
    "collapsed": false,
    "deletable": true,
    "editable": true
   },
   "outputs": [
    {
     "data": {
      "text/plain": [
       "(<matplotlib.figure.Figure at 0x7fe3b9faba90>,\n",
       " <matplotlib.axes._subplots.AxesSubplot at 0x7fe3b9656470>)"
      ]
     },
     "execution_count": 54,
     "metadata": {},
     "output_type": "execute_result"
    },
    {
     "data": {
      "image/png": "[encoded data removed]",
      "text/plain": [
       "<matplotlib.figure.Figure at 0x7fe3b9faba90>"
      ]
     },
     "metadata": {},
     "output_type": "display_data"
    }
   ],
   "source": [
    "fig, ax = plt.subplots()\n",
    "bounds = 0.1\n",
    "plotting.plot_radius_time_sweep(max_slip, 'radius', 'b_avg', fig, ax, vmin=max_slip_avg-bounds, vmax=max_slip_avg+bounds, cmap='seismic')\n"
   ]
  }
 ],
 "metadata": {
  "kernelspec": {
   "display_name": "Python 3",
   "language": "python",
   "name": "python3"
  },
  "language_info": {
   "codemirror_mode": {
    "name": "ipython",
    "version": 3
   },
   "file_extension": ".py",
   "mimetype": "text/x-python",
   "name": "python",
   "nbconvert_exporter": "python",
   "pygments_lexer": "ipython3",
   "version": "3.5.3"
  }
 },
 "nbformat": 4,
 "nbformat_minor": 2
}
