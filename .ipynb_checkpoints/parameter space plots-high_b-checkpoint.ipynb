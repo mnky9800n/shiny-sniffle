{
 "cells": [
  {
   "cell_type": "code",
   "execution_count": 1,
   "metadata": {
    "collapsed": false,
    "deletable": true,
    "editable": true
   },
   "outputs": [],
   "source": [
    "%matplotlib inline\n",
    "import pandas as pd\n",
    "from mpl_toolkits.basemap import Basemap\n",
    "import numpy as np\n",
    "from utilities import timestamps\n",
    "from utilities.plotting import equi\n",
    "from utilities.polygon_selection import get_node_data\n",
    "from utilities.stats import calc_fmd_stats_with_mc\n",
    "import matplotlib.pyplot as plt\n",
    "from scipy import spatial"
   ]
  },
  {
   "cell_type": "code",
   "execution_count": 2,
   "metadata": {
    "collapsed": true,
    "deletable": true,
    "editable": true
   },
   "outputs": [],
   "source": [
    "max_slip = (130.9372, 32.84189)\n",
    "fm_main = (130.763, 32.7545)#, 128, 74, -14)\n",
    "high_b = (131.25, 33.15,)\n",
    "low_b = (130.5, 32.5)\n",
    "n_iterations = 10000\n",
    "location_name = 'high_b'\n",
    "location = high_b"
   ]
  },
  {
   "cell_type": "code",
   "execution_count": 3,
   "metadata": {
    "collapsed": false,
    "deletable": true,
    "editable": true
   },
   "outputs": [],
   "source": [
    "m_standard = Basemap(projection='merc', lon_0=0)\n",
    "\n",
    "def get_cumdist(data):\n",
    "    hist, edges = np.histogram(a=data, bins=100, range=(0,10))\n",
    "    chist = np.cumsum(hist[::-1])\n",
    "    return edges, hist, chist\n",
    "\n",
    "def plot_data_with_fit_line(ax, raw_data, chist, radius, **kwargs):\n",
    "    a, b, bstd, n, mc = calc_fmd_stats_with_mc(raw_data.mag)\n",
    "    label = radius + ', b={b}, mc={mc}, n={n}'.format(b=round(b,4),mc=mc,n=n)\n",
    "    ax.scatter(chist[0][::-1][:-1], chist[2], label=label, **kwargs)\n",
    "#     a, b, bstd, n, mc = calc_fmd_stats_with_mc(raw_data.mag)\n",
    "    x = np.arange(0, 10, 0.1)\n",
    "    y = 10**(a - b * x)\n",
    "    ax.plot(x, y, color='black')\n",
    "\n",
    "def create_grid(axis_1_min_max, axis_2_min_max, axis_3_min_max\n",
    "                , axis_1_increment, axis_2_increment, axis_3_increment\\\n",
    "               , columns=['longitude', 'latitude', 'depth']):\n",
    "    axis_1_min, axis_1_max = axis_1_min_max\n",
    "    axis_2_min, axis_2_max = axis_2_min_max\n",
    "    axis_3_min, axis_3_max = axis_3_min_max\n",
    "\n",
    "    axis_1_numpoints = (axis_1_max - axis_1_min)/axis_1_increment + 1\n",
    "    axis_2_numpoints = (axis_2_max - axis_2_min)/axis_2_increment + 1\n",
    "    axis_3_numpoints = (axis_3_max - axis_3_min)/axis_3_increment + 1\n",
    "\n",
    "\n",
    "    axis_1 = np.linspace(axis_1_min, axis_1_max, axis_1_numpoints)\n",
    "    axis_2 = np.linspace(axis_2_min, axis_2_max, axis_2_numpoints)\n",
    "    axis_3 = np.linspace(axis_3_min, axis_3_max, axis_3_numpoints)\n",
    "\n",
    "    axis123 = list(product(axis_1, axis_2, axis_3))\n",
    "    grid = pd.DataFrame(axis123, columns=columns)\n",
    "    return grid\n",
    "\n",
    "def get_node_data(node, radius, data, m=m_standard):\n",
    "#     m = Basemap(projection='robin', lon_0=0)\n",
    "    node_lon = node[0]\n",
    "    node_lat = node[1]\n",
    "    radius = radius\n",
    "    distance_from_node = (radius + 10)/111.133\n",
    "    data = data[data.lon.between(node_lon-distance_from_node, node_lon+distance_from_node)\n",
    "              & data.lat.between(node_lat-distance_from_node, node_lon+distance_from_node)].copy()\n",
    "    xy = np.array(m(data.lon.values, data.lat.values)).transpose()\n",
    "    node_xy = np.array([m(node_lon, node_lat)])\n",
    "#     dist = scipy.spatial.distance.cdist(xy, node_xy)/1000. #cdist is meters, we want km\n",
    "    dist = spatial.distance.cdist(xy, node_xy)/1000. #cdist is meters, we want km\n",
    "    data['distance'] = dist[:,0]\n",
    "    data = data[data.distance <= radius]\n",
    "    return data\n",
    "\n",
    "def mc_maximum_curvature(magnitudes):\n",
    "    \"\"\"\n",
    "    :param catalog : pandas Series\n",
    "    :param method : string\n",
    "    \"\"\"\n",
    "    minimum = round(magnitudes.min(), 2)\n",
    "    bins = np.arange(start=minimum, stop=10, step=0.1)\n",
    "    hist, edges = np.histogram(a=magnitudes, range=(minimum, 10), bins=bins)\n",
    "    hist_maximum_index = np.argmax(hist)\n",
    "    return round(edges[hist_maximum_index], 2)\n",
    "\n",
    "def fmd_values(magnitudes, bin_width=0.1):\n",
    "    \"\"\"\n",
    "    params magnitudes : numpy.array\n",
    "    params bin_width : float\n",
    "\n",
    "    returns a,b,bstd, n-values if above the earthquake count threshold\n",
    "    else returns np.nans\n",
    "    \"\"\"\n",
    "    length = magnitudes.shape[0]\n",
    "    minimum = magnitudes.min()\n",
    "    average = magnitudes.mean()\n",
    "    b_value = (1 / (average - (minimum - (bin_width / 2)))) * np.log10(np.exp(1))\n",
    "\n",
    "    square_every_value = np.vectorize(lambda x: x ** 2)\n",
    "    b_stddev = square_every_value((magnitudes - average).sum()) / (length * (length - 1))\n",
    "    b_stddev = 2.3 * np.sqrt(b_stddev) * b_value ** 2\n",
    "    a_value = np.log10(length) + b_value * minimum\n",
    "\n",
    "    return a_value, b_value, b_stddev, length\n",
    "\n",
    "def calc_fmd_stats_with_mc(magnitudes):\n",
    "    if len(magnitudes) > 0:\n",
    "        mc = mc_maximum_curvature(magnitudes) + 0.2\n",
    "        magnitudes = magnitudes[magnitudes >= mc]\n",
    "        if len(magnitudes) > 0:\n",
    "            fmd_stats = fmd_values(magnitudes)\n",
    "            return fmd_stats + (mc,)\n",
    "        else: return (np.nan, np.nan, np.nan, np.nan, np.nan)\n",
    "    else:\n",
    "        return (np.nan, np.nan, np.nan, np.nan, np.nan)\n",
    "    \n",
    "def node_pipeline(node, data, radius):\n",
    "    node_data = get_node_data(node=node, data=data, radius=radius)\n",
    "    statistics = calc_fmd_stats_with_mc(node_data.mag)\n",
    "    return statistics\n",
    "\n",
    "def grid_statistic_pipeline(grid, data, radius):\n",
    "    stats = []\n",
    "    for node in grid:\n",
    "        stats.append(node_pipeline(node=node, data=data, radius=radius) + (node[0], node[1]))\n",
    "    return np.array(stats)\n",
    "\n",
    "def calc_bootstrapped_fmd_values(df, n_calculations):\n",
    "    fmd_values = []\n",
    "    for n in range(n_calculations):\n",
    "        fmd_values.append(calc_fmd_stats_with_mc(df.ix[np.random.choice(df.index, size=(1, len(df)))[0]].mag))\n",
    "    return fmd_values\n",
    "\n",
    "def get_catalog_shifted_by_location_mag_normal_error(df):\n",
    "    err_df = df.copy()\n",
    "    err_df['hz_err_deg'] = err_df['horizontal_error'] / 111.113\n",
    "    err_df['lon'] = np.random.normal(err_df['lon'].values, err_df['hz_err_deg'].values+0.001)\n",
    "    err_df['lat'] = np.random.normal(err_df['lat'].values, err_df['hz_err_deg'].values+0.001)\n",
    "    err_df['mag'] = np.random.normal(err_df['mag'], 0.1)\n",
    "    return err_df"
   ]
  },
  {
   "cell_type": "code",
   "execution_count": 4,
   "metadata": {
    "collapsed": true,
    "deletable": true,
    "editable": true
   },
   "outputs": [],
   "source": [
    "df = pd.read_csv('data/ccu.dat', delimiter='\\t', names=['lon', 'lat', 'decimal_year', 'month', 'day', 'mag'\n",
    "                                                        , 'depth', 'hour', 'minute', 'second', 'horizontal_error'\n",
    "                                                        , 'depth_error', 'mag_err'])"
   ]
  },
  {
   "cell_type": "code",
   "execution_count": 5,
   "metadata": {
    "collapsed": false,
    "deletable": true,
    "editable": true
   },
   "outputs": [],
   "source": [
    "df['timestamp'] = df.decimal_year.apply(timestamps.convert_decimal_year_to_numpy_datetime64)"
   ]
  },
  {
   "cell_type": "code",
   "execution_count": 6,
   "metadata": {
    "collapsed": false,
    "deletable": true,
    "editable": true
   },
   "outputs": [],
   "source": [
    "foreshock_time = '2016-04-14 12:26:00'\n",
    "mainshock_time = '2016-04-15 16:24:28'\n",
    "\n",
    "# start_date = '2000-01-01 00:00:00'\n",
    "# df = df[df.timestamp >= start_date]\n",
    "\n",
    "# df = df[df.timestamp >= '2000-01-01 00:00:00']\n",
    "# df = df[df.timestamp >= '2001-10-01 00:00:00']\n",
    "df = df[df.timestamp < foreshock_time]\n",
    "df = df[df.depth <= 25]"
   ]
  },
  {
   "cell_type": "code",
   "execution_count": 7,
   "metadata": {
    "collapsed": false,
    "deletable": true,
    "editable": true
   },
   "outputs": [],
   "source": [
    "df = df.set_index('timestamp')"
   ]
  },
  {
   "cell_type": "code",
   "execution_count": 8,
   "metadata": {
    "collapsed": false,
    "deletable": true,
    "editable": true
   },
   "outputs": [
    {
     "data": {
      "text/plain": [
       "<matplotlib.axes._subplots.AxesSubplot at 0x7f4d263119e8>"
      ]
     },
     "execution_count": 8,
     "metadata": {},
     "output_type": "execute_result"
    },
    {
     "data": {
      "image/png": "[encoded data removed]",
      "text/plain": [
       "<matplotlib.figure.Figure at 0x7f4d2719e828>"
      ]
     },
     "metadata": {},
     "output_type": "display_data"
    }
   ],
   "source": [
    "df.mag.plot(figsize=(15,5))"
   ]
  },
  {
   "cell_type": "code",
   "execution_count": 9,
   "metadata": {
    "collapsed": false,
    "deletable": true,
    "editable": true
   },
   "outputs": [],
   "source": [
    "from itertools import product\n",
    "\n",
    "radii = np.arange(1, 30, 0.5)\n",
    "timii = pd.date_range(start='01-01-1990 00:00:00', end='01-01-2015 00:00:00', freq='1M', tz='GMT')\n",
    "\n",
    "parameters = [x for x in product(radii, timii)]"
   ]
  },
  {
   "cell_type": "code",
   "execution_count": 10,
   "metadata": {
    "collapsed": false,
    "deletable": true,
    "editable": true
   },
   "outputs": [
    {
     "name": "stderr",
     "output_type": "stream",
     "text": [
      "/home/max/anaconda2/envs/research/lib/python3.6/site-packages/ipykernel/__main__.py:78: RuntimeWarning: invalid value encountered in true_divide\n"
     ]
    },
    {
     "ename": "TypeError",
     "evalue": "('Invalid object type at position 0', 'occurred at index radius')",
     "output_type": "error",
     "traceback": [
      "\u001b[0;31m---------------------------------------------------------------------------\u001b[0m",
      "\u001b[0;31mTypeError\u001b[0m                                 Traceback (most recent call last)",
      "\u001b[0;32mpandas/src/inference.pyx\u001b[0m in \u001b[0;36mpandas.lib.maybe_convert_numeric (pandas/lib.c:55708)\u001b[0;34m()\u001b[0m\n",
      "\u001b[0;31mTypeError\u001b[0m: Invalid object type",
      "\nDuring handling of the above exception, another exception occurred:\n",
      "\u001b[0;31mTypeError\u001b[0m                                 Traceback (most recent call last)",
      "\u001b[0;32m<ipython-input-10-eedbd03b0c99>\u001b[0m in \u001b[0;36m<module>\u001b[0;34m()\u001b[0m\n\u001b[1;32m     26\u001b[0m                                                               \u001b[0;34m,\u001b[0m \u001b[0;34m'a_std'\u001b[0m\u001b[0;34m,\u001b[0m \u001b[0;34m'b_std'\u001b[0m\u001b[0;34m\u001b[0m\u001b[0m\n\u001b[1;32m     27\u001b[0m                                                               \u001b[0;34m,\u001b[0m \u001b[0;34m'bstd_std'\u001b[0m\u001b[0;34m,\u001b[0m \u001b[0;34m'n_std'\u001b[0m\u001b[0;34m\u001b[0m\u001b[0m\n\u001b[0;32m---> 28\u001b[0;31m                                                               , 'mc_std']].apply(pd.to_numeric)\n\u001b[0m\u001b[1;32m     29\u001b[0m \u001b[0mbdf\u001b[0m\u001b[0;34m[\u001b[0m\u001b[0;34m'start_time'\u001b[0m\u001b[0;34m]\u001b[0m \u001b[0;34m=\u001b[0m \u001b[0mpd\u001b[0m\u001b[0;34m.\u001b[0m\u001b[0mto_datetime\u001b[0m\u001b[0;34m(\u001b[0m\u001b[0mbdf\u001b[0m\u001b[0;34m[\u001b[0m\u001b[0;34m'start_time'\u001b[0m\u001b[0;34m]\u001b[0m\u001b[0;34m)\u001b[0m\u001b[0;34m\u001b[0m\u001b[0m\n",
      "\u001b[0;32m/home/max/anaconda2/envs/research/lib/python3.6/site-packages/pandas/core/frame.py\u001b[0m in \u001b[0;36mapply\u001b[0;34m(self, func, axis, broadcast, raw, reduce, args, **kwds)\u001b[0m\n\u001b[1;32m   4150\u001b[0m                     \u001b[0;32mif\u001b[0m \u001b[0mreduce\u001b[0m \u001b[0;32mis\u001b[0m \u001b[0;32mNone\u001b[0m\u001b[0;34m:\u001b[0m\u001b[0;34m\u001b[0m\u001b[0m\n\u001b[1;32m   4151\u001b[0m                         \u001b[0mreduce\u001b[0m \u001b[0;34m=\u001b[0m \u001b[0;32mTrue\u001b[0m\u001b[0;34m\u001b[0m\u001b[0m\n\u001b[0;32m-> 4152\u001b[0;31m                     \u001b[0;32mreturn\u001b[0m \u001b[0mself\u001b[0m\u001b[0;34m.\u001b[0m\u001b[0m_apply_standard\u001b[0m\u001b[0;34m(\u001b[0m\u001b[0mf\u001b[0m\u001b[0;34m,\u001b[0m \u001b[0maxis\u001b[0m\u001b[0;34m,\u001b[0m \u001b[0mreduce\u001b[0m\u001b[0;34m=\u001b[0m\u001b[0mreduce\u001b[0m\u001b[0;34m)\u001b[0m\u001b[0;34m\u001b[0m\u001b[0m\n\u001b[0m\u001b[1;32m   4153\u001b[0m             \u001b[0;32melse\u001b[0m\u001b[0;34m:\u001b[0m\u001b[0;34m\u001b[0m\u001b[0m\n\u001b[1;32m   4154\u001b[0m                 \u001b[0;32mreturn\u001b[0m \u001b[0mself\u001b[0m\u001b[0;34m.\u001b[0m\u001b[0m_apply_broadcast\u001b[0m\u001b[0;34m(\u001b[0m\u001b[0mf\u001b[0m\u001b[0;34m,\u001b[0m \u001b[0maxis\u001b[0m\u001b[0;34m)\u001b[0m\u001b[0;34m\u001b[0m\u001b[0m\n",
      "\u001b[0;32m/home/max/anaconda2/envs/research/lib/python3.6/site-packages/pandas/core/frame.py\u001b[0m in \u001b[0;36m_apply_standard\u001b[0;34m(self, func, axis, ignore_failures, reduce)\u001b[0m\n\u001b[1;32m   4246\u001b[0m             \u001b[0;32mtry\u001b[0m\u001b[0;34m:\u001b[0m\u001b[0;34m\u001b[0m\u001b[0m\n\u001b[1;32m   4247\u001b[0m                 \u001b[0;32mfor\u001b[0m \u001b[0mi\u001b[0m\u001b[0;34m,\u001b[0m \u001b[0mv\u001b[0m \u001b[0;32min\u001b[0m \u001b[0menumerate\u001b[0m\u001b[0;34m(\u001b[0m\u001b[0mseries_gen\u001b[0m\u001b[0;34m)\u001b[0m\u001b[0;34m:\u001b[0m\u001b[0;34m\u001b[0m\u001b[0m\n\u001b[0;32m-> 4248\u001b[0;31m                     \u001b[0mresults\u001b[0m\u001b[0;34m[\u001b[0m\u001b[0mi\u001b[0m\u001b[0;34m]\u001b[0m \u001b[0;34m=\u001b[0m \u001b[0mfunc\u001b[0m\u001b[0;34m(\u001b[0m\u001b[0mv\u001b[0m\u001b[0;34m)\u001b[0m\u001b[0;34m\u001b[0m\u001b[0m\n\u001b[0m\u001b[1;32m   4249\u001b[0m                     \u001b[0mkeys\u001b[0m\u001b[0;34m.\u001b[0m\u001b[0mappend\u001b[0m\u001b[0;34m(\u001b[0m\u001b[0mv\u001b[0m\u001b[0;34m.\u001b[0m\u001b[0mname\u001b[0m\u001b[0;34m)\u001b[0m\u001b[0;34m\u001b[0m\u001b[0m\n\u001b[1;32m   4250\u001b[0m             \u001b[0;32mexcept\u001b[0m \u001b[0mException\u001b[0m \u001b[0;32mas\u001b[0m \u001b[0me\u001b[0m\u001b[0;34m:\u001b[0m\u001b[0;34m\u001b[0m\u001b[0m\n",
      "\u001b[0;32m/home/max/anaconda2/envs/research/lib/python3.6/site-packages/pandas/tools/util.py\u001b[0m in \u001b[0;36mto_numeric\u001b[0;34m(arg, errors, downcast)\u001b[0m\n\u001b[1;32m    193\u001b[0m             \u001b[0mcoerce_numeric\u001b[0m \u001b[0;34m=\u001b[0m \u001b[0;32mFalse\u001b[0m \u001b[0;32mif\u001b[0m \u001b[0merrors\u001b[0m \u001b[0;32min\u001b[0m \u001b[0;34m(\u001b[0m\u001b[0;34m'ignore'\u001b[0m\u001b[0;34m,\u001b[0m \u001b[0;34m'raise'\u001b[0m\u001b[0;34m)\u001b[0m \u001b[0;32melse\u001b[0m \u001b[0;32mTrue\u001b[0m\u001b[0;34m\u001b[0m\u001b[0m\n\u001b[1;32m    194\u001b[0m             values = lib.maybe_convert_numeric(values, set(),\n\u001b[0;32m--> 195\u001b[0;31m                                                coerce_numeric=coerce_numeric)\n\u001b[0m\u001b[1;32m    196\u001b[0m \u001b[0;34m\u001b[0m\u001b[0m\n\u001b[1;32m    197\u001b[0m     \u001b[0;32mexcept\u001b[0m \u001b[0mException\u001b[0m\u001b[0;34m:\u001b[0m\u001b[0;34m\u001b[0m\u001b[0m\n",
      "\u001b[0;32mpandas/src/inference.pyx\u001b[0m in \u001b[0;36mpandas.lib.maybe_convert_numeric (pandas/lib.c:56097)\u001b[0;34m()\u001b[0m\n",
      "\u001b[0;31mTypeError\u001b[0m: ('Invalid object type at position 0', 'occurred at index radius')"
     ]
    }
   ],
   "source": [
    "fm_main = (130.763, 32.7545, 128, 74, -14)\n",
    "\n",
    "local_df = df[df.lon.between(128, 132) & df.lat.between(30, 34)].copy()\n",
    "\n",
    "rows = []\n",
    "\n",
    "for r, t in parameters:\n",
    "    raw_df = local_df.loc[local_df.index>=t].copy()\n",
    "    raw_df = get_node_data(data=raw_df, radius=r, node=location)\n",
    "    try:\n",
    "        b = calc_bootstrapped_fmd_values(get_catalog_shifted_by_location_mag_normal_error(raw_df), 10)\n",
    "        bdf = pd.DataFrame(np.array(b), columns=['a', 'b', 'bstd', 'n', 'mc'])\n",
    "        row = [(r,), (t,), bdf.mean().values, bdf.std().values]\n",
    "        row = np.concatenate(np.array(row))\n",
    "    except ValueError:\n",
    "        row = (np.nan,) + (t,)+(np.nan,)*10\n",
    "    rows.append(row)\n",
    "    \n",
    "\n",
    "bdf = pd.DataFrame(rows, columns=['radius', 'start_time', 'a_avg', 'b_avg', 'bstd_avg', 'n_avg', 'mc_avg'\n",
    "                                         ,'a_std', 'b_std', 'bstd_std', 'n_std', 'mc_std'])\n",
    "bdf[['radius', 'a_avg', 'b_avg', 'bstd_avg', 'n_avg', 'mc_avg'\n",
    "    ,'a_std', 'b_std', 'bstd_std', 'n_std', 'mc_std']] = bdf[['radius', 'a_avg'\n",
    "                                                              , 'b_avg', 'bstd_avg'\n",
    "                                                              , 'n_avg', 'mc_avg'\n",
    "                                                              , 'a_std', 'b_std'\n",
    "                                                              , 'bstd_std', 'n_std'\n",
    "                                                              , 'mc_std']].apply(pd.to_numeric)\n",
    "bdf['start_time'] = pd.to_datetime(bdf['start_time'])"
   ]
  },
  {
   "cell_type": "code",
   "execution_count": null,
   "metadata": {
    "collapsed": false,
    "deletable": true,
    "editable": true
   },
   "outputs": [],
   "source": [
    "bdf.describe()"
   ]
  },
  {
   "cell_type": "code",
   "execution_count": null,
   "metadata": {
    "collapsed": true,
    "deletable": true,
    "editable": true
   },
   "outputs": [],
   "source": [
    "# import cProfile\n",
    "# def do():\n",
    "#     fm_main = (130.763, 32.7545, 128, 74, -14)\n",
    "\n",
    "#     local_df = df[df.lon.between(128, 132) & df.lat.between(30, 34)].copy()\n",
    "\n",
    "#     rows = []\n",
    "\n",
    "#     for r, t in parameters:\n",
    "#         raw_df = local_df.loc[local_df.index>=t].copy()\n",
    "#         raw_df = get_node_data(data=raw_df, radius=r, node=fm_main[0:2])\n",
    "#         b = calc_bootstrapped_fmd_values(get_catalog_shifted_by_location_mag_normal_error(raw_df), 10)\n",
    "#         bdf = pd.DataFrame(np.array(b), columns=['a', 'b', 'bstd', 'n', 'mc'])\n",
    "#         row = [(r,), (t,), bdf.mean().values, bdf.std().values]\n",
    "#         row = np.concatenate(np.array(row))\n",
    "#         rows.append(row)\n",
    "\n",
    "\n",
    "#     bdf = pd.DataFrame(rows, columns=['radius', 'start_time', 'a_avg', 'b_avg', 'bstd_avg', 'n_avg', 'mc_avg'\n",
    "#                                              ,'a_std', 'b_std', 'bstd_std', 'n_std', 'mc_std'])\n",
    "#     bdf[['radius', 'a_avg', 'b_avg', 'bstd_avg', 'n_avg', 'mc_avg'\n",
    "#         ,'a_std', 'b_std', 'bstd_std', 'n_std', 'mc_std']] = bdf[['radius', 'a_avg'\n",
    "#                                                                   , 'b_avg', 'bstd_avg'\n",
    "#                                                                   , 'n_avg', 'mc_avg'\n",
    "#                                                                   , 'a_std', 'b_std'\n",
    "#                                                                   , 'bstd_std', 'n_std'\n",
    "#                                                                   , 'mc_std']].apply(pd.to_numeric)\n",
    "#     bdf['start_time'] = pd.to_datetime(bdf['start_time'])"
   ]
  },
  {
   "cell_type": "code",
   "execution_count": null,
   "metadata": {
    "collapsed": false,
    "deletable": true,
    "editable": true
   },
   "outputs": [],
   "source": [
    "# cProfile.run('do()')"
   ]
  },
  {
   "cell_type": "code",
   "execution_count": null,
   "metadata": {
    "collapsed": true,
    "deletable": true,
    "editable": true
   },
   "outputs": [],
   "source": [
    "bdf.to_csv('radius_time_sweep_{n}.csv'.format(n=location_name), index=False)"
   ]
  },
  {
   "cell_type": "code",
   "execution_count": null,
   "metadata": {
    "collapsed": false,
    "deletable": true,
    "editable": true
   },
   "outputs": [],
   "source": [
    "bdf.head(1)"
   ]
  },
  {
   "cell_type": "code",
   "execution_count": null,
   "metadata": {
    "collapsed": false,
    "deletable": true,
    "editable": true
   },
   "outputs": [],
   "source": [
    "bdf.b_avg.hist(bins=200, range=(0,2))"
   ]
  },
  {
   "cell_type": "code",
   "execution_count": null,
   "metadata": {
    "collapsed": false,
    "deletable": true,
    "editable": true
   },
   "outputs": [],
   "source": [
    "fig, ax = plt.subplots(figsize=(10,7))\n",
    "\n",
    "zi = bdf.pivot(index='start_time', columns='radius', values='b_avg')\n",
    "xi_label = [np.datetime64(z, 'Y') for z in zi.index]#\n",
    "xi = np.arange(len(xi_label))\n",
    "yi = zi.columns\n",
    "xi, yi = np.meshgrid(xi, yi)\n",
    "\n",
    "zi = np.ma.masked_invalid(zi).transpose()\n",
    "\n",
    "cbar = ax.pcolormesh(xi, yi, zi, vmin=0.0, vmax=2.0, cmap='jet')\n",
    "fig.colorbar(cbar, label='b-value')\n",
    "\n",
    "ax.set_xticks(np.arange(0,300, 12))\n",
    "ax.set_xticklabels(xi_label[0::12], rotation=90)\n",
    "ax.set_ylabel('Selection Radius (km)')"
   ]
  },
  {
   "cell_type": "code",
   "execution_count": null,
   "metadata": {
    "collapsed": false,
    "deletable": true,
    "editable": true
   },
   "outputs": [],
   "source": [
    "fig, ax = plt.subplots(figsize=(10,7))\n",
    "\n",
    "zi = bdf.pivot(index='start_time', columns='radius', values='b_avg')\n",
    "xi_label = [np.datetime64(z, 'Y') for z in zi.index]\n",
    "xi = np.arange(len(xi_label))\n",
    "yi = zi.columns\n",
    "xi, yi = np.meshgrid(xi, yi)\n",
    "\n",
    "zi = np.ma.masked_invalid(zi).transpose()\n",
    "\n",
    "cbar = ax.pcolormesh(xi, yi, zi, vmin=0.55, vmax=0.75, cmap='jet')\n",
    "fig.colorbar(cbar, label='b-value')\n",
    "\n",
    "ax.set_xticks(np.arange(0,300, 12))\n",
    "ax.set_xticklabels(xi_label[0::12], rotation=90)\n",
    "ax.set_ylabel('Selection Radius (km)')\n",
    "\n",
    "# ax.annotate('HINET INCLUDED', xy=(130, 30), xytext=(130,25))\n",
    "\n",
    "ax.annotate('HI-NET included',\n",
    "            xy=(130, 29), xycoords='data', color='black',\n",
    "            xytext=(130./300, 1.2), textcoords='axes fraction', annotation_clip=False,\n",
    "            arrowprops=dict(facecolor='black', shrink=0.05, edgecolor='None', alpha=0.5),\n",
    "            horizontalalignment='center', verticalalignment='top',)\n",
    "\n",
    "\n",
    "# def annotate_plot(ax, xy, s, xytext):\n",
    "#     ax.annotate(s, xy=xy, xycoords='data', color='black'\n",
    "# #                ,xytext=(xy[0]/300., 1.1), textcoords='axes fraction', annotation_clip=False\n",
    "#                ,xytext=xytext, textcoords='axes fraction', annotation_clip=False\n",
    "#                ,arrowprops=dict(facecolor='black', shrink=0.05, edgecolor='None', alpha=0.5),\n",
    "#             horizontalalignment='center', verticalalignment='top', )\n",
    "\n",
    "# eq_locations = get_node_data(node=fm_main[0:2], radius=30, data=df)\n",
    "# geq_m4 = eq_locations[eq_locations.mag>4]['mag'].copy()\n",
    "# [np.datetime64(g, 'M') for g in geq_m4.index]\n",
    "# geq_x = [0+6, 0+12,12*2+7, 12*6+6, 12*7+4, 12*8+7, 12*9+11, 12*10+6, 12*12+5, 12*15+1, 12*17+3, 12*21+10]\n",
    "# geq_label = ['M'+str(n) for n in geq_m4.values]\n",
    "# geq = [x for x in zip(geq_x, geq_label)]\n",
    "# n = 0\n",
    "# for x, label in geq:\n",
    "    \n",
    "#     if n % 2 == 0:\n",
    "        \n",
    "#         annotate_plot(ax, xy=(x, 29), s=label, xytext=(x/300., 1.1))\n",
    "        \n",
    "#     else:\n",
    "        \n",
    "#         annotate_plot(ax, xy=(x, 29), s=label, xytext=(x/300., 1.15))\n",
    "\n",
    "#     n+=1\n",
    "    "
   ]
  },
  {
   "cell_type": "code",
   "execution_count": null,
   "metadata": {
    "collapsed": false,
    "deletable": true,
    "editable": true
   },
   "outputs": [],
   "source": [
    "# eq_locations = get_node_data(node=fm_main[0:2], radius=30, data=df)\n",
    "# geq_m4 = eq_locations[eq_locations.mag>4]['mag'].copy()\n",
    "# [np.datetime64(g, 'M') for g in geq_m4.index]\n",
    "# geq_x = [0+6, 0+12,12*2+7, 12*6+6, 12*7+4, 12*8+7, 12*9+11, 12*10+6, 12*12+5, 12*15+1, 12*17+3, 12*21+10]\n",
    "# geq_label = ['M'+str(n) for n in geq_m4.values]\n",
    "# geq = [x for x in zip(geq_x, geq_label)]\n",
    "# geq"
   ]
  },
  {
   "cell_type": "code",
   "execution_count": null,
   "metadata": {
    "collapsed": false,
    "deletable": true,
    "editable": true
   },
   "outputs": [],
   "source": [
    "# zi = bdf.pivot(index='start_time', columns='radius', values='b_avg')\n",
    "# xi_label = [np.datetime64(z, 'Y') for z in zi.index]\n",
    "# zi.index"
   ]
  },
  {
   "cell_type": "code",
   "execution_count": null,
   "metadata": {
    "collapsed": false,
    "deletable": true,
    "editable": true
   },
   "outputs": [],
   "source": [
    "# 12*11"
   ]
  },
  {
   "cell_type": "code",
   "execution_count": null,
   "metadata": {
    "collapsed": false,
    "deletable": true,
    "editable": true
   },
   "outputs": [],
   "source": [
    "ax = bdf.b_avg.hist(bins=100, range=(0.5,1.2))\n",
    "ax.set_xlabel('b-value')\n",
    "ax.set_xticks(np.arange(0.5, 1.0, 0.05))\n",
    "ax.set_xlim(0.5, 1)"
   ]
  },
  {
   "cell_type": "code",
   "execution_count": null,
   "metadata": {
    "collapsed": false,
    "deletable": true,
    "editable": true
   },
   "outputs": [],
   "source": [
    "ax = bdf[bdf.start_time < '2001-01-01'].b_avg.hist(bins=100, range=(0.5,1.2), label='before 2001')\n",
    "bdf[bdf.start_time >= '2001-01-01'].b_avg.hist(bins=100, range=(0.5,1.2), ax=ax, alpha=0.75, label='after 2001')\n",
    "\n",
    "ax.set_xlabel('b-value')\n",
    "ax.set_xticks(np.arange(0.5, 1.0, 0.05))\n",
    "ax.set_xlim(0.5, 1)\n",
    "ax.legend()\n",
    "ax.grid(linestyle='--')"
   ]
  },
  {
   "cell_type": "code",
   "execution_count": null,
   "metadata": {
    "collapsed": false,
    "deletable": true,
    "editable": true
   },
   "outputs": [],
   "source": [
    "fig, ax = plt.subplots(1, figsize=(8,8))\n",
    "\n",
    "m = Basemap(projection='merc'\n",
    "           ,llcrnrlat=30\n",
    "           ,urcrnrlat=35\n",
    "           ,llcrnrlon=128.\n",
    "           ,urcrnrlon=134\n",
    "           ,resolution='f'\n",
    "           ,area_thresh=100\n",
    "           ,ax=ax)\n",
    "\n",
    "labels = np.arange(0,180,2)\n",
    "m.drawparallels(labels, labels=labels)\n",
    "m.drawmeridians(labels, labels=labels)\n",
    "\n",
    "m.drawcoastlines()\n",
    "m.fillcontinents(color='gray', zorder=0)\n",
    "\n",
    "# # data = df[(df.mag > 2.5) & df.lat.between(32,34) & df.lon.between(130,132)]\n",
    "d = df[(df.mag > 1)].copy()\n",
    "d = d[d.lat.between(28.5, 34.5) & d.lon.between(126.5, 134.5)]\n",
    "d = d[d.horizontal_error <= 2.0]\n",
    "\n",
    "\n",
    "x, y = m(d.lon.values, d.lat.values)\n",
    "\n",
    "cbar = ax.scatter(x, y, c=d.horizontal_error.values, s=10*np.exp(d.horizontal_error.values), edgecolor='None'\n",
    "                  , cmap='Reds')\n",
    "c1 = fig.colorbar(cbar, label='horizontal error',fraction=0.0346, pad=0.084)\n",
    "c1.ax.invert_yaxis()\n",
    "\n",
    "\n",
    "x, y = m(fm_main[0], fm_main[1])\n",
    "ax.scatter(x, y, s=500, marker='*', zorder=50, c='red')\n",
    "\n",
    "# sizes = np.exp([3,4,5,6,7])\n",
    "# label_plot = [ax.scatter([],[], s=s, edgecolors='black', color='white', alpha=0.5) for s in sizes]\n",
    "# labels = [x for x in range(3,11)]\n",
    "# ax.legend(label_plot, labels, ncol=10, frameon=True, fontsize=12, handlelength=0.75, loc='upper left'\n",
    "#         , borderpad = 1.,handletextpad=0.95, title='Magnitude Size', scatterpoints = 1\n",
    "#         , bbox_to_anchor=(0.18,0.0115))\n",
    "\n",
    "equi(m, fm_main[0], fm_main[1], 30, lw=2, color='red')\n",
    "# equi(m, 132, 32, 50, lw=2)\n",
    "# equi(m, 130, 34, 50, lw=2, color='red')"
   ]
  },
  {
   "cell_type": "code",
   "execution_count": null,
   "metadata": {
    "collapsed": false,
    "deletable": true,
    "editable": true
   },
   "outputs": [],
   "source": [
    "from matplotlib.colors import LogNorm\n",
    "fig, ax = plt.subplots(figsize=(10,7))\n",
    "\n",
    "zi = bdf[bdf['b_std'] > 0.].pivot(index='start_time', columns='radius', values='b_std')\n",
    "xi_label = [np.datetime64(z, 'Y') for z in xi_label]#zi.index\n",
    "xi = np.arange(len(xi_label))\n",
    "yi = zi.columns\n",
    "xi, yi = np.meshgrid(xi, yi)\n",
    "\n",
    "zi = np.ma.masked_invalid(zi).transpose()\n",
    "\n",
    "cbar = ax.pcolormesh(xi, yi, zi, vmin=zi.min(), vmax=0.1, cmap='plasma', norm=LogNorm())\n",
    "\n",
    "fig.colorbar(cbar, label=r'$\\sigma$')\n",
    "\n",
    "ax.set_xticks(np.arange(0,301, 12))\n",
    "ax.set_xticklabels(xi_label[0::12], rotation=90)\n",
    "ax.set_ylabel('Selection Radius (km)')"
   ]
  },
  {
   "cell_type": "code",
   "execution_count": null,
   "metadata": {
    "collapsed": false,
    "deletable": true,
    "editable": true
   },
   "outputs": [],
   "source": [
    "ax = bdf.b_std.hist(bins=100, range=(0,.1), log=True)\n",
    "ax.set_xlabel('$\\sigma$')"
   ]
  },
  {
   "cell_type": "code",
   "execution_count": null,
   "metadata": {
    "collapsed": false,
    "deletable": true,
    "editable": true
   },
   "outputs": [],
   "source": [
    "ax = bdf[bdf['radius']==5].b_std.hist(bins=100)\n",
    "ax.set_xlabel('$\\sigma$')\n",
    "ax.set_title('Radius=15km')"
   ]
  },
  {
   "cell_type": "code",
   "execution_count": null,
   "metadata": {
    "collapsed": false,
    "deletable": true,
    "editable": true
   },
   "outputs": [],
   "source": [
    "fig, ax = plt.subplots()\n",
    "bdf[bdf['radius']==5].b_std.hist(bins=100, range=(0,0.1), ax=ax, label='R=5km')\n",
    "bdf[bdf['radius']==15].b_std.hist(bins=100, range=(0, 0.1), ax=ax, label='R=15km', alpha=0.75)\n",
    "ax.set_xlabel('$\\sigma$')\n",
    "ax.legend()"
   ]
  },
  {
   "cell_type": "code",
   "execution_count": null,
   "metadata": {
    "collapsed": true,
    "deletable": true,
    "editable": true
   },
   "outputs": [],
   "source": []
  },
  {
   "cell_type": "code",
   "execution_count": null,
   "metadata": {
    "collapsed": true,
    "deletable": true,
    "editable": true
   },
   "outputs": [],
   "source": []
  },
  {
   "cell_type": "code",
   "execution_count": null,
   "metadata": {
    "collapsed": true,
    "deletable": true,
    "editable": true
   },
   "outputs": [],
   "source": []
  },
  {
   "cell_type": "code",
   "execution_count": null,
   "metadata": {
    "collapsed": true,
    "deletable": true,
    "editable": true
   },
   "outputs": [],
   "source": []
  },
  {
   "cell_type": "code",
   "execution_count": null,
   "metadata": {
    "collapsed": true,
    "deletable": true,
    "editable": true
   },
   "outputs": [],
   "source": []
  },
  {
   "cell_type": "code",
   "execution_count": null,
   "metadata": {
    "collapsed": true,
    "deletable": true,
    "editable": true
   },
   "outputs": [],
   "source": []
  },
  {
   "cell_type": "code",
   "execution_count": null,
   "metadata": {
    "collapsed": true,
    "deletable": true,
    "editable": true
   },
   "outputs": [],
   "source": []
  }
 ],
 "metadata": {
  "kernelspec": {
   "display_name": "Python 3",
   "language": "python",
   "name": "python3"
  },
  "language_info": {
   "codemirror_mode": {
    "name": "ipython",
    "version": 3
   },
   "file_extension": ".py",
   "mimetype": "text/x-python",
   "name": "python",
   "nbconvert_exporter": "python",
   "pygments_lexer": "ipython3",
   "version": "3.6.0"
  }
 },
 "nbformat": 4,
 "nbformat_minor": 2
}
