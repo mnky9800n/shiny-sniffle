{
 "cells": [
  {
   "cell_type": "code",
   "execution_count": null,
   "metadata": {},
   "outputs": [
    {
     "data": {
      "text/html": [
       "<script>\n",
       "code_show=true; \n",
       "function code_toggle() {\n",
       " if (code_show){\n",
       " $('div.input').hide();\n",
       " } else {\n",
       " $('div.input').show();\n",
       " }\n",
       " code_show = !code_show\n",
       "} \n",
       "$( document ).ready(code_toggle);\n",
       "</script>\n",
       "<form action=\"javascript:code_toggle()\"><input type=\"submit\" value=\"Click here to toggle on/off the raw code.\"></form>"
      ],
      "text/plain": [
       "<IPython.core.display.HTML object>"
      ]
     },
     "execution_count": 1,
     "metadata": {},
     "output_type": "execute_result"
    }
   ],
   "source": [
    "from IPython.display import HTML\n",
    "\n",
    "HTML('''<script>\n",
    "code_show=true; \n",
    "function code_toggle() {\n",
    " if (code_show){\n",
    " $('div.input').hide();\n",
    " } else {\n",
    " $('div.input').show();\n",
    " }\n",
    " code_show = !code_show\n",
    "} \n",
    "$( document ).ready(code_toggle);\n",
    "</script>\n",
    "<form action=\"javascript:code_toggle()\"><input type=\"submit\" value=\"Click here to toggle on/off the raw code.\"></form>''')"
   ]
  },
  {
   "cell_type": "code",
   "execution_count": null,
   "metadata": {},
   "outputs": [
    {
     "name": "stderr",
     "output_type": "stream",
     "text": [
      "/home/max/pymap3/utilities/stats.py:45: RuntimeWarning: invalid value encountered in true_divide\n",
      "  b_stddev = square_every_value((magnitudes - average).sum()) / (length * (length - 1))\n"
     ]
    }
   ],
   "source": [
    "%matplotlib inline\n",
    "import pandas as pd\n",
    "import numpy as np\n",
    "from utilities import plotting\n",
    "from utilities import stats\n",
    "from utilities import timestamps\n",
    "from utilities import import_export\n",
    "from utilities import polygon_selection\n",
    "from mpl_toolkits.basemap import Basemap\n",
    "from itertools import product\n",
    "import matplotlib.pyplot as plt\n",
    "\n",
    "df = import_export.import_catalog(location='data/ccu.dat', delimiter='\\t', names=['lon', 'lat', 'decimal_year', 'month', 'day', 'mag'\n",
    "                                                        , 'depth', 'hour', 'minute', 'second', 'horizontal_error'\n",
    "                                                        , 'depth_error', 'mag_err'])\n",
    "\n",
    "noto_hanto = {'coordinates':(136.686000, 37.220667), 'time':'2007-03-25 00:41:57.909996', 'tz':'UTC', 'magnitude':6.9}\n",
    "western_tottori = {'coordinates':(133.349, 35.274167), 'time':'2000-10-06 04:30:17.940011', 'tz':'UTC', 'magnitude':6.7}\n",
    "sugura_bay = {'coordinates':(138.499333, 34.786167), 'time':'2009-08-10 20:07:05.740017', 'tz':'UTC', 'magnitude':6.5}\n",
    "iwaki = {'coordinates':(140.672667, 36.945667), 'time':'2011-04-11 08:16:12.020008', 'tz':'UTC', 'magnitude':6.6}\n",
    "iwate_miyage = {'coordinates':(140.880667, 39.029833), 'time':'2008-06-13 23:43:45.359992', 'tz':'UTC', 'magnitude':6.8}\n",
    "kumamoto = {'coordinates':(130.763, 32.7545), 'time':'2016-04-14 12:26:00', 'tz':'UTC', 'magnitude':7.0}\n",
    "tohoku = {'coordinates':(142.861000, 38.103500), 'time':'2011-03-11 05:46:18.119983', 'tz':'UTC', 'magnitude':9.0}\n",
    "\n",
    "def plot_earthquake_on_basemap(eq, m, ax, **kwargs):\n",
    "    x, y = m(eq['coordinates'][0], eq['coordinates'][1])\n",
    "    ax.scatter(x, y, s=0.75*np.exp(eq['magnitude']), **kwargs)\n",
    "    ax.annotate('{year} M{mag}'.format(year=np.datetime64(eq['time']).astype('datetime64[Y]').astype(str)\n",
    "                                              , mag=str(eq['magnitude']))\n",
    "                , xy=(x, y), xytext=(x, y+0.5), fontsize=15, color='red', fontweight='bold')\n",
    "    \n",
    "eq = kumamoto\n",
    "foreshock_time = eq['time']\n",
    "\n",
    "df_regional = polygon_selection.get_node_data(data=df, node=eq['coordinates'], radius=75, m=1)\n",
    "df_regional = df_regional.loc[df_regional.index < foreshock_time]\n",
    "df_regional = df_regional[df_regional.mag >= 0.5]\n",
    "df_regional = df_regional[df_regional.depth <= 25]\n",
    "\n",
    "radii = np.arange(1, 51, 1)\n",
    "timii = pd.date_range(start='01-01-1990 00:00:00', end=foreshock_time, freq='6M')\n",
    "parameters = [x for x in product(radii, timii)]\n",
    "\n",
    "n_iterations = 100\n",
    "\n",
    "bdf = stats.calculate_b_value_parameter_sweep(dataframe=df_regional\n",
    "                                              ,location=eq['coordinates']\n",
    "                                              ,n_iterations=n_iterations\n",
    "                                              ,parameters=parameters)"
   ]
  },
  {
   "cell_type": "code",
   "execution_count": null,
   "metadata": {},
   "outputs": [],
   "source": [
    "rows = []\n",
    "\n",
    "for r, t in parameters:\n",
    "    df_c = polygon_selection.get_node_data(node=eq['coordinates'], data=df_regional, radius=r, m=1)\n",
    "    df_c = df_c.loc[df_c.index >= t]\n",
    "    \n",
    "    a, b, bstd, n, mc = stats.calc_fmd_stats_with_mc(df_c.mag)\n",
    "    row = np.array((r,) + (t,) + (a, b, bstd, n, mc))\n",
    "    rows.append(row)\n",
    "true_bdf = pd.DataFrame(rows, columns=['radius', 'start_time', 'a', 'b', 'bstd', 'n', 'mc'])"
   ]
  },
  {
   "cell_type": "markdown",
   "metadata": {},
   "source": [
    "# EARTHQUAKE_NAME\n",
    "\n",
    "summary of earthquake"
   ]
  },
  {
   "cell_type": "markdown",
   "metadata": {},
   "source": [
    "# EARTHQUAKE_NAME seismicity map\n",
    "\n",
    "The regional seismicity is shown. The color indicates the depth of each earhtquake and the size indicates the magnitude."
   ]
  },
  {
   "cell_type": "code",
   "execution_count": null,
   "metadata": {},
   "outputs": [],
   "source": [
    "m, fig, ax = plotting.plot_seismicity_map(dataframe=df_regional[df_regional.mag>2])\n",
    "plot_earthquake_on_basemap(eq, m, ax, color='black', alpha=0.5)"
   ]
  },
  {
   "cell_type": "markdown",
   "metadata": {},
   "source": [
    "# EARTHQUAKE_NAME cumulative EQ count\n",
    "\n",
    "The cumulative earthquake count is shown for the catalog above M0.5 between 1990 and immediately before the foreshock/mainshock."
   ]
  },
  {
   "cell_type": "code",
   "execution_count": null,
   "metadata": {},
   "outputs": [],
   "source": [
    "fig, ax = plt.subplots(figsize=(10,5))\n",
    "fig, ax = plotting.plot_seismicity_rate(dataframe=df_regional[df_regional.mag>=0.5], fig=fig, ax=ax)"
   ]
  },
  {
   "cell_type": "markdown",
   "metadata": {},
   "source": [
    "# EARTHQUAKE_NAME hypocenter parameter search\n",
    "\n",
    "The vertical axis indicates the selection radius (1-50km), the horizontal axis indicates the start time of the catalog (1990 to immediately before the foreshock and/or mainshock). The color indicates the b-value on the range of 0.6 to 0.9. The b-value is calculated using the maximum likelihood method and the catalog is cut by the magnitude of completeness using the maximum curvature method. The contours indicate the bootstrapped standard deviation from 0.0 to 0.1."
   ]
  },
  {
   "cell_type": "code",
   "execution_count": null,
   "metadata": {},
   "outputs": [],
   "source": [
    "# radii = np.arange(1, 51, 1)\n",
    "# foreshock_time = eq['time']\n",
    "\n",
    "# timii = pd.date_range(start='01-01-1990 00:00:00', end=foreshock_time, freq='6M', tz='GMT')\n",
    "# parameters = [x for x in product(radii, timii)]\n",
    "# df_regional = df_regional.loc[df_regional.index < foreshock_time]\n",
    "# # df_regional = df_regional[df_regional.mag >= 0.5]\n",
    "# # df_regional = df_regional[df_regional.depth <= 25]\n",
    "# n_iterations = 100\n",
    "\n",
    "# bdf = stats.calculate_b_value_parameter_sweep(dataframe=df_regional\n",
    "#                                               ,location=eq['coordinates']\n",
    "#                                               ,n_iterations=n_iterations\n",
    "#                                               ,parameters=parameters)\n",
    "\n",
    "\n",
    "\n",
    "# df_calc = df_regional.copy()\n",
    "\n",
    "# rows = []\n",
    "\n",
    "# for r, t in parameters:\n",
    "#     df_c = polygon_selection.get_node_data(node=eq['coordinates'], data=df_calc, radius=r, m=1)\n",
    "#     df_c = df_c.loc[df_c.index >= t]\n",
    "    \n",
    "#     a, b, bstd, n, mc = stats.calc_fmd_stats_with_mc(df_c.mag)\n",
    "#     row = np.array((r,) + (t,) + (a, b, bstd, n, mc))\n",
    "#     rows.append(row)\n",
    "# true_bdf = pd.DataFrame(rows, columns=['radius', 'start_time', 'a', 'b', 'bstd', 'n', 'mc'])\n",
    "\n",
    "\n",
    "\n",
    "# import scipy.ndimage\n",
    "\n",
    "fig, ax = plt.subplots(figsize=(10,7))\n",
    "\n",
    "fig, ax = plotting.plot_radius_time_sweep(dataframe=true_bdf, vertical_axis='radius'\n",
    "                                 , value='b',vmin=0.6, vmax=0.9, cmap='jet', fig=fig, ax=ax)\n",
    "\n",
    "zi = bdf.pivot(index='start_time', columns='radius', values='b_std')\n",
    "xi_label = [np.datetime64(z, 'Y') for z in zi.index]\n",
    "xi = np.arange(len(xi_label))\n",
    "yi = zi.columns\n",
    "xi, yi = np.meshgrid(xi, yi)\n",
    "\n",
    "zi = np.ma.masked_invalid(zi).transpose()\n",
    "\n",
    "# levels = [10, 50, 250, 1000, 5000]\n",
    "levels = [0.025, 0.05, 0.075, 0.1]\n",
    "cs = ax.contour(xi,yi,zi, levels, cmap='Greys', linewidths=3, linestyles='--')#, locator=ticker.LogLocator())\n",
    "# cs = ax.contourf(xi,yi,zi, levels, cmap='Greys', linewidths=3, linestyles='--', alpha=0.0)#, locator=ticker.LogLocator())\n",
    "# cs = ax.contour(xi,yi,zi, colors='black')#, locator=ticker.LogLocator())\n",
    "\n",
    "# cs.levels = ['$\\pm 0.2 \\sigma$', '>50 EQs','>250 EQs', '>1000 EQs', '>5000 EQs']\n",
    "\n",
    "# ax.clabel(cs, cs.levels, inline=True)\n",
    "# ax.set_ylim(0,50)\n",
    "\n",
    "cb = fig.colorbar(cs, label='$\\sigma$')\n",
    "for line in cb.lines:\n",
    "    line.set_linewidth(75)\n",
    "# fig.savefig('b_std_kumamoto_parameter.png', dpi=300, bbox_inches='tight', transparency=True)"
   ]
  },
  {
   "cell_type": "markdown",
   "metadata": {},
   "source": [
    "# EARTHQUAKE_NAME b-value over time\n",
    "\n",
    "The b-value is plotted on the vertical axis with the range of selection radii (1-50km) is plotted on the horizontal accident. The color indicates the start time of the catalog (in epoch ms), and the bars indicate the bootstrapped standard error."
   ]
  },
  {
   "cell_type": "code",
   "execution_count": null,
   "metadata": {},
   "outputs": [],
   "source": [
    "plt.style.use('default')\n",
    "\n",
    "\n",
    "fig, ax = plt.subplots(figsize=(10,8))\n",
    "\n",
    "true_bdf['start_time_int'] = pd.to_datetime(true_bdf.start_time).astype('int')\n",
    "ax = true_bdf.plot(kind='scatter', x='radius', y='b', c='start_time_int', cmap='viridis', ax=ax\n",
    "                  ,yerr=bdf.b_std.values/np.sqrt(bdf.shape[0]))\n",
    "ylim = ax.set_ylim(0.5, 1)"
   ]
  }
 ],
 "metadata": {
  "kernelspec": {
   "display_name": "Python 3",
   "language": "python",
   "name": "python3"
  },
  "language_info": {
   "codemirror_mode": {
    "name": "ipython",
    "version": 3
   },
   "file_extension": ".py",
   "mimetype": "text/x-python",
   "name": "python",
   "nbconvert_exporter": "python",
   "pygments_lexer": "ipython3",
   "version": "3.5.3"
  }
 },
 "nbformat": 4,
 "nbformat_minor": 2
}
