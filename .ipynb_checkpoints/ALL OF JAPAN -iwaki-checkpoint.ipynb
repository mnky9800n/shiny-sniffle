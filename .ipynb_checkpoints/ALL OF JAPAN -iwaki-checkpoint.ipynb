{
 "cells": [
  {
   "cell_type": "code",
   "execution_count": 1,
   "metadata": {
    "collapsed": false,
    "deletable": true,
    "editable": true
   },
   "outputs": [],
   "source": [
    "%matplotlib inline\n",
    "import pandas as pd\n",
    "import numpy as np\n",
    "from utilities import plotting\n",
    "from utilities import stats\n",
    "from utilities import timestamps\n",
    "from utilities import import_export\n",
    "from utilities import polygon_selection\n",
    "from mpl_toolkits.basemap import Basemap\n",
    "from itertools import product\n",
    "import matplotlib.pyplot as plt"
   ]
  },
  {
   "cell_type": "code",
   "execution_count": 2,
   "metadata": {
    "collapsed": false,
    "deletable": true,
    "editable": true
   },
   "outputs": [],
   "source": [
    "# df = pd.read_csv('data/ccu.dat', delimiter='\\t', names=['lon', 'lat', 'decimal_year', 'month', 'day', 'mag'\n",
    "#                                                         , 'depth', 'hour', 'minute', 'second', 'horizontal_error'\n",
    "#                                                         , 'depth_error', 'mag_err'])\n",
    "# df['timestamp'] = df.decimal_year.apply(timestamps.convert_decimal_year_to_numpy_datetime64)\n",
    "\n",
    "df = import_export.import_catalog(location='data/ccu.dat', delimiter='\\t', names=['lon', 'lat', 'decimal_year', 'month', 'day', 'mag'\n",
    "                                                        , 'depth', 'hour', 'minute', 'second', 'horizontal_error'\n",
    "                                                        , 'depth_error', 'mag_err'])"
   ]
  },
  {
   "cell_type": "code",
   "execution_count": 3,
   "metadata": {
    "collapsed": false,
    "deletable": true,
    "editable": true
   },
   "outputs": [],
   "source": [
    "# df[(df.decimal_year > 2011) & (df.mag >= 6.5) & (df.depth <= 40) & (df.lon.between(142, 143))]"
   ]
  },
  {
   "cell_type": "code",
   "execution_count": 4,
   "metadata": {
    "collapsed": false,
    "deletable": true,
    "editable": true
   },
   "outputs": [],
   "source": [
    "noto_hanto = {'coordinates':(136.686000, 37.220667), 'time':'2007-03-25 00:41:57.909996', 'tz':'UTC', 'magnitude':6.9}\n",
    "western_tottori = {'coordinates':(133.349, 35.274167), 'time':'2000-10-06 04:30:17.940011', 'tz':'UTC', 'magnitude':6.7}\n",
    "sugura_bay = {'coordinates':(138.499333, 34.786167), 'time':'2009-08-10 20:07:05.740017', 'tz':'UTC', 'magnitude':6.5}\n",
    "iwaki = {'coordinates':(140.672667, 36.945667), 'time':'2011-04-11 08:16:12.020008', 'tz':'UTC', 'magnitude':6.6}\n",
    "iwate_miyage = {'coordinates':(140.880667, 39.029833), 'time':'2008-06-13 23:43:45.359992', 'tz':'UTC', 'magnitude':6.8}\n",
    "kumamoto = {'coordinates':(130.763, 32.7545), 'time':'2016-04-14 12:26:00', 'tz':'UTC', 'magnitude':7.0}\n",
    "tohoku = {'coordinates':(142.861000, 38.103500), 'time':'2011-03-11 05:46:18.119983', 'tz':'UTC', 'magnitude':9.0}\n",
    "\n",
    "def plot_earthquake_on_basemap(eq, m, ax, **kwargs):\n",
    "    x, y = m(eq['coordinates'][0], eq['coordinates'][1])\n",
    "    ax.scatter(x, y, s=0.75*np.exp(eq['magnitude']), **kwargs)\n",
    "    ax.annotate('{year} M{mag}'.format(year=np.datetime64(eq['time']).astype('datetime64[Y]').astype(str)\n",
    "                                              , mag=str(eq['magnitude']))\n",
    "                , xy=(x, y), xytext=(x, y+0.5), fontsize=15, color='red', fontweight='bold')"
   ]
  },
  {
   "cell_type": "markdown",
   "metadata": {
    "collapsed": true,
    "deletable": true,
    "editable": true
   },
   "source": [
    "# iwaki"
   ]
  },
  {
   "cell_type": "code",
   "execution_count": 5,
   "metadata": {
    "collapsed": true,
    "deletable": true,
    "editable": true
   },
   "outputs": [],
   "source": [
    "eq = iwaki"
   ]
  },
  {
   "cell_type": "code",
   "execution_count": 6,
   "metadata": {
    "collapsed": false,
    "deletable": true,
    "editable": true
   },
   "outputs": [],
   "source": [
    "df_regional = polygon_selection.get_node_data(data=df, node=eq['coordinates'], radius=75, m=1)"
   ]
  },
  {
   "cell_type": "code",
   "execution_count": 7,
   "metadata": {
    "collapsed": false,
    "deletable": true,
    "editable": true
   },
   "outputs": [
    {
     "data": {
      "text/plain": [
       "(<matplotlib.figure.Figure at 0x7fcaed6dea90>,\n",
       " <matplotlib.axes._subplots.AxesSubplot at 0x7fcb281566a0>)"
      ]
     },
     "execution_count": 7,
     "metadata": {},
     "output_type": "execute_result"
    },
    {
     "data": {
      "image/png": "[encoded data removed]",
      "text/plain": [
       "<matplotlib.figure.Figure at 0x7fcaed6dea90>"
      ]
     },
     "metadata": {},
     "output_type": "display_data"
    }
   ],
   "source": [
    "fig, ax = plt.subplots(figsize=(10,5))\n",
    "plotting.plot_seismicity_rate(dataframe=df_regional[df_regional.mag>=0.5], fig=fig, ax=ax)"
   ]
  },
  {
   "cell_type": "code",
   "execution_count": 18,
   "metadata": {
    "collapsed": false,
    "deletable": true,
    "editable": true
   },
   "outputs": [],
   "source": [
    "df_regional = df_regional.loc[df_regional.index < eq['time']]\n",
    "df_regional = df_regional[df_regional.depth <=10]\n",
    "df_regional = df_regional[df_regional.mag >= 0.5]"
   ]
  },
  {
   "cell_type": "code",
   "execution_count": 30,
   "metadata": {
    "collapsed": false,
    "deletable": true,
    "editable": true
   },
   "outputs": [
    {
     "data": {
      "text/plain": [
       "(<matplotlib.figure.Figure at 0x7fcaebce5b00>,\n",
       " <matplotlib.axes._subplots.AxesSubplot at 0x7fcaec1cfa90>)"
      ]
     },
     "execution_count": 30,
     "metadata": {},
     "output_type": "execute_result"
    },
    {
     "data": {
      "image/png": "[encoded data removed]",
      "text/plain": [
       "<matplotlib.figure.Figure at 0x7fcaebce5b00>"
      ]
     },
     "metadata": {},
     "output_type": "display_data"
    }
   ],
   "source": [
    "fig, ax = plt.subplots(figsize=(10,5))\n",
    "plotting.plot_seismicity_rate(dataframe=df_regional.loc[df_regional.index > '2011'], fig=fig, ax=ax)\n",
    "# ax.text(s='dfgdfg', x=2003, y=1000)\n",
    "# fig.savefig('iwaki_seismicity_cnt.png', dpi=300, bbox_inches='tight')"
   ]
  },
  {
   "cell_type": "code",
   "execution_count": 33,
   "metadata": {
    "collapsed": false
   },
   "outputs": [
    {
     "data": {
      "text/html": [
       "<div>\n",
       "<table border=\"1\" class=\"dataframe\">\n",
       "  <thead>\n",
       "    <tr style=\"text-align: right;\">\n",
       "      <th></th>\n",
       "      <th>lon</th>\n",
       "      <th>lat</th>\n",
       "      <th>decimal_year</th>\n",
       "      <th>month</th>\n",
       "      <th>day</th>\n",
       "      <th>mag</th>\n",
       "      <th>depth</th>\n",
       "      <th>hour</th>\n",
       "      <th>minute</th>\n",
       "      <th>second</th>\n",
       "      <th>horizontal_error</th>\n",
       "      <th>depth_error</th>\n",
       "      <th>mag_err</th>\n",
       "      <th>distance</th>\n",
       "    </tr>\n",
       "    <tr>\n",
       "      <th>timestamp</th>\n",
       "      <th></th>\n",
       "      <th></th>\n",
       "      <th></th>\n",
       "      <th></th>\n",
       "      <th></th>\n",
       "      <th></th>\n",
       "      <th></th>\n",
       "      <th></th>\n",
       "      <th></th>\n",
       "      <th></th>\n",
       "      <th></th>\n",
       "      <th></th>\n",
       "      <th></th>\n",
       "      <th></th>\n",
       "    </tr>\n",
       "  </thead>\n",
       "  <tbody>\n",
       "    <tr>\n",
       "      <th>2011-03-11 05:54:42.130010</th>\n",
       "      <td>140.581500</td>\n",
       "      <td>36.713333</td>\n",
       "      <td>2011.189716</td>\n",
       "      <td>3.0</td>\n",
       "      <td>11.0</td>\n",
       "      <td>5.7</td>\n",
       "      <td>9.53</td>\n",
       "      <td>5.0</td>\n",
       "      <td>54.0</td>\n",
       "      <td>42.130003</td>\n",
       "      <td>0.525278</td>\n",
       "      <td>0.66</td>\n",
       "      <td>NaN</td>\n",
       "      <td>27.081142</td>\n",
       "    </tr>\n",
       "    <tr>\n",
       "      <th>2011-03-22 22:36:31.309994</th>\n",
       "      <td>140.770667</td>\n",
       "      <td>37.063333</td>\n",
       "      <td>2011.221759</td>\n",
       "      <td>3.0</td>\n",
       "      <td>22.0</td>\n",
       "      <td>5.8</td>\n",
       "      <td>7.30</td>\n",
       "      <td>22.0</td>\n",
       "      <td>36.0</td>\n",
       "      <td>31.310001</td>\n",
       "      <td>0.349033</td>\n",
       "      <td>0.74</td>\n",
       "      <td>NaN</td>\n",
       "      <td>15.709180</td>\n",
       "    </tr>\n",
       "    <tr>\n",
       "      <th>2011-03-22 22:13:52.769987</th>\n",
       "      <td>140.769333</td>\n",
       "      <td>37.035333</td>\n",
       "      <td>2011.221716</td>\n",
       "      <td>3.0</td>\n",
       "      <td>22.0</td>\n",
       "      <td>5.8</td>\n",
       "      <td>0.93</td>\n",
       "      <td>22.0</td>\n",
       "      <td>13.0</td>\n",
       "      <td>52.770002</td>\n",
       "      <td>0.521520</td>\n",
       "      <td>1.60</td>\n",
       "      <td>NaN</td>\n",
       "      <td>13.153561</td>\n",
       "    </tr>\n",
       "    <tr>\n",
       "      <th>2011-03-22 22:12:28.780003</th>\n",
       "      <td>140.787833</td>\n",
       "      <td>37.084833</td>\n",
       "      <td>2011.221713</td>\n",
       "      <td>3.0</td>\n",
       "      <td>22.0</td>\n",
       "      <td>6.0</td>\n",
       "      <td>7.60</td>\n",
       "      <td>22.0</td>\n",
       "      <td>12.0</td>\n",
       "      <td>28.780003</td>\n",
       "      <td>0.521290</td>\n",
       "      <td>0.85</td>\n",
       "      <td>NaN</td>\n",
       "      <td>18.541683</td>\n",
       "    </tr>\n",
       "    <tr>\n",
       "      <th>2011-03-19 09:56:48.059983</th>\n",
       "      <td>140.571500</td>\n",
       "      <td>36.783667</td>\n",
       "      <td>2011.212094</td>\n",
       "      <td>3.0</td>\n",
       "      <td>19.0</td>\n",
       "      <td>6.1</td>\n",
       "      <td>5.37</td>\n",
       "      <td>9.0</td>\n",
       "      <td>56.0</td>\n",
       "      <td>48.059997</td>\n",
       "      <td>0.452779</td>\n",
       "      <td>0.74</td>\n",
       "      <td>NaN</td>\n",
       "      <td>20.140137</td>\n",
       "    </tr>\n",
       "  </tbody>\n",
       "</table>\n",
       "</div>"
      ],
      "text/plain": [
       "                                   lon        lat  decimal_year  month   day  \\\n",
       "timestamp                                                                      \n",
       "2011-03-11 05:54:42.130010  140.581500  36.713333   2011.189716    3.0  11.0   \n",
       "2011-03-22 22:36:31.309994  140.770667  37.063333   2011.221759    3.0  22.0   \n",
       "2011-03-22 22:13:52.769987  140.769333  37.035333   2011.221716    3.0  22.0   \n",
       "2011-03-22 22:12:28.780003  140.787833  37.084833   2011.221713    3.0  22.0   \n",
       "2011-03-19 09:56:48.059983  140.571500  36.783667   2011.212094    3.0  19.0   \n",
       "\n",
       "                            mag  depth  hour  minute     second  \\\n",
       "timestamp                                                         \n",
       "2011-03-11 05:54:42.130010  5.7   9.53   5.0    54.0  42.130003   \n",
       "2011-03-22 22:36:31.309994  5.8   7.30  22.0    36.0  31.310001   \n",
       "2011-03-22 22:13:52.769987  5.8   0.93  22.0    13.0  52.770002   \n",
       "2011-03-22 22:12:28.780003  6.0   7.60  22.0    12.0  28.780003   \n",
       "2011-03-19 09:56:48.059983  6.1   5.37   9.0    56.0  48.059997   \n",
       "\n",
       "                            horizontal_error  depth_error  mag_err   distance  \n",
       "timestamp                                                                      \n",
       "2011-03-11 05:54:42.130010          0.525278         0.66      NaN  27.081142  \n",
       "2011-03-22 22:36:31.309994          0.349033         0.74      NaN  15.709180  \n",
       "2011-03-22 22:13:52.769987          0.521520         1.60      NaN  13.153561  \n",
       "2011-03-22 22:12:28.780003          0.521290         0.85      NaN  18.541683  \n",
       "2011-03-19 09:56:48.059983          0.452779         0.74      NaN  20.140137  "
      ]
     },
     "execution_count": 33,
     "metadata": {},
     "output_type": "execute_result"
    }
   ],
   "source": [
    "df_regional.loc[df_regional.index > '2011-03-07'].sort_values('mag').tail()"
   ]
  },
  {
   "cell_type": "code",
   "execution_count": 20,
   "metadata": {
    "collapsed": false,
    "deletable": true,
    "editable": true
   },
   "outputs": [
    {
     "data": {
      "image/png": "[encoded data removed]",
      "text/plain": [
       "<matplotlib.figure.Figure at 0x7fcaec1fa588>"
      ]
     },
     "metadata": {},
     "output_type": "display_data"
    }
   ],
   "source": [
    "m, fig, ax = plotting.plot_seismicity_map(dataframe=df_regional[df_regional.mag>2])"
   ]
  },
  {
   "cell_type": "code",
   "execution_count": 21,
   "metadata": {
    "collapsed": false,
    "deletable": true,
    "editable": true
   },
   "outputs": [
    {
     "data": {
      "text/plain": [
       "(0, 25)"
      ]
     },
     "execution_count": 21,
     "metadata": {},
     "output_type": "execute_result"
    },
    {
     "data": {
      "image/png": "[encoded data removed]",
      "text/plain": [
       "<matplotlib.figure.Figure at 0x7fcaec133400>"
      ]
     },
     "metadata": {},
     "output_type": "display_data"
    }
   ],
   "source": [
    "ax = df_regional.depth.hist(bins=100)\n",
    "ax.set_xlim(0,25)"
   ]
  },
  {
   "cell_type": "code",
   "execution_count": 22,
   "metadata": {
    "collapsed": false,
    "deletable": true,
    "editable": true
   },
   "outputs": [
    {
     "data": {
      "text/plain": [
       "(4.5071597211172119, 0.56031460715658876, 1.3672018340862185e-14, 8848, 1.0)"
      ]
     },
     "execution_count": 22,
     "metadata": {},
     "output_type": "execute_result"
    }
   ],
   "source": [
    "stats.calc_fmd_stats_with_mc(df_regional.mag)"
   ]
  },
  {
   "cell_type": "code",
   "execution_count": 23,
   "metadata": {
    "collapsed": false,
    "deletable": true,
    "editable": true
   },
   "outputs": [
    {
     "name": "stderr",
     "output_type": "stream",
     "text": [
      "/home/max/pymap3/utilities/stats.py:45: RuntimeWarning: invalid value encountered in true_divide\n",
      "  b_stddev = square_every_value((magnitudes - average).sum()) / (length * (length - 1))\n"
     ]
    }
   ],
   "source": [
    "radii = np.arange(1, 51, 1)\n",
    "foreshock_time = eq['time']\n",
    "\n",
    "timii = pd.date_range(start='01-01-1990 00:00:00', end=foreshock_time, freq='6M', tz='GMT')\n",
    "parameters = [x for x in product(radii, timii)]\n",
    "df_regional = df_regional.loc[df_regional.index < foreshock_time]\n",
    "# df_regional = df_regional[df_regional.mag >= 0.5]\n",
    "# df_regional = df_regional[df_regional.depth <= 25]\n",
    "n_iterations = 100\n",
    "\n",
    "bdf = stats.calculate_b_value_parameter_sweep(dataframe=df_regional\n",
    "                                              ,location=eq['coordinates']\n",
    "                                              ,n_iterations=n_iterations\n",
    "                                              ,parameters=parameters)"
   ]
  },
  {
   "cell_type": "code",
   "execution_count": 24,
   "metadata": {
    "collapsed": false,
    "deletable": true,
    "editable": true
   },
   "outputs": [
    {
     "name": "stderr",
     "output_type": "stream",
     "text": [
      "/home/max/anaconda2/envs/research/lib/python3.6/site-packages/ipykernel/__main__.py:7: DeprecationWarning: parsing timezone aware datetimes is deprecated; this will raise an error in the future\n"
     ]
    },
    {
     "data": {
      "image/png": "[encoded data removed]",
      "text/plain": [
       "<matplotlib.figure.Figure at 0x7fcaebd86390>"
      ]
     },
     "metadata": {},
     "output_type": "display_data"
    }
   ],
   "source": [
    "fig, ax = plt.subplots(figsize=(10,7))\n",
    "\n",
    "fig, ax = plotting.plot_radius_time_sweep(dataframe=bdf, vertical_axis='radius'\n",
    "                                 , value='b_avg',vmin=0.6, vmax=0.9, cmap='jet', fig=fig, ax=ax)\n",
    "\n",
    "zi = bdf.pivot(index='start_time', columns='radius', values='n_avg')\n",
    "xi_label = [np.datetime64(z, 'Y') for z in zi.index]\n",
    "xi = np.arange(len(xi_label))\n",
    "yi = zi.columns\n",
    "xi, yi = np.meshgrid(xi, yi)\n",
    "\n",
    "zi = np.ma.masked_invalid(zi).transpose()\n",
    "\n",
    "levels = [10, 50, 250, 1000, 5000]\n",
    "cs = ax.contour(xi,yi,zi, levels, colors='black')#, locator=ticker.LogLocator())\n",
    "\n",
    "cs.levels = ['>10 EQs', '>50 EQs','>250 EQs', '>1000 EQs', '>5000 EQs']\n",
    "\n",
    "ax.clabel(cs, cs.levels, inline=True)\n",
    "ax.set_ylim(0,50)\n",
    "\n",
    "\n",
    "fig.savefig('iwaki_parameter.png', dpi=300, bbox_inches='tight', transparency=True)"
   ]
  },
  {
   "cell_type": "code",
   "execution_count": 25,
   "metadata": {
    "collapsed": false,
    "deletable": true,
    "editable": true
   },
   "outputs": [
    {
     "data": {
      "image/png": "[encoded data removed]",
      "text/plain": [
       "<matplotlib.figure.Figure at 0x7fcaec0c19e8>"
      ]
     },
     "metadata": {},
     "output_type": "display_data"
    }
   ],
   "source": [
    "bdf['diff'] = bdf.b_avg.diff()\n",
    "\n",
    "fig, ax = plt.subplots(figsize=(10,7))\n",
    "\n",
    "fig, ax = plotting.plot_radius_time_sweep(dataframe=bdf, vertical_axis='radius'\n",
    "                                 , value='diff',vmin=-0.05, vmax=0.05, cmap='jet', fig=fig, ax=ax)"
   ]
  },
  {
   "cell_type": "code",
   "execution_count": 26,
   "metadata": {
    "collapsed": false,
    "deletable": true,
    "editable": true
   },
   "outputs": [
    {
     "data": {
      "text/plain": [
       "<matplotlib.axes._subplots.AxesSubplot at 0x7fcaec34cb70>"
      ]
     },
     "execution_count": 26,
     "metadata": {},
     "output_type": "execute_result"
    },
    {
     "data": {
      "image/png": "[encoded data removed]",
      "text/plain": [
       "<matplotlib.figure.Figure at 0x7fcaec1e2710>"
      ]
     },
     "metadata": {},
     "output_type": "display_data"
    }
   ],
   "source": [
    "bdf['diff'].hist(bins=100,)"
   ]
  },
  {
   "cell_type": "code",
   "execution_count": 27,
   "metadata": {
    "collapsed": false,
    "deletable": true,
    "editable": true
   },
   "outputs": [
    {
     "data": {
      "text/html": [
       "<div>\n",
       "<table border=\"1\" class=\"dataframe\">\n",
       "  <thead>\n",
       "    <tr style=\"text-align: right;\">\n",
       "      <th></th>\n",
       "      <th>a</th>\n",
       "      <th>b</th>\n",
       "    </tr>\n",
       "  </thead>\n",
       "  <tbody>\n",
       "  </tbody>\n",
       "</table>\n",
       "</div>"
      ],
      "text/plain": [
       "Empty DataFrame\n",
       "Columns: [a, b]\n",
       "Index: []"
      ]
     },
     "execution_count": 27,
     "metadata": {},
     "output_type": "execute_result"
    }
   ],
   "source": [
    "test = pd.DataFrame(columns=['a','b'])\n",
    "test.apply(lambda x: x['a'] + 1)"
   ]
  },
  {
   "cell_type": "code",
   "execution_count": 28,
   "metadata": {
    "collapsed": false,
    "deletable": true,
    "editable": true
   },
   "outputs": [
    {
     "data": {
      "text/html": [
       "<div>\n",
       "<table border=\"1\" class=\"dataframe\">\n",
       "  <thead>\n",
       "    <tr style=\"text-align: right;\">\n",
       "      <th></th>\n",
       "      <th>radius</th>\n",
       "      <th>a_avg</th>\n",
       "      <th>b_avg</th>\n",
       "      <th>bstd_avg</th>\n",
       "      <th>n_avg</th>\n",
       "      <th>mc_avg</th>\n",
       "      <th>a_std</th>\n",
       "      <th>b_std</th>\n",
       "      <th>bstd_std</th>\n",
       "      <th>n_std</th>\n",
       "      <th>mc_std</th>\n",
       "      <th>diff</th>\n",
       "    </tr>\n",
       "  </thead>\n",
       "  <tbody>\n",
       "    <tr>\n",
       "      <th>count</th>\n",
       "      <td>2150.000000</td>\n",
       "      <td>2150.000000</td>\n",
       "      <td>2150.000000</td>\n",
       "      <td>2.150000e+03</td>\n",
       "      <td>2150.000000</td>\n",
       "      <td>2150.000000</td>\n",
       "      <td>2150.000000</td>\n",
       "      <td>2150.000000</td>\n",
       "      <td>2.150000e+03</td>\n",
       "      <td>2150.000000</td>\n",
       "      <td>2150.000000</td>\n",
       "      <td>2149.000000</td>\n",
       "    </tr>\n",
       "    <tr>\n",
       "      <th>mean</th>\n",
       "      <td>25.500000</td>\n",
       "      <td>4.889450</td>\n",
       "      <td>0.975888</td>\n",
       "      <td>6.282344e-15</td>\n",
       "      <td>2324.610468</td>\n",
       "      <td>1.607062</td>\n",
       "      <td>1.110399</td>\n",
       "      <td>0.383489</td>\n",
       "      <td>3.648705e-15</td>\n",
       "      <td>568.640744</td>\n",
       "      <td>0.234320</td>\n",
       "      <td>-0.002251</td>\n",
       "    </tr>\n",
       "    <tr>\n",
       "      <th>std</th>\n",
       "      <td>14.434227</td>\n",
       "      <td>2.300649</td>\n",
       "      <td>0.962268</td>\n",
       "      <td>4.247830e-15</td>\n",
       "      <td>1520.273980</td>\n",
       "      <td>0.080671</td>\n",
       "      <td>2.922683</td>\n",
       "      <td>0.942989</td>\n",
       "      <td>2.165355e-15</td>\n",
       "      <td>366.371036</td>\n",
       "      <td>0.068230</td>\n",
       "      <td>0.189096</td>\n",
       "    </tr>\n",
       "    <tr>\n",
       "      <th>min</th>\n",
       "      <td>1.000000</td>\n",
       "      <td>2.475763</td>\n",
       "      <td>0.579332</td>\n",
       "      <td>3.569985e-17</td>\n",
       "      <td>1.260000</td>\n",
       "      <td>1.276000</td>\n",
       "      <td>0.092175</td>\n",
       "      <td>0.041558</td>\n",
       "      <td>0.000000e+00</td>\n",
       "      <td>0.443087</td>\n",
       "      <td>0.137084</td>\n",
       "      <td>-4.422447</td>\n",
       "    </tr>\n",
       "    <tr>\n",
       "      <th>25%</th>\n",
       "      <td>13.000000</td>\n",
       "      <td>4.260856</td>\n",
       "      <td>0.717864</td>\n",
       "      <td>1.596252e-15</td>\n",
       "      <td>563.772500</td>\n",
       "      <td>1.560000</td>\n",
       "      <td>0.134627</td>\n",
       "      <td>0.062205</td>\n",
       "      <td>1.325027e-15</td>\n",
       "      <td>155.689214</td>\n",
       "      <td>0.192094</td>\n",
       "      <td>-0.008127</td>\n",
       "    </tr>\n",
       "    <tr>\n",
       "      <th>50%</th>\n",
       "      <td>25.500000</td>\n",
       "      <td>4.738362</td>\n",
       "      <td>0.727827</td>\n",
       "      <td>8.648337e-15</td>\n",
       "      <td>2912.605000</td>\n",
       "      <td>1.632000</td>\n",
       "      <td>0.145487</td>\n",
       "      <td>0.067695</td>\n",
       "      <td>4.676975e-15</td>\n",
       "      <td>723.585666</td>\n",
       "      <td>0.205612</td>\n",
       "      <td>0.000405</td>\n",
       "    </tr>\n",
       "    <tr>\n",
       "      <th>75%</th>\n",
       "      <td>38.000000</td>\n",
       "      <td>4.777219</td>\n",
       "      <td>0.738434</td>\n",
       "      <td>1.013228e-14</td>\n",
       "      <td>3676.027500</td>\n",
       "      <td>1.662767</td>\n",
       "      <td>0.191574</td>\n",
       "      <td>0.090197</td>\n",
       "      <td>5.520446e-15</td>\n",
       "      <td>893.655567</td>\n",
       "      <td>0.245144</td>\n",
       "      <td>0.008114</td>\n",
       "    </tr>\n",
       "    <tr>\n",
       "      <th>max</th>\n",
       "      <td>50.000000</td>\n",
       "      <td>20.287438</td>\n",
       "      <td>6.817816</td>\n",
       "      <td>1.216258e-14</td>\n",
       "      <td>4201.830000</td>\n",
       "      <td>1.816000</td>\n",
       "      <td>13.396010</td>\n",
       "      <td>4.098309</td>\n",
       "      <td>6.937098e-15</td>\n",
       "      <td>1090.723647</td>\n",
       "      <td>0.530253</td>\n",
       "      <td>1.914503</td>\n",
       "    </tr>\n",
       "  </tbody>\n",
       "</table>\n",
       "</div>"
      ],
      "text/plain": [
       "            radius        a_avg        b_avg      bstd_avg        n_avg  \\\n",
       "count  2150.000000  2150.000000  2150.000000  2.150000e+03  2150.000000   \n",
       "mean     25.500000     4.889450     0.975888  6.282344e-15  2324.610468   \n",
       "std      14.434227     2.300649     0.962268  4.247830e-15  1520.273980   \n",
       "min       1.000000     2.475763     0.579332  3.569985e-17     1.260000   \n",
       "25%      13.000000     4.260856     0.717864  1.596252e-15   563.772500   \n",
       "50%      25.500000     4.738362     0.727827  8.648337e-15  2912.605000   \n",
       "75%      38.000000     4.777219     0.738434  1.013228e-14  3676.027500   \n",
       "max      50.000000    20.287438     6.817816  1.216258e-14  4201.830000   \n",
       "\n",
       "            mc_avg        a_std        b_std      bstd_std        n_std  \\\n",
       "count  2150.000000  2150.000000  2150.000000  2.150000e+03  2150.000000   \n",
       "mean      1.607062     1.110399     0.383489  3.648705e-15   568.640744   \n",
       "std       0.080671     2.922683     0.942989  2.165355e-15   366.371036   \n",
       "min       1.276000     0.092175     0.041558  0.000000e+00     0.443087   \n",
       "25%       1.560000     0.134627     0.062205  1.325027e-15   155.689214   \n",
       "50%       1.632000     0.145487     0.067695  4.676975e-15   723.585666   \n",
       "75%       1.662767     0.191574     0.090197  5.520446e-15   893.655567   \n",
       "max       1.816000    13.396010     4.098309  6.937098e-15  1090.723647   \n",
       "\n",
       "            mc_std         diff  \n",
       "count  2150.000000  2149.000000  \n",
       "mean      0.234320    -0.002251  \n",
       "std       0.068230     0.189096  \n",
       "min       0.137084    -4.422447  \n",
       "25%       0.192094    -0.008127  \n",
       "50%       0.205612     0.000405  \n",
       "75%       0.245144     0.008114  \n",
       "max       0.530253     1.914503  "
      ]
     },
     "execution_count": 28,
     "metadata": {},
     "output_type": "execute_result"
    }
   ],
   "source": [
    "bdf.describe()"
   ]
  },
  {
   "cell_type": "code",
   "execution_count": null,
   "metadata": {
    "collapsed": false,
    "deletable": true,
    "editable": true
   },
   "outputs": [],
   "source": []
  },
  {
   "cell_type": "code",
   "execution_count": null,
   "metadata": {
    "collapsed": true,
    "deletable": true,
    "editable": true
   },
   "outputs": [],
   "source": []
  }
 ],
 "metadata": {
  "kernelspec": {
   "display_name": "Python 3",
   "language": "python",
   "name": "python3"
  },
  "language_info": {
   "codemirror_mode": {
    "name": "ipython",
    "version": 3
   },
   "file_extension": ".py",
   "mimetype": "text/x-python",
   "name": "python",
   "nbconvert_exporter": "python",
   "pygments_lexer": "ipython3",
   "version": "3.6.0"
  }
 },
 "nbformat": 4,
 "nbformat_minor": 2
}
