{
 "cells": [
  {
   "cell_type": "code",
   "execution_count": 100,
   "metadata": {
    "collapsed": true
   },
   "outputs": [],
   "source": [
    "%matplotlib inline\n",
    "import pandas as pd\n",
    "import numpy as np\n",
    "from utilities import plotting\n",
    "from utilities import stats\n",
    "from utilities import timestamps\n",
    "from utilities import import_export\n",
    "from utilities import polygon_selection\n",
    "from mpl_toolkits.basemap import Basemap\n",
    "from itertools import product\n",
    "import matplotlib.pyplot as plt\n",
    "import matplotlib\n",
    "matplotlib.style.use('seaborn-bright')"
   ]
  },
  {
   "cell_type": "code",
   "execution_count": 90,
   "metadata": {
    "collapsed": true
   },
   "outputs": [],
   "source": [
    "df = import_export.import_catalog(location='data/ccu.dat', delimiter='\\t', names=['lon', 'lat', 'decimal_year', 'month', 'day', 'mag'\n",
    "                                                        , 'depth', 'hour', 'minute', 'second', 'horizontal_error'\n",
    "                                                        , 'depth_error', 'mag_err'])\n",
    "\n",
    "noto_hanto = {'coordinates':(136.686000, 37.220667), 'time':'2007-03-25 00:41:57.909996'\n",
    "              , 'tz':'UTC', 'magnitude':6.9, 'name':'Noto Hanto', 'focal_mech':[34, 40, 108]}\n",
    "western_tottori = {'coordinates':(133.349, 35.274167), 'time':'2000-10-06 04:30:17.940011'\n",
    "                   , 'tz':'UTC', 'magnitude':6.7, 'name':'Western Tottori', 'focal_mech':[331, 83, 1]}\n",
    "sugura_bay = {'coordinates':(138.499333, 34.786167), 'time':'2009-08-10 20:07:05.740017'\n",
    "              , 'tz':'UTC', 'magnitude':6.5, 'name':'Suruga Bay', 'focal_mech':[88, 51, 63]}\n",
    "iwaki = {'coordinates':(140.672667, 36.945667), 'time':'2011-04-11 08:16:12.020008'\n",
    "         , 'tz':'UTC', 'magnitude':6.6, 'name':'Iwaki', 'focal_mech':[139    ,53   ,-75]}\n",
    "iwate_miyage = {'coordinates':(140.880667, 39.029833), 'time':'2008-06-13 23:43:45.359992'\n",
    "                , 'tz':'UTC', 'magnitude':6.8, 'name':'Iwate Miyage', 'focal_mech':[17  ,  42  , 87]}\n",
    "kumamoto = {'coordinates':(130.763, 32.7545), 'time':'2016-04-14 12:26:00'\n",
    "            , 'tz':'UTC', 'magnitude':7.0, 'name':'Kumamoto', 'focal_mech':[128  , 71 , -14]}\n",
    "tohoku = {'coordinates':(142.861000, 38.103500), 'time':'2011-03-11 05:46:18.119983'\n",
    "          , 'tz':'UTC', 'magnitude':9.0, 'name':'Tohoku-oki'}\n",
    "eqs = {'suruga-bay':sugura_bay, 'iwaki':iwaki, 'iwate-miyage':iwate_miyage\n",
    "      ,'kumamoto':kumamoto, 'noto-hanto':noto_hanto, 'western-tottori':western_tottori}"
   ]
  },
  {
   "cell_type": "code",
   "execution_count": 134,
   "metadata": {},
   "outputs": [],
   "source": [
    "data = polygon_selection.get_node_data(data=df, node=kumamoto['coordinates'], radius=50, m=1)\n",
    "data = data[data.depth <= 25]"
   ]
  },
  {
   "cell_type": "code",
   "execution_count": 135,
   "metadata": {},
   "outputs": [
    {
     "data": {
      "text/plain": [
       "<matplotlib.axes._subplots.AxesSubplot at 0x7f4a60433ef0>"
      ]
     },
     "execution_count": 135,
     "metadata": {},
     "output_type": "execute_result"
    },
    {
     "data": {
      "image/png": "[encoded data removed]",
      "text/plain": [
       "<matplotlib.figure.Figure at 0x7f4a60673940>"
      ]
     },
     "metadata": {},
     "output_type": "display_data"
    }
   ],
   "source": [
    "data.mag.hist(bins=100, log=True)"
   ]
  },
  {
   "cell_type": "code",
   "execution_count": 136,
   "metadata": {},
   "outputs": [],
   "source": [
    "magnitude_cutoff = sorted(data.mag.unique())"
   ]
  },
  {
   "cell_type": "code",
   "execution_count": 141,
   "metadata": {},
   "outputs": [
    {
     "name": "stderr",
     "output_type": "stream",
     "text": [
      "/home/max/anaconda2/envs/research/lib/python3.5/site-packages/ipykernel_launcher.py:2: DeprecationWarning: object of type <class 'numpy.float64'> cannot be safely interpreted as an integer.\n",
      "  \n"
     ]
    }
   ],
   "source": [
    "cutoff =  sorted(data.mag.unique())[0]\n",
    "bins = np.linspace(cutoff, 10.0, (10. - cutoff)/0.1 + 1)\n",
    "data_with_cutoff = data[data.mag >= cutoff]\n",
    "\n",
    "a, b, bstd, n = stats.fmd_values(data_with_cutoff.mag)\n",
    "\n",
    "hist, edges = np.histogram(a=data.mag.values,  bins=bins)\n",
    "chist = np.cumsum(hist[::-1])"
   ]
  },
  {
   "cell_type": "code",
   "execution_count": 142,
   "metadata": {},
   "outputs": [
    {
     "name": "stderr",
     "output_type": "stream",
     "text": [
      "/home/max/anaconda2/envs/research/lib/python3.5/site-packages/ipykernel_launcher.py:3: DeprecationWarning: object of type <class 'numpy.float64'> cannot be safely interpreted as an integer.\n",
      "  This is separate from the ipykernel package so we can avoid doing imports until\n",
      "/home/max/pymap3/utilities/stats.py:45: RuntimeWarning: invalid value encountered in true_divide\n",
      "  b_stddev = square_every_value((magnitudes - average).sum()) / (length * (length - 1))\n",
      "/home/max/pymap3/utilities/stats.py:47: RuntimeWarning: divide by zero encountered in log10\n",
      "  a_value = np.log10(length) + b_value * minimum\n"
     ]
    },
    {
     "data": {
      "text/plain": [
       "<matplotlib.collections.PolyCollection at 0x7f4a4be050f0>"
      ]
     },
     "execution_count": 142,
     "metadata": {},
     "output_type": "execute_result"
    },
    {
     "data": {
      "image/png": "[encoded data removed]",
      "text/plain": [
       "<matplotlib.figure.Figure at 0x7f4a4beceb70>"
      ]
     },
     "metadata": {},
     "output_type": "display_data"
    }
   ],
   "source": [
    "fmds = []\n",
    "cutoff_min = sorted(data.mag.unique())[0]\n",
    "cutoffs = np.linspace(cutoff_min, 10.0, (10. - cutoff_min)/0.1 + 1)\n",
    "\n",
    "\n",
    "\n",
    "for mc in cutoffs:\n",
    "    fmds.append(stats.fmd_values(data[data.mag >= mc].mag) + (mc,))\n",
    "fmds = np.array(fmds)\n",
    "bdf = pd.DataFrame(fmds, columns=['a', 'b', 'bstd', 'n', 'Mc'])\n",
    "\n",
    "fig, (ax, ax2) = plt.subplots(2,1, figsize=(12,5), sharex=True)\n",
    "bdf.plot(kind='scatter', x='Mc', y='b', ax=ax)\n",
    "ax.set_ylim(0,2)\n",
    "ax.grid(True)\n",
    "\n",
    "\n",
    "bdiff = bdf.b.diff()\n",
    "ax2.scatter(x=bdf.Mc.values, y=bdiff)\n",
    "ax2.set_ylim(-0.2, 0.2)\n",
    "ax2.grid(True)\n",
    "ax2.set_ylabel('bdiff')\n",
    "ax2.set_xlabel('Mc')\n",
    "fig.suptitle('Kumamoto')\n",
    "\n",
    "ax.fill_between([0, 2], [2,2], alpha=0.25)\n",
    "ax2.fill_between([0, 2], [-2,-2], alpha=0.25)\n",
    "ax2.fill_between([0, 2], [2,2], alpha=0.25)"
   ]
  },
  {
   "cell_type": "code",
   "execution_count": 144,
   "metadata": {},
   "outputs": [
    {
     "data": {
      "text/plain": [
       "<matplotlib.text.Annotation at 0x7f4a4bc2c668>"
      ]
     },
     "execution_count": 144,
     "metadata": {},
     "output_type": "execute_result"
    },
    {
     "data": {
      "image/png": "[encoded data removed]",
      "text/plain": [
       "<matplotlib.figure.Figure at 0x7f4a4bd0ccc0>"
      ]
     },
     "metadata": {},
     "output_type": "display_data"
    }
   ],
   "source": [
    "fig, ax = plt.subplots()\n",
    "\n",
    "ax.scatter(x=edges[:-1], y=hist, marker='s', edgecolors='black', c='None')\n",
    "ax.scatter(x=edges[::-1][:-1], y=chist, marker='^', edgecolors='black', c='red')\n",
    "ax.set_yscale('log')\n",
    "ax.set_ylim(1e0, 1.75 * 10**a)\n",
    "# ax.set_xlim(0, 10)\n",
    "\n",
    "x = np.arange(cutoff, 10, 0.01)\n",
    "y = 10**(a - b * x)\n",
    "\n",
    "ax.plot(x, y, color='red')\n",
    "\n",
    "\n",
    "ax.plot([0, 0], [1e0, 1.75*10**a], linestyle='--', color='black', alpha=0.5)\n",
    "ax.annotate('$M_c={mc}$'.format(mc=round(cutoff,2)), xy=(cutoff, 1e0), xytext=(cutoff, 5e0)\n",
    "            ,arrowprops=dict(facecolor='black', shrink=0.005\n",
    "            ,width=0.2, headwidth=8))"
   ]
  },
  {
   "cell_type": "code",
   "execution_count": 127,
   "metadata": {},
   "outputs": [
    {
     "data": {
      "text/plain": [
       "array([  4. ,   4.1,   4.2,   4.3,   4.4,   4.5,   4.6,   4.7,   4.8,\n",
       "         4.9,   5. ,   5.1,   5.2,   5.3,   5.4,   5.5,   5.6,   5.7,\n",
       "         5.8,   5.9,   6. ,   6.1,   6.2,   6.3,   6.4,   6.5,   6.6,\n",
       "         6.7,   6.8,   6.9,   7. ,   7.1,   7.2,   7.3,   7.4,   7.5,\n",
       "         7.6,   7.7,   7.8,   7.9,   8. ,   8.1,   8.2,   8.3,   8.4,\n",
       "         8.5,   8.6,   8.7,   8.8,   8.9,   9. ,   9.1,   9.2,   9.3,\n",
       "         9.4,   9.5,   9.6,   9.7,   9.8,   9.9,  10. ])"
      ]
     },
     "execution_count": 127,
     "metadata": {},
     "output_type": "execute_result"
    }
   ],
   "source": [
    "edges"
   ]
  },
  {
   "cell_type": "code",
   "execution_count": null,
   "metadata": {
    "collapsed": true
   },
   "outputs": [],
   "source": []
  }
 ],
 "metadata": {
  "kernelspec": {
   "display_name": "Python 3",
   "language": "python",
   "name": "python3"
  },
  "language_info": {
   "codemirror_mode": {
    "name": "ipython",
    "version": 3
   },
   "file_extension": ".py",
   "mimetype": "text/x-python",
   "name": "python",
   "nbconvert_exporter": "python",
   "pygments_lexer": "ipython3",
   "version": "3.5.3"
  }
 },
 "nbformat": 4,
 "nbformat_minor": 2
}
